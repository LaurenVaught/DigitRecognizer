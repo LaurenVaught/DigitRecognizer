{
  "cells": [
    {
      "cell_type": "markdown",
      "metadata": {
        "id": "view-in-github",
        "colab_type": "text"
      },
      "source": [
        "<a href=\"https://colab.research.google.com/github/LaurenVaught/DigitRecognizer/blob/main/Digit_Recognizer.ipynb\" target=\"_parent\"><img src=\"https://colab.research.google.com/assets/colab-badge.svg\" alt=\"Open In Colab\"/></a>"
      ]
    },
    {
      "cell_type": "markdown",
      "metadata": {
        "id": "SdTbDxD-wsz1"
      },
      "source": [
        "#Ingest"
      ]
    },
    {
      "cell_type": "code",
      "execution_count": null,
      "metadata": {
        "id": "cnqbJYgQMnZZ"
      },
      "outputs": [],
      "source": [
        "import numpy as np\n",
        "from numpy import arange\n",
        "import pandas as pd\n",
        "import os\n",
        "from scipy.stats import norm\n",
        "import seaborn as sns\n",
        "import matplotlib.pyplot as plt\n",
        "\n",
        "from sklearn.pipeline import Pipeline\n",
        "from sklearn.compose import ColumnTransformer\n",
        "from sklearn.preprocessing import OneHotEncoder, MinMaxScaler\n",
        "from sklearn.model_selection import train_test_split\n",
        "from sklearn.impute import SimpleImputer\n",
        "from sklearn.model_selection import GridSearchCV\n",
        "\n",
        "from sklearn.linear_model import LinearRegression\n",
        "from sklearn.ensemble import IsolationForest\n",
        "from sklearn.ensemble import RandomForestRegressor\n",
        "from sklearn.linear_model import Ridge\n",
        "from sklearn.linear_model import Lasso\n",
        "from sklearn.tree import DecisionTreeClassifier\n",
        "from sklearn.ensemble import GradientBoostingRegressor\n",
        "\n",
        "from sklearn.metrics import mean_squared_error\n",
        "from sklearn.metrics import mean_absolute_error\n",
        "from sklearn.metrics import r2_score\n",
        "from sklearn.metrics import explained_variance_score\n",
        "from sklearn.metrics import max_error\n",
        "from sklearn.metrics import mean_squared_log_error\n",
        "\n",
        "import matplotlib.gridspec as gridspec\n",
        "from datetime import datetime\n",
        "from scipy.stats import skew\n",
        "from scipy.special import boxcox1p\n",
        "from scipy.stats import boxcox_normmax\n",
        "from sklearn.linear_model import ElasticNetCV, LassoCV, RidgeCV, LinearRegression, Ridge, Lasso, ElasticNet\n",
        "from sklearn.ensemble import GradientBoostingRegressor\n",
        "from sklearn.svm import SVR\n",
        "from sklearn.pipeline import make_pipeline\n",
        "from sklearn.preprocessing import RobustScaler\n",
        "from sklearn.model_selection import KFold, cross_val_score, train_test_split, StratifiedKFold\n",
        "from sklearn.metrics import mean_squared_error, mean_absolute_error\n",
        "from imblearn.pipeline import make_pipeline as imbalanced_make_pipeline\n",
        "from imblearn.over_sampling import SMOTE\n",
        "from sklearn.model_selection import KFold, cross_validate\n",
        "from sklearn.metrics import recall_score, f1_score, roc_auc_score\n",
        "from imblearn.pipeline import make_pipeline as imbalanced_make_pipeline\n",
        "from sklearn.metrics import precision_recall_curve, average_precision_score\n",
        "from sklearn.model_selection import RepeatedStratifiedKFold, StratifiedKFold\n",
        "from sklearn.metrics import confusion_matrix, accuracy_score, precision_score\n",
        "from sklearn.ensemble import RandomForestClassifier\n",
        "from sklearn.model_selection import RandomizedSearchCV\n",
        "#from mlxtend.regressor import StackingCVRegressor\n",
        "from xgboost import XGBRegressor\n",
        "import xgboost as xg\n",
        "#from lightgbm import LGBMRegressor\n",
        "import matplotlib.pyplot as plt\n",
        "import scipy.stats as stats\n",
        "import sklearn.linear_model as linear_model\n",
        "import matplotlib.style as style\n",
        "import seaborn as sns\n",
        "from sklearn.manifold import TSNE\n",
        "from sklearn.cluster import KMeans\n",
        "from sklearn.decomposition import PCA\n",
        "from sklearn.preprocessing import StandardScaler\n",
        "\n"
      ]
    },
    {
      "cell_type": "code",
      "execution_count": null,
      "metadata": {
        "id": "j28ai_johpYy"
      },
      "outputs": [],
      "source": [
        "import pandas as pd\n",
        "import numpy as np\n",
        "import matplotlib.pyplot as plt\n",
        "import matplotlib.image as mpimg\n",
        "import seaborn as sns\n",
        "%matplotlib inline\n",
        "\n",
        "np.random.seed(2)\n",
        "\n",
        "from sklearn.model_selection import train_test_split\n",
        "from sklearn.metrics import confusion_matrix\n",
        "import itertools\n",
        "\n",
        "from keras.utils.np_utils import to_categorical # convert to one-hot-encoding\n",
        "from keras.models import Sequential\n",
        "from keras.layers import Dense, Dropout, Flatten, Conv2D, MaxPool2D\n",
        "#from keras.optimizers import RMSprop\n",
        "from keras.preprocessing.image import ImageDataGenerator\n",
        "from keras.callbacks import ReduceLROnPlateau\n",
        "\n",
        "\n",
        "sns.set(style='white', context='notebook', palette='deep')"
      ]
    },
    {
      "cell_type": "code",
      "execution_count": null,
      "metadata": {
        "colab": {
          "base_uri": "https://localhost:8080/",
          "height": 17
        },
        "id": "l15GSGI_tzVX",
        "outputId": "a922f8af-bc92-42b6-acad-c56a8d9e4c9c"
      },
      "outputs": [
        {
          "output_type": "display_data",
          "data": {
            "text/html": [
              "        <script type=\"text/javascript\">\n",
              "        window.PlotlyConfig = {MathJaxConfig: 'local'};\n",
              "        if (window.MathJax) {MathJax.Hub.Config({SVG: {font: \"STIX-Web\"}});}\n",
              "        if (typeof require !== 'undefined') {\n",
              "        require.undef(\"plotly\");\n",
              "        requirejs.config({\n",
              "            paths: {\n",
              "                'plotly': ['https://cdn.plot.ly/plotly-2.8.3.min']\n",
              "            }\n",
              "        });\n",
              "        require(['plotly'], function(Plotly) {\n",
              "            window._Plotly = Plotly;\n",
              "        });\n",
              "        }\n",
              "        </script>\n",
              "        "
            ]
          },
          "metadata": {}
        }
      ],
      "source": [
        "import numpy as np # linear algebra\n",
        "import pandas as pd # data processing, CSV file I/O (e.g. pd.read_csv)\n",
        "\n",
        "import plotly.offline as py\n",
        "py.init_notebook_mode(connected=True)\n",
        "import plotly.graph_objs as go\n",
        "import plotly.tools as tls\n",
        "import seaborn as sns\n",
        "import matplotlib.image as mpimg\n",
        "import matplotlib.pyplot as plt\n",
        "import matplotlib\n",
        "%matplotlib inline\n",
        "\n",
        "# Import the 3 dimensionality reduction methods\n",
        "from sklearn.manifold import TSNE\n",
        "from sklearn.decomposition import PCA\n",
        "from sklearn.discriminant_analysis import LinearDiscriminantAnalysis as LDA"
      ]
    },
    {
      "cell_type": "code",
      "execution_count": null,
      "metadata": {
        "colab": {
          "base_uri": "https://localhost:8080/"
        },
        "id": "X3XADDAHiE9m",
        "outputId": "8b750dc0-f5fc-4cdf-98f9-a57ef1fbf42f"
      },
      "outputs": [
        {
          "output_type": "stream",
          "name": "stdout",
          "text": [
            "Populating the interactive namespace from numpy and matplotlib\n"
          ]
        },
        {
          "output_type": "stream",
          "name": "stderr",
          "text": [
            "/usr/local/lib/python3.7/dist-packages/IPython/core/magics/pylab.py:161: UserWarning:\n",
            "\n",
            "pylab import has clobbered these variables: ['datetime', 'norm']\n",
            "`%matplotlib` prevents importing * from pylab and numpy\n",
            "\n"
          ]
        }
      ],
      "source": [
        "# load the modules\n",
        "\n",
        "import numpy as np\n",
        "import pandas as pd\n",
        "import seaborn as sb\n",
        "sb.set_style(\"dark\")\n",
        "import matplotlib.pyplot as plt\n",
        "\n",
        "from sklearn.ensemble import RandomForestClassifier\n",
        "from sklearn.model_selection import train_test_split\n",
        "from sklearn.neighbors import KNeighborsClassifier\n",
        "from sklearn.decomposition import PCA\n",
        "\n",
        "%pylab inline"
      ]
    },
    {
      "cell_type": "code",
      "execution_count": null,
      "metadata": {
        "id": "3KTSQHjlMauh"
      },
      "outputs": [],
      "source": [
        "#upload from raw link on github\n",
        "samplesubmission= pd.read_csv('https://raw.githubusercontent.com/LaurenVaught/DigitRecognizer/main/sample_submission.csv') \n",
        "train = pd.read_csv('https://raw.githubusercontent.com/LaurenVaught/DigitRecognizer/main/train.csv.zip') \n",
        "test = pd.read_csv('https://raw.githubusercontent.com/LaurenVaught/DigitRecognizer/main/test.csv.zip')\n"
      ]
    },
    {
      "cell_type": "markdown",
      "metadata": {
        "id": "4b82L3gF1hwg"
      },
      "source": [
        "#EDA"
      ]
    },
    {
      "cell_type": "code",
      "execution_count": null,
      "metadata": {
        "colab": {
          "base_uri": "https://localhost:8080/"
        },
        "id": "Q1sQEpIOXzTZ",
        "outputId": "cc05c69e-b57f-4500-b4ed-5bf6e757d4c1"
      },
      "outputs": [
        {
          "output_type": "execute_result",
          "data": {
            "text/plain": [
              "(42000, 785)"
            ]
          },
          "metadata": {},
          "execution_count": 3
        }
      ],
      "source": [
        "train.shape"
      ]
    },
    {
      "cell_type": "code",
      "execution_count": null,
      "metadata": {
        "colab": {
          "base_uri": "https://localhost:8080/"
        },
        "id": "03jkkmVYt5GW",
        "outputId": "092ea3c9-8f03-423d-f3a2-daf9545155fc"
      },
      "outputs": [
        {
          "output_type": "execute_result",
          "data": {
            "text/plain": [
              "(28000, 784)"
            ]
          },
          "metadata": {},
          "execution_count": 4
        }
      ],
      "source": [
        "test.shape"
      ]
    },
    {
      "cell_type": "code",
      "execution_count": null,
      "metadata": {
        "colab": {
          "base_uri": "https://localhost:8080/",
          "height": 300
        },
        "id": "gOy8GfeQX51l",
        "outputId": "c4874eed-bae1-4fc8-ee47-b3f9713f4d1b"
      },
      "outputs": [
        {
          "output_type": "execute_result",
          "data": {
            "text/html": [
              "\n",
              "  <div id=\"df-db44636f-beae-43f9-b9f9-f6d5d3521934\">\n",
              "    <div class=\"colab-df-container\">\n",
              "      <div>\n",
              "<style scoped>\n",
              "    .dataframe tbody tr th:only-of-type {\n",
              "        vertical-align: middle;\n",
              "    }\n",
              "\n",
              "    .dataframe tbody tr th {\n",
              "        vertical-align: top;\n",
              "    }\n",
              "\n",
              "    .dataframe thead th {\n",
              "        text-align: right;\n",
              "    }\n",
              "</style>\n",
              "<table border=\"1\" class=\"dataframe\">\n",
              "  <thead>\n",
              "    <tr style=\"text-align: right;\">\n",
              "      <th></th>\n",
              "      <th>label</th>\n",
              "      <th>pixel0</th>\n",
              "      <th>pixel1</th>\n",
              "      <th>pixel2</th>\n",
              "      <th>pixel3</th>\n",
              "      <th>pixel4</th>\n",
              "      <th>pixel5</th>\n",
              "      <th>pixel6</th>\n",
              "      <th>pixel7</th>\n",
              "      <th>pixel8</th>\n",
              "      <th>pixel9</th>\n",
              "      <th>pixel10</th>\n",
              "      <th>pixel11</th>\n",
              "      <th>pixel12</th>\n",
              "      <th>pixel13</th>\n",
              "      <th>pixel14</th>\n",
              "      <th>pixel15</th>\n",
              "      <th>pixel16</th>\n",
              "      <th>pixel17</th>\n",
              "      <th>pixel18</th>\n",
              "      <th>pixel19</th>\n",
              "      <th>pixel20</th>\n",
              "      <th>pixel21</th>\n",
              "      <th>pixel22</th>\n",
              "      <th>pixel23</th>\n",
              "      <th>pixel24</th>\n",
              "      <th>pixel25</th>\n",
              "      <th>pixel26</th>\n",
              "      <th>pixel27</th>\n",
              "      <th>pixel28</th>\n",
              "      <th>pixel29</th>\n",
              "      <th>pixel30</th>\n",
              "      <th>pixel31</th>\n",
              "      <th>pixel32</th>\n",
              "      <th>pixel33</th>\n",
              "      <th>pixel34</th>\n",
              "      <th>pixel35</th>\n",
              "      <th>pixel36</th>\n",
              "      <th>pixel37</th>\n",
              "      <th>pixel38</th>\n",
              "      <th>...</th>\n",
              "      <th>pixel744</th>\n",
              "      <th>pixel745</th>\n",
              "      <th>pixel746</th>\n",
              "      <th>pixel747</th>\n",
              "      <th>pixel748</th>\n",
              "      <th>pixel749</th>\n",
              "      <th>pixel750</th>\n",
              "      <th>pixel751</th>\n",
              "      <th>pixel752</th>\n",
              "      <th>pixel753</th>\n",
              "      <th>pixel754</th>\n",
              "      <th>pixel755</th>\n",
              "      <th>pixel756</th>\n",
              "      <th>pixel757</th>\n",
              "      <th>pixel758</th>\n",
              "      <th>pixel759</th>\n",
              "      <th>pixel760</th>\n",
              "      <th>pixel761</th>\n",
              "      <th>pixel762</th>\n",
              "      <th>pixel763</th>\n",
              "      <th>pixel764</th>\n",
              "      <th>pixel765</th>\n",
              "      <th>pixel766</th>\n",
              "      <th>pixel767</th>\n",
              "      <th>pixel768</th>\n",
              "      <th>pixel769</th>\n",
              "      <th>pixel770</th>\n",
              "      <th>pixel771</th>\n",
              "      <th>pixel772</th>\n",
              "      <th>pixel773</th>\n",
              "      <th>pixel774</th>\n",
              "      <th>pixel775</th>\n",
              "      <th>pixel776</th>\n",
              "      <th>pixel777</th>\n",
              "      <th>pixel778</th>\n",
              "      <th>pixel779</th>\n",
              "      <th>pixel780</th>\n",
              "      <th>pixel781</th>\n",
              "      <th>pixel782</th>\n",
              "      <th>pixel783</th>\n",
              "    </tr>\n",
              "  </thead>\n",
              "  <tbody>\n",
              "    <tr>\n",
              "      <th>0</th>\n",
              "      <td>1</td>\n",
              "      <td>0</td>\n",
              "      <td>0</td>\n",
              "      <td>0</td>\n",
              "      <td>0</td>\n",
              "      <td>0</td>\n",
              "      <td>0</td>\n",
              "      <td>0</td>\n",
              "      <td>0</td>\n",
              "      <td>0</td>\n",
              "      <td>0</td>\n",
              "      <td>0</td>\n",
              "      <td>0</td>\n",
              "      <td>0</td>\n",
              "      <td>0</td>\n",
              "      <td>0</td>\n",
              "      <td>0</td>\n",
              "      <td>0</td>\n",
              "      <td>0</td>\n",
              "      <td>0</td>\n",
              "      <td>0</td>\n",
              "      <td>0</td>\n",
              "      <td>0</td>\n",
              "      <td>0</td>\n",
              "      <td>0</td>\n",
              "      <td>0</td>\n",
              "      <td>0</td>\n",
              "      <td>0</td>\n",
              "      <td>0</td>\n",
              "      <td>0</td>\n",
              "      <td>0</td>\n",
              "      <td>0</td>\n",
              "      <td>0</td>\n",
              "      <td>0</td>\n",
              "      <td>0</td>\n",
              "      <td>0</td>\n",
              "      <td>0</td>\n",
              "      <td>0</td>\n",
              "      <td>0</td>\n",
              "      <td>0</td>\n",
              "      <td>...</td>\n",
              "      <td>0</td>\n",
              "      <td>0</td>\n",
              "      <td>0</td>\n",
              "      <td>0</td>\n",
              "      <td>0</td>\n",
              "      <td>0</td>\n",
              "      <td>0</td>\n",
              "      <td>0</td>\n",
              "      <td>0</td>\n",
              "      <td>0</td>\n",
              "      <td>0</td>\n",
              "      <td>0</td>\n",
              "      <td>0</td>\n",
              "      <td>0</td>\n",
              "      <td>0</td>\n",
              "      <td>0</td>\n",
              "      <td>0</td>\n",
              "      <td>0</td>\n",
              "      <td>0</td>\n",
              "      <td>0</td>\n",
              "      <td>0</td>\n",
              "      <td>0</td>\n",
              "      <td>0</td>\n",
              "      <td>0</td>\n",
              "      <td>0</td>\n",
              "      <td>0</td>\n",
              "      <td>0</td>\n",
              "      <td>0</td>\n",
              "      <td>0</td>\n",
              "      <td>0</td>\n",
              "      <td>0</td>\n",
              "      <td>0</td>\n",
              "      <td>0</td>\n",
              "      <td>0</td>\n",
              "      <td>0</td>\n",
              "      <td>0</td>\n",
              "      <td>0</td>\n",
              "      <td>0</td>\n",
              "      <td>0</td>\n",
              "      <td>0</td>\n",
              "    </tr>\n",
              "    <tr>\n",
              "      <th>1</th>\n",
              "      <td>0</td>\n",
              "      <td>0</td>\n",
              "      <td>0</td>\n",
              "      <td>0</td>\n",
              "      <td>0</td>\n",
              "      <td>0</td>\n",
              "      <td>0</td>\n",
              "      <td>0</td>\n",
              "      <td>0</td>\n",
              "      <td>0</td>\n",
              "      <td>0</td>\n",
              "      <td>0</td>\n",
              "      <td>0</td>\n",
              "      <td>0</td>\n",
              "      <td>0</td>\n",
              "      <td>0</td>\n",
              "      <td>0</td>\n",
              "      <td>0</td>\n",
              "      <td>0</td>\n",
              "      <td>0</td>\n",
              "      <td>0</td>\n",
              "      <td>0</td>\n",
              "      <td>0</td>\n",
              "      <td>0</td>\n",
              "      <td>0</td>\n",
              "      <td>0</td>\n",
              "      <td>0</td>\n",
              "      <td>0</td>\n",
              "      <td>0</td>\n",
              "      <td>0</td>\n",
              "      <td>0</td>\n",
              "      <td>0</td>\n",
              "      <td>0</td>\n",
              "      <td>0</td>\n",
              "      <td>0</td>\n",
              "      <td>0</td>\n",
              "      <td>0</td>\n",
              "      <td>0</td>\n",
              "      <td>0</td>\n",
              "      <td>0</td>\n",
              "      <td>...</td>\n",
              "      <td>0</td>\n",
              "      <td>0</td>\n",
              "      <td>0</td>\n",
              "      <td>0</td>\n",
              "      <td>0</td>\n",
              "      <td>0</td>\n",
              "      <td>0</td>\n",
              "      <td>0</td>\n",
              "      <td>0</td>\n",
              "      <td>0</td>\n",
              "      <td>0</td>\n",
              "      <td>0</td>\n",
              "      <td>0</td>\n",
              "      <td>0</td>\n",
              "      <td>0</td>\n",
              "      <td>0</td>\n",
              "      <td>0</td>\n",
              "      <td>0</td>\n",
              "      <td>0</td>\n",
              "      <td>0</td>\n",
              "      <td>0</td>\n",
              "      <td>0</td>\n",
              "      <td>0</td>\n",
              "      <td>0</td>\n",
              "      <td>0</td>\n",
              "      <td>0</td>\n",
              "      <td>0</td>\n",
              "      <td>0</td>\n",
              "      <td>0</td>\n",
              "      <td>0</td>\n",
              "      <td>0</td>\n",
              "      <td>0</td>\n",
              "      <td>0</td>\n",
              "      <td>0</td>\n",
              "      <td>0</td>\n",
              "      <td>0</td>\n",
              "      <td>0</td>\n",
              "      <td>0</td>\n",
              "      <td>0</td>\n",
              "      <td>0</td>\n",
              "    </tr>\n",
              "    <tr>\n",
              "      <th>2</th>\n",
              "      <td>1</td>\n",
              "      <td>0</td>\n",
              "      <td>0</td>\n",
              "      <td>0</td>\n",
              "      <td>0</td>\n",
              "      <td>0</td>\n",
              "      <td>0</td>\n",
              "      <td>0</td>\n",
              "      <td>0</td>\n",
              "      <td>0</td>\n",
              "      <td>0</td>\n",
              "      <td>0</td>\n",
              "      <td>0</td>\n",
              "      <td>0</td>\n",
              "      <td>0</td>\n",
              "      <td>0</td>\n",
              "      <td>0</td>\n",
              "      <td>0</td>\n",
              "      <td>0</td>\n",
              "      <td>0</td>\n",
              "      <td>0</td>\n",
              "      <td>0</td>\n",
              "      <td>0</td>\n",
              "      <td>0</td>\n",
              "      <td>0</td>\n",
              "      <td>0</td>\n",
              "      <td>0</td>\n",
              "      <td>0</td>\n",
              "      <td>0</td>\n",
              "      <td>0</td>\n",
              "      <td>0</td>\n",
              "      <td>0</td>\n",
              "      <td>0</td>\n",
              "      <td>0</td>\n",
              "      <td>0</td>\n",
              "      <td>0</td>\n",
              "      <td>0</td>\n",
              "      <td>0</td>\n",
              "      <td>0</td>\n",
              "      <td>0</td>\n",
              "      <td>...</td>\n",
              "      <td>0</td>\n",
              "      <td>0</td>\n",
              "      <td>0</td>\n",
              "      <td>0</td>\n",
              "      <td>0</td>\n",
              "      <td>0</td>\n",
              "      <td>0</td>\n",
              "      <td>0</td>\n",
              "      <td>0</td>\n",
              "      <td>0</td>\n",
              "      <td>0</td>\n",
              "      <td>0</td>\n",
              "      <td>0</td>\n",
              "      <td>0</td>\n",
              "      <td>0</td>\n",
              "      <td>0</td>\n",
              "      <td>0</td>\n",
              "      <td>0</td>\n",
              "      <td>0</td>\n",
              "      <td>0</td>\n",
              "      <td>0</td>\n",
              "      <td>0</td>\n",
              "      <td>0</td>\n",
              "      <td>0</td>\n",
              "      <td>0</td>\n",
              "      <td>0</td>\n",
              "      <td>0</td>\n",
              "      <td>0</td>\n",
              "      <td>0</td>\n",
              "      <td>0</td>\n",
              "      <td>0</td>\n",
              "      <td>0</td>\n",
              "      <td>0</td>\n",
              "      <td>0</td>\n",
              "      <td>0</td>\n",
              "      <td>0</td>\n",
              "      <td>0</td>\n",
              "      <td>0</td>\n",
              "      <td>0</td>\n",
              "      <td>0</td>\n",
              "    </tr>\n",
              "    <tr>\n",
              "      <th>3</th>\n",
              "      <td>4</td>\n",
              "      <td>0</td>\n",
              "      <td>0</td>\n",
              "      <td>0</td>\n",
              "      <td>0</td>\n",
              "      <td>0</td>\n",
              "      <td>0</td>\n",
              "      <td>0</td>\n",
              "      <td>0</td>\n",
              "      <td>0</td>\n",
              "      <td>0</td>\n",
              "      <td>0</td>\n",
              "      <td>0</td>\n",
              "      <td>0</td>\n",
              "      <td>0</td>\n",
              "      <td>0</td>\n",
              "      <td>0</td>\n",
              "      <td>0</td>\n",
              "      <td>0</td>\n",
              "      <td>0</td>\n",
              "      <td>0</td>\n",
              "      <td>0</td>\n",
              "      <td>0</td>\n",
              "      <td>0</td>\n",
              "      <td>0</td>\n",
              "      <td>0</td>\n",
              "      <td>0</td>\n",
              "      <td>0</td>\n",
              "      <td>0</td>\n",
              "      <td>0</td>\n",
              "      <td>0</td>\n",
              "      <td>0</td>\n",
              "      <td>0</td>\n",
              "      <td>0</td>\n",
              "      <td>0</td>\n",
              "      <td>0</td>\n",
              "      <td>0</td>\n",
              "      <td>0</td>\n",
              "      <td>0</td>\n",
              "      <td>0</td>\n",
              "      <td>...</td>\n",
              "      <td>0</td>\n",
              "      <td>0</td>\n",
              "      <td>0</td>\n",
              "      <td>0</td>\n",
              "      <td>0</td>\n",
              "      <td>0</td>\n",
              "      <td>0</td>\n",
              "      <td>0</td>\n",
              "      <td>0</td>\n",
              "      <td>0</td>\n",
              "      <td>0</td>\n",
              "      <td>0</td>\n",
              "      <td>0</td>\n",
              "      <td>0</td>\n",
              "      <td>0</td>\n",
              "      <td>0</td>\n",
              "      <td>0</td>\n",
              "      <td>0</td>\n",
              "      <td>0</td>\n",
              "      <td>0</td>\n",
              "      <td>0</td>\n",
              "      <td>0</td>\n",
              "      <td>0</td>\n",
              "      <td>0</td>\n",
              "      <td>0</td>\n",
              "      <td>0</td>\n",
              "      <td>0</td>\n",
              "      <td>0</td>\n",
              "      <td>0</td>\n",
              "      <td>0</td>\n",
              "      <td>0</td>\n",
              "      <td>0</td>\n",
              "      <td>0</td>\n",
              "      <td>0</td>\n",
              "      <td>0</td>\n",
              "      <td>0</td>\n",
              "      <td>0</td>\n",
              "      <td>0</td>\n",
              "      <td>0</td>\n",
              "      <td>0</td>\n",
              "    </tr>\n",
              "    <tr>\n",
              "      <th>4</th>\n",
              "      <td>0</td>\n",
              "      <td>0</td>\n",
              "      <td>0</td>\n",
              "      <td>0</td>\n",
              "      <td>0</td>\n",
              "      <td>0</td>\n",
              "      <td>0</td>\n",
              "      <td>0</td>\n",
              "      <td>0</td>\n",
              "      <td>0</td>\n",
              "      <td>0</td>\n",
              "      <td>0</td>\n",
              "      <td>0</td>\n",
              "      <td>0</td>\n",
              "      <td>0</td>\n",
              "      <td>0</td>\n",
              "      <td>0</td>\n",
              "      <td>0</td>\n",
              "      <td>0</td>\n",
              "      <td>0</td>\n",
              "      <td>0</td>\n",
              "      <td>0</td>\n",
              "      <td>0</td>\n",
              "      <td>0</td>\n",
              "      <td>0</td>\n",
              "      <td>0</td>\n",
              "      <td>0</td>\n",
              "      <td>0</td>\n",
              "      <td>0</td>\n",
              "      <td>0</td>\n",
              "      <td>0</td>\n",
              "      <td>0</td>\n",
              "      <td>0</td>\n",
              "      <td>0</td>\n",
              "      <td>0</td>\n",
              "      <td>0</td>\n",
              "      <td>0</td>\n",
              "      <td>0</td>\n",
              "      <td>0</td>\n",
              "      <td>0</td>\n",
              "      <td>...</td>\n",
              "      <td>0</td>\n",
              "      <td>0</td>\n",
              "      <td>0</td>\n",
              "      <td>0</td>\n",
              "      <td>0</td>\n",
              "      <td>0</td>\n",
              "      <td>0</td>\n",
              "      <td>0</td>\n",
              "      <td>0</td>\n",
              "      <td>0</td>\n",
              "      <td>0</td>\n",
              "      <td>0</td>\n",
              "      <td>0</td>\n",
              "      <td>0</td>\n",
              "      <td>0</td>\n",
              "      <td>0</td>\n",
              "      <td>0</td>\n",
              "      <td>0</td>\n",
              "      <td>0</td>\n",
              "      <td>0</td>\n",
              "      <td>0</td>\n",
              "      <td>0</td>\n",
              "      <td>0</td>\n",
              "      <td>0</td>\n",
              "      <td>0</td>\n",
              "      <td>0</td>\n",
              "      <td>0</td>\n",
              "      <td>0</td>\n",
              "      <td>0</td>\n",
              "      <td>0</td>\n",
              "      <td>0</td>\n",
              "      <td>0</td>\n",
              "      <td>0</td>\n",
              "      <td>0</td>\n",
              "      <td>0</td>\n",
              "      <td>0</td>\n",
              "      <td>0</td>\n",
              "      <td>0</td>\n",
              "      <td>0</td>\n",
              "      <td>0</td>\n",
              "    </tr>\n",
              "  </tbody>\n",
              "</table>\n",
              "<p>5 rows × 785 columns</p>\n",
              "</div>\n",
              "      <button class=\"colab-df-convert\" onclick=\"convertToInteractive('df-db44636f-beae-43f9-b9f9-f6d5d3521934')\"\n",
              "              title=\"Convert this dataframe to an interactive table.\"\n",
              "              style=\"display:none;\">\n",
              "        \n",
              "  <svg xmlns=\"http://www.w3.org/2000/svg\" height=\"24px\"viewBox=\"0 0 24 24\"\n",
              "       width=\"24px\">\n",
              "    <path d=\"M0 0h24v24H0V0z\" fill=\"none\"/>\n",
              "    <path d=\"M18.56 5.44l.94 2.06.94-2.06 2.06-.94-2.06-.94-.94-2.06-.94 2.06-2.06.94zm-11 1L8.5 8.5l.94-2.06 2.06-.94-2.06-.94L8.5 2.5l-.94 2.06-2.06.94zm10 10l.94 2.06.94-2.06 2.06-.94-2.06-.94-.94-2.06-.94 2.06-2.06.94z\"/><path d=\"M17.41 7.96l-1.37-1.37c-.4-.4-.92-.59-1.43-.59-.52 0-1.04.2-1.43.59L10.3 9.45l-7.72 7.72c-.78.78-.78 2.05 0 2.83L4 21.41c.39.39.9.59 1.41.59.51 0 1.02-.2 1.41-.59l7.78-7.78 2.81-2.81c.8-.78.8-2.07 0-2.86zM5.41 20L4 18.59l7.72-7.72 1.47 1.35L5.41 20z\"/>\n",
              "  </svg>\n",
              "      </button>\n",
              "      \n",
              "  <style>\n",
              "    .colab-df-container {\n",
              "      display:flex;\n",
              "      flex-wrap:wrap;\n",
              "      gap: 12px;\n",
              "    }\n",
              "\n",
              "    .colab-df-convert {\n",
              "      background-color: #E8F0FE;\n",
              "      border: none;\n",
              "      border-radius: 50%;\n",
              "      cursor: pointer;\n",
              "      display: none;\n",
              "      fill: #1967D2;\n",
              "      height: 32px;\n",
              "      padding: 0 0 0 0;\n",
              "      width: 32px;\n",
              "    }\n",
              "\n",
              "    .colab-df-convert:hover {\n",
              "      background-color: #E2EBFA;\n",
              "      box-shadow: 0px 1px 2px rgba(60, 64, 67, 0.3), 0px 1px 3px 1px rgba(60, 64, 67, 0.15);\n",
              "      fill: #174EA6;\n",
              "    }\n",
              "\n",
              "    [theme=dark] .colab-df-convert {\n",
              "      background-color: #3B4455;\n",
              "      fill: #D2E3FC;\n",
              "    }\n",
              "\n",
              "    [theme=dark] .colab-df-convert:hover {\n",
              "      background-color: #434B5C;\n",
              "      box-shadow: 0px 1px 3px 1px rgba(0, 0, 0, 0.15);\n",
              "      filter: drop-shadow(0px 1px 2px rgba(0, 0, 0, 0.3));\n",
              "      fill: #FFFFFF;\n",
              "    }\n",
              "  </style>\n",
              "\n",
              "      <script>\n",
              "        const buttonEl =\n",
              "          document.querySelector('#df-db44636f-beae-43f9-b9f9-f6d5d3521934 button.colab-df-convert');\n",
              "        buttonEl.style.display =\n",
              "          google.colab.kernel.accessAllowed ? 'block' : 'none';\n",
              "\n",
              "        async function convertToInteractive(key) {\n",
              "          const element = document.querySelector('#df-db44636f-beae-43f9-b9f9-f6d5d3521934');\n",
              "          const dataTable =\n",
              "            await google.colab.kernel.invokeFunction('convertToInteractive',\n",
              "                                                     [key], {});\n",
              "          if (!dataTable) return;\n",
              "\n",
              "          const docLinkHtml = 'Like what you see? Visit the ' +\n",
              "            '<a target=\"_blank\" href=https://colab.research.google.com/notebooks/data_table.ipynb>data table notebook</a>'\n",
              "            + ' to learn more about interactive tables.';\n",
              "          element.innerHTML = '';\n",
              "          dataTable['output_type'] = 'display_data';\n",
              "          await google.colab.output.renderOutput(dataTable, element);\n",
              "          const docLink = document.createElement('div');\n",
              "          docLink.innerHTML = docLinkHtml;\n",
              "          element.appendChild(docLink);\n",
              "        }\n",
              "      </script>\n",
              "    </div>\n",
              "  </div>\n",
              "  "
            ],
            "text/plain": [
              "   label  pixel0  pixel1  pixel2  ...  pixel780  pixel781  pixel782  pixel783\n",
              "0      1       0       0       0  ...         0         0         0         0\n",
              "1      0       0       0       0  ...         0         0         0         0\n",
              "2      1       0       0       0  ...         0         0         0         0\n",
              "3      4       0       0       0  ...         0         0         0         0\n",
              "4      0       0       0       0  ...         0         0         0         0\n",
              "\n",
              "[5 rows x 785 columns]"
            ]
          },
          "metadata": {},
          "execution_count": 5
        }
      ],
      "source": [
        "train.head()"
      ]
    },
    {
      "cell_type": "code",
      "execution_count": null,
      "metadata": {
        "colab": {
          "base_uri": "https://localhost:8080/"
        },
        "id": "V27WeRF9YABr",
        "outputId": "7ec768a3-c7ee-4ca1-ac23-10864039f82a"
      },
      "outputs": [
        {
          "output_type": "stream",
          "name": "stdout",
          "text": [
            "<class 'pandas.core.frame.DataFrame'>\n",
            "RangeIndex: 42000 entries, 0 to 41999\n",
            "Columns: 785 entries, label to pixel783\n",
            "dtypes: int64(785)\n",
            "memory usage: 251.5 MB\n"
          ]
        }
      ],
      "source": [
        "train.info()"
      ]
    },
    {
      "cell_type": "code",
      "execution_count": null,
      "metadata": {
        "colab": {
          "base_uri": "https://localhost:8080/"
        },
        "id": "Bz4suNIkbZSV",
        "outputId": "ee330f74-da8b-453f-8372-5406296d34c0"
      },
      "outputs": [
        {
          "output_type": "execute_result",
          "data": {
            "text/plain": [
              "False"
            ]
          },
          "metadata": {},
          "execution_count": 7
        }
      ],
      "source": [
        "train.isna().any().any()"
      ]
    },
    {
      "cell_type": "markdown",
      "source": [
        "There are no missing values."
      ],
      "metadata": {
        "id": "M9ZaO91peqoD"
      }
    },
    {
      "cell_type": "code",
      "execution_count": null,
      "metadata": {
        "id": "iHYFzF_gVSwr",
        "colab": {
          "base_uri": "https://localhost:8080/",
          "height": 376
        },
        "outputId": "35c42e87-1ced-4b6d-f200-7c8c44948b2e"
      },
      "outputs": [
        {
          "output_type": "stream",
          "name": "stderr",
          "text": [
            "/usr/local/lib/python3.7/dist-packages/seaborn/_decorators.py:43: FutureWarning:\n",
            "\n",
            "Pass the following variable as a keyword arg: x. From version 0.12, the only valid positional argument will be `data`, and passing other arguments without an explicit keyword will result in an error or misinterpretation.\n",
            "\n"
          ]
        },
        {
          "output_type": "display_data",
          "data": {
            "image/png": "[encoded data removed]",
            "text/plain": [
              "<Figure size 432x288 with 1 Axes>"
            ]
          },
          "metadata": {
            "needs_background": "light"
          }
        }
      ],
      "source": [
        "#split into train and test sets\n",
        "\n",
        "X = train.drop(columns=['label'], axis=1)\n",
        "y = train['label']\n",
        "\n",
        "X_train, X_test, y_train, y_test = train_test_split(X, y, train_size=.80, random_state=8)\n",
        "\n",
        "X_train = pd.DataFrame(X_train, columns=X.columns)\n",
        "X_test = pd.DataFrame(X_test, columns=X.columns)\n",
        "\n",
        "g= sns.countplot(y_train)"
      ]
    },
    {
      "cell_type": "markdown",
      "metadata": {
        "id": "1eTefM2VUOYc"
      },
      "source": [
        "#Random Forest Classifier"
      ]
    },
    {
      "cell_type": "code",
      "execution_count": null,
      "metadata": {
        "colab": {
          "base_uri": "https://localhost:8080/"
        },
        "id": "Evw-nzpuUOFZ",
        "outputId": "94848087-9fa5-498c-e980-7f0f4c1ce9fe"
      },
      "outputs": [
        {
          "output_type": "stream",
          "name": "stdout",
          "text": [
            "confusion matrix:\n",
            " [[833   0   2   0   1   2   6   0   7   1]\n",
            " [  0 935   5   0   1   0   0   3   3   2]\n",
            " [  4   2 790   1   4   2   1   6   7   0]\n",
            " [  3   0  13 810   1  23   1   5   9   5]\n",
            " [  2   1   2   0 734   0   5   0   4  15]\n",
            " [  3   0   2  13   3 708   6   1   7   2]\n",
            " [  4   1   0   0   3   7 832   0   2   0]\n",
            " [  1   6  12   0   3   0   0 852   6  11]\n",
            " [  2   4   4   7   4   6   4   2 772  13]\n",
            " [  2   2   2  13  20   1   1   8   4 793]]\n",
            "accuracy score =  0.9594047619047619\n",
            "Classification Report: \n",
            "               precision    recall  f1-score   support\n",
            "\n",
            "           0       0.98      0.98      0.98       852\n",
            "           1       0.98      0.99      0.98       949\n",
            "           2       0.95      0.97      0.96       817\n",
            "           3       0.96      0.93      0.95       870\n",
            "           4       0.95      0.96      0.96       763\n",
            "           5       0.95      0.95      0.95       745\n",
            "           6       0.97      0.98      0.98       849\n",
            "           7       0.97      0.96      0.96       891\n",
            "           8       0.94      0.94      0.94       818\n",
            "           9       0.94      0.94      0.94       846\n",
            "\n",
            "    accuracy                           0.96      8400\n",
            "   macro avg       0.96      0.96      0.96      8400\n",
            "weighted avg       0.96      0.96      0.96      8400\n",
            "\n",
            "--- 73.46691989898682 seconds ---\n"
          ]
        }
      ],
      "source": [
        "import time \n",
        "start = time.time()\n",
        "\n",
        "#training model\n",
        "rfc = RandomForestClassifier(n_estimators=100, min_samples_split=2, min_samples_leaf=5, max_features='auto', max_depth=None, criterion='entropy', bootstrap=False)\n",
        "rfc.fit(X_train, y_train)\n",
        "\n",
        "#confusion matrix\n",
        "from sklearn.metrics import confusion_matrix,classification_report\n",
        "y_pred = rfc.predict(X_test)\n",
        "cm = confusion_matrix(y_test,y_pred)\n",
        "print('confusion matrix:\\n',cm)\n",
        "#accuracy\n",
        "from sklearn.metrics import accuracy_score\n",
        "sva2 = accuracy_score(y_test,y_pred)\n",
        "print('accuracy score = ',accuracy_score(y_test,y_pred))\n",
        "print(\"Classification Report: \\n\",classification_report(y_test,y_pred))\n",
        "\n",
        "end = time.time()\n",
        "print('--- %s seconds ---' % (end - start))"
      ]
    },
    {
      "cell_type": "code",
      "execution_count": null,
      "metadata": {
        "id": "A_7XCLkFe1Mw"
      },
      "outputs": [],
      "source": [
        "results = rfc.predict(test)"
      ]
    },
    {
      "cell_type": "code",
      "execution_count": null,
      "metadata": {
        "id": "vjdNxcFTenyc"
      },
      "outputs": [],
      "source": [
        "# prepare submit file\n",
        "\n",
        "np.savetxt('results.csv', \n",
        "           np.c_[range(1,len(test)+1),results], \n",
        "           delimiter=',', \n",
        "           header = 'ImageId,Label', \n",
        "           comments = '', \n",
        "           fmt='%d')"
      ]
    },
    {
      "cell_type": "markdown",
      "metadata": {
        "id": "9lLvwTnwffZM"
      },
      "source": [
        "##PCA"
      ]
    },
    {
      "cell_type": "code",
      "execution_count": null,
      "metadata": {
        "id": "comomBOOfjfL"
      },
      "outputs": [],
      "source": [
        "#combine training and test datasets\n",
        "bothsets= [X, test]\n",
        "combined = pd.concat(bothsets)"
      ]
    },
    {
      "cell_type": "code",
      "execution_count": null,
      "metadata": {
        "colab": {
          "base_uri": "https://localhost:8080/"
        },
        "id": "BWLfwwcLffAM",
        "outputId": "9d0f4103-f7df-45f9-be18-2992422ab94a"
      },
      "outputs": [
        {
          "output_type": "execute_result",
          "data": {
            "text/plain": [
              "(70000, 784)"
            ]
          },
          "metadata": {},
          "execution_count": 13
        }
      ],
      "source": [
        "combined.shape"
      ]
    },
    {
      "cell_type": "code",
      "execution_count": null,
      "metadata": {
        "colab": {
          "base_uri": "https://localhost:8080/",
          "height": 361
        },
        "id": "ZD4KGjkgi4pu",
        "outputId": "d97507c5-1408-403b-df04-e63b2a2c822b"
      },
      "outputs": [
        {
          "output_type": "stream",
          "name": "stdout",
          "text": [
            "--- 20.894753456115723 seconds ---\n"
          ]
        },
        {
          "output_type": "display_data",
          "data": {
            "image/png": "[encoded data removed]",
            "text/plain": [
              "<Figure size 432x360 with 2 Axes>"
            ]
          },
          "metadata": {
            "needs_background": "light"
          }
        }
      ],
      "source": [
        "start = time.time()\n",
        "\n",
        "pca = PCA(n_components=0.95)\n",
        "pca.fit(combined)\n",
        "transform = pca.transform(combined)\n",
        "\n",
        "figure(figsize(6,5))\n",
        "plt.scatter(transform[:,0],transform[:,1], s=20, cmap = \"nipy_spectral\", edgecolor = \"None\")\n",
        "plt.colorbar()\n",
        "clim(0,9)\n",
        "\n",
        "xlabel(\"PC1\")\n",
        "ylabel(\"PC2\")\n",
        "\n",
        "end = time.time()\n",
        "print('--- %s seconds ---' % (end - start))"
      ]
    },
    {
      "cell_type": "code",
      "source": [
        "from sklearn.preprocessing import StandardScaler\n",
        "from sklearn.decomposition import PCA\n",
        "\n",
        "start = time.time()\n",
        "\n",
        "pcadecomposition = PCA(n_components=0.95)\n",
        "pcadecomposition.fit(combined)\n",
        "\n",
        "print(pcadecomposition.n_features_in_)\n",
        "print(pcadecomposition.n_components_)\n",
        "\n",
        "end = time.time()\n",
        "print('--- %s seconds ---' % (end - start))"
      ],
      "metadata": {
        "colab": {
          "base_uri": "https://localhost:8080/"
        },
        "id": "38ccGCXfDXnr",
        "outputId": "2a677d2e-4494-4d25-d1f7-3f64e564f918"
      },
      "execution_count": null,
      "outputs": [
        {
          "output_type": "stream",
          "name": "stdout",
          "text": [
            "784\n",
            "154\n",
            "--- 20.843046188354492 seconds ---\n"
          ]
        }
      ]
    },
    {
      "cell_type": "markdown",
      "source": [
        "Testing PCA with 154 components covering 95% of the variance."
      ],
      "metadata": {
        "id": "xSOUed4PfBS4"
      }
    },
    {
      "cell_type": "code",
      "source": [
        "start = time.time()\n",
        "\n",
        "pca = PCA(n_components=154)\n",
        "pca = pca.fit(combined)\n",
        "reducedpca= pca.transform(combined)\n",
        "\n",
        "figure(figsize(6,5))\n",
        "plt.scatter(transform[:,0],transform[:,1], s=20, cmap = \"nipy_spectral\", edgecolor = \"None\")\n",
        "plt.colorbar()\n",
        "clim(0,9)\n",
        "\n",
        "xlabel(\"PC1\")\n",
        "ylabel(\"PC2\")\n",
        "\n",
        "end = time.time()\n",
        "print('--- %s seconds ---' % (end - start))"
      ],
      "metadata": {
        "colab": {
          "base_uri": "https://localhost:8080/",
          "height": 361
        },
        "id": "TnMfCPIk0hEl",
        "outputId": "6de899d4-0c70-44f8-cd82-cadc691af664"
      },
      "execution_count": null,
      "outputs": [
        {
          "output_type": "stream",
          "name": "stdout",
          "text": [
            "--- 11.558904886245728 seconds ---\n"
          ]
        },
        {
          "output_type": "display_data",
          "data": {
            "image/png": "[encoded data removed]",
            "text/plain": [
              "<Figure size 432x360 with 2 Axes>"
            ]
          },
          "metadata": {
            "needs_background": "light"
          }
        }
      ]
    },
    {
      "cell_type": "code",
      "source": [
        "X_reduced_pca = PCA(n_components=154, random_state=42).fit_transform(reducedpca)"
      ],
      "metadata": {
        "id": "JxQ5FThtgtJO"
      },
      "execution_count": null,
      "outputs": []
    },
    {
      "cell_type": "code",
      "source": [
        "X_reduced_pca = PCA(n_components=0.95, random_state=42).fit_transform(combined)"
      ],
      "metadata": {
        "id": "OEtYAE8prXAI"
      },
      "execution_count": null,
      "outputs": []
    },
    {
      "cell_type": "code",
      "source": [
        "x_pca = pca.transform(combined)"
      ],
      "metadata": {
        "id": "8CPTgVMnr1qj"
      },
      "execution_count": null,
      "outputs": []
    },
    {
      "cell_type": "code",
      "source": [
        "x_pca.shape"
      ],
      "metadata": {
        "colab": {
          "base_uri": "https://localhost:8080/"
        },
        "id": "EvRMbqY5sZTn",
        "outputId": "ef635a28-ad9d-4930-edfa-b18e858f923e"
      },
      "execution_count": null,
      "outputs": [
        {
          "output_type": "execute_result",
          "data": {
            "text/plain": [
              "(70000, 154)"
            ]
          },
          "metadata": {},
          "execution_count": 28
        }
      ]
    },
    {
      "cell_type": "code",
      "source": [
        "X_pca = x_pca[:42000,:]\n",
        "x_test_pca = x_pca[42000:,:]\n",
        "print(\"train shape:\",X_pca.shape)\n",
        "print(\"test shape:\",x_test_pca.shape)"
      ],
      "metadata": {
        "colab": {
          "base_uri": "https://localhost:8080/"
        },
        "id": "N-ZGTuEksh_2",
        "outputId": "c97a8700-a22c-491f-f96f-c35f0761b453"
      },
      "execution_count": null,
      "outputs": [
        {
          "output_type": "stream",
          "name": "stdout",
          "text": [
            "train shape: (42000, 154)\n",
            "test shape: (28000, 154)\n"
          ]
        }
      ]
    },
    {
      "cell_type": "markdown",
      "source": [
        "#Random Forest PCA Compressed\n"
      ],
      "metadata": {
        "id": "GaFaF_xT1DUB"
      }
    },
    {
      "cell_type": "code",
      "source": [
        "X_train_pca = reducedpca\n",
        "X_test_pca = pca.transform(X_test)\n",
        "#test_pca = pca.transform(test)\n"
      ],
      "metadata": {
        "id": "qkCVvwLm1eA9"
      },
      "execution_count": null,
      "outputs": []
    },
    {
      "cell_type": "code",
      "source": [
        "start = time.time()\n",
        "\n",
        "#training model\n",
        "rfc_pca = RandomForestClassifier(n_estimators=100, min_samples_split=2, min_samples_leaf=5, max_features='auto', max_depth=None, criterion='entropy', bootstrap=False)\n",
        "rfc_pca.fit(X_train, y_train)\n",
        "\n",
        "#confusion matrix\n",
        "from sklearn.metrics import confusion_matrix,classification_report\n",
        "y_pred = rfc.predict(X_test)\n",
        "cm = confusion_matrix(y_test,y_pred)\n",
        "print('confusion matrix:\\n',cm)\n",
        "#accuracy\n",
        "from sklearn.metrics import accuracy_score\n",
        "sva2 = accuracy_score(y_test,y_pred)\n",
        "print('accuracy score = ',accuracy_score(y_test,y_pred))\n",
        "print(\"Classification Report: \\n\",classification_report(y_test,y_pred))\n",
        "\n",
        "end = time.time()\n",
        "print('--- %s seconds ---' % (end - start))"
      ],
      "metadata": {
        "colab": {
          "base_uri": "https://localhost:8080/"
        },
        "id": "MdRLD7M26kHg",
        "outputId": "1c7e43f5-5908-41b3-96a8-23fe62d2ad57"
      },
      "execution_count": null,
      "outputs": [
        {
          "output_type": "stream",
          "name": "stdout",
          "text": [
            "confusion matrix:\n",
            " [[833   0   2   0   1   2   6   0   7   1]\n",
            " [  0 935   5   0   1   0   0   3   3   2]\n",
            " [  4   2 790   1   4   2   1   6   7   0]\n",
            " [  3   0  13 810   1  23   1   5   9   5]\n",
            " [  2   1   2   0 734   0   5   0   4  15]\n",
            " [  3   0   2  13   3 708   6   1   7   2]\n",
            " [  4   1   0   0   3   7 832   0   2   0]\n",
            " [  1   6  12   0   3   0   0 852   6  11]\n",
            " [  2   4   4   7   4   6   4   2 772  13]\n",
            " [  2   2   2  13  20   1   1   8   4 793]]\n",
            "accuracy score =  0.9594047619047619\n",
            "Classification Report: \n",
            "               precision    recall  f1-score   support\n",
            "\n",
            "           0       0.98      0.98      0.98       852\n",
            "           1       0.98      0.99      0.98       949\n",
            "           2       0.95      0.97      0.96       817\n",
            "           3       0.96      0.93      0.95       870\n",
            "           4       0.95      0.96      0.96       763\n",
            "           5       0.95      0.95      0.95       745\n",
            "           6       0.97      0.98      0.98       849\n",
            "           7       0.97      0.96      0.96       891\n",
            "           8       0.94      0.94      0.94       818\n",
            "           9       0.94      0.94      0.94       846\n",
            "\n",
            "    accuracy                           0.96      8400\n",
            "   macro avg       0.96      0.96      0.96      8400\n",
            "weighted avg       0.96      0.96      0.96      8400\n",
            "\n",
            "--- 62.48684740066528 seconds ---\n"
          ]
        }
      ]
    },
    {
      "cell_type": "code",
      "source": [
        "resultspca= rfc_pca.predict(test)"
      ],
      "metadata": {
        "id": "n1BRZuch7VIh"
      },
      "execution_count": null,
      "outputs": []
    },
    {
      "cell_type": "code",
      "source": [
        "# prepare submit file\n",
        "\n",
        "np.savetxt('resultspca.csv', \n",
        "           np.c_[range(1,len(test)+1),results], \n",
        "           delimiter=',', \n",
        "           header = 'ImageId,Label', \n",
        "           comments = '', \n",
        "           fmt='%d')"
      ],
      "metadata": {
        "id": "Lbvxe8DY7D8N"
      },
      "execution_count": null,
      "outputs": []
    },
    {
      "cell_type": "markdown",
      "source": [
        "##K-means Cluster"
      ],
      "metadata": {
        "id": "VXtorZ2-4koi"
      }
    },
    {
      "cell_type": "code",
      "source": [
        "from keras.datasets import mnist\n",
        "\n",
        "(x_train, y_train), (x_test, y_test) = mnist.load_data()\n",
        "\n",
        "print('Training Data: {}'.format(x_train.shape))\n",
        "print('Training Labels: {}'.format(y_train.shape))"
      ],
      "metadata": {
        "colab": {
          "base_uri": "https://localhost:8080/"
        },
        "id": "uY0TYC6l4kVe",
        "outputId": "893ff6b6-3902-4391-fbd9-6229adcb28f9"
      },
      "execution_count": null,
      "outputs": [
        {
          "output_type": "stream",
          "name": "stdout",
          "text": [
            "Downloading data from https://storage.googleapis.com/tensorflow/tf-keras-datasets/mnist.npz\n",
            "11493376/11490434 [==============================] - 0s 0us/step\n",
            "11501568/11490434 [==============================] - 0s 0us/step\n",
            "Training Data: (60000, 28, 28)\n",
            "Training Labels: (60000,)\n"
          ]
        }
      ]
    },
    {
      "cell_type": "code",
      "source": [
        "print('Testing Data: {}'.format(x_test.shape))\n",
        "print('Testing Labels: {}'.format(y_test.shape))"
      ],
      "metadata": {
        "colab": {
          "base_uri": "https://localhost:8080/"
        },
        "id": "K4UOhTEK4kF3",
        "outputId": "6dc7665d-284f-45f7-f7a4-2de3596e1d3f"
      },
      "execution_count": null,
      "outputs": [
        {
          "output_type": "stream",
          "name": "stdout",
          "text": [
            "Testing Data: (10000, 28, 28)\n",
            "Testing Labels: (10000,)\n"
          ]
        }
      ]
    },
    {
      "cell_type": "code",
      "source": [
        "import matplotlib.pyplot as plt\n",
        "\n",
        "# python magic function\n",
        "%matplotlib inline"
      ],
      "metadata": {
        "id": "Cuz4pimv4_Bo"
      },
      "execution_count": null,
      "outputs": []
    },
    {
      "cell_type": "code",
      "source": [
        "# create figure with 3x3 subplots using matplotlib.pyplot\n",
        "fig, axs = plt.subplots(3, 3, figsize = (12, 12))\n",
        "plt.gray()\n",
        "\n",
        "# loop through subplots and add mnist images\n",
        "for i, ax in enumerate(axs.flat):\n",
        "    ax.matshow(x_train[i])\n",
        "    ax.axis('off')\n",
        "    ax.set_title('Number {}'.format(y_train[i]))\n",
        "    \n",
        "# display the figure\n",
        "fig.show()"
      ],
      "metadata": {
        "colab": {
          "base_uri": "https://localhost:8080/",
          "height": 709
        },
        "id": "g0ls31kn4-9u",
        "outputId": "0ae093b4-51f7-4bc1-f4d8-b8f0eab26edb"
      },
      "execution_count": null,
      "outputs": [
        {
          "output_type": "display_data",
          "data": {
            "image/png": "[encoded data removed]",
            "text/plain": [
              "<Figure size 864x864 with 9 Axes>"
            ]
          },
          "metadata": {
            "needs_background": "light"
          }
        }
      ]
    },
    {
      "cell_type": "code",
      "source": [
        "# preprocessing the images\n",
        "\n",
        "# convert each image to 1 dimensional array\n",
        "X = x_train.reshape(len(x_train),-1)\n",
        "Y = y_train\n",
        "\n",
        "# normalize the data to 0 - 1\n",
        "X = X.astype(float) / 255.\n",
        "\n",
        "print(X.shape)\n",
        "print(X[0].shape)"
      ],
      "metadata": {
        "colab": {
          "base_uri": "https://localhost:8080/"
        },
        "id": "HLy1Np-E4-5C",
        "outputId": "1f909956-64a8-4374-d1f6-447a127cd823"
      },
      "execution_count": null,
      "outputs": [
        {
          "output_type": "stream",
          "name": "stdout",
          "text": [
            "(60000, 784)\n",
            "(784,)\n"
          ]
        }
      ]
    },
    {
      "cell_type": "code",
      "source": [
        "from sklearn.cluster import MiniBatchKMeans\n",
        "\n",
        "n_digits = len(np.unique(y_test))\n",
        "print(n_digits)\n",
        "\n",
        "# Initialize KMeans model\n",
        "kmeans = MiniBatchKMeans(n_clusters = n_digits)\n",
        "\n",
        "# Fit the model to the training data\n",
        "kmeans.fit(X)"
      ],
      "metadata": {
        "colab": {
          "base_uri": "https://localhost:8080/"
        },
        "id": "52lCHeHt4-w-",
        "outputId": "8a3812c5-031e-463c-db17-77bb6b472dd0"
      },
      "execution_count": null,
      "outputs": [
        {
          "output_type": "stream",
          "name": "stdout",
          "text": [
            "10\n"
          ]
        },
        {
          "output_type": "execute_result",
          "data": {
            "text/plain": [
              "MiniBatchKMeans(n_clusters=10)"
            ]
          },
          "metadata": {},
          "execution_count": 59
        }
      ]
    },
    {
      "cell_type": "code",
      "source": [
        "kmeans.labels_"
      ],
      "metadata": {
        "colab": {
          "base_uri": "https://localhost:8080/"
        },
        "id": "HMkLIY595L4h",
        "outputId": "c3306bb7-667a-4ec8-d006-5ad7acb6c797"
      },
      "execution_count": null,
      "outputs": [
        {
          "output_type": "execute_result",
          "data": {
            "text/plain": [
              "array([9, 4, 8, ..., 9, 7, 3], dtype=int32)"
            ]
          },
          "metadata": {},
          "execution_count": 60
        }
      ]
    },
    {
      "cell_type": "code",
      "source": [
        "def infer_cluster_labels(kmeans, actual_labels):\n",
        "    \"\"\"\n",
        "    Associates most probable label with each cluster in KMeans model\n",
        "    returns: dictionary of clusters assigned to each label\n",
        "    \"\"\"\n",
        "\n",
        "    inferred_labels = {}\n",
        "\n",
        "    for i in range(kmeans.n_clusters):\n",
        "\n",
        "        # find index of points in cluster\n",
        "        labels = []\n",
        "        index = np.where(kmeans.labels_ == i)\n",
        "\n",
        "        # append actual labels for each point in cluster\n",
        "        labels.append(actual_labels[index])\n",
        "\n",
        "        # determine most common label\n",
        "        if len(labels[0]) == 1:\n",
        "            counts = np.bincount(labels[0])\n",
        "        else:\n",
        "            counts = np.bincount(np.squeeze(labels))\n",
        "\n",
        "        # assign the cluster to a value in the inferred_labels dictionary\n",
        "        if np.argmax(counts) in inferred_labels:\n",
        "            # append the new number to the existing array at this slot\n",
        "            inferred_labels[np.argmax(counts)].append(i)\n",
        "        else:\n",
        "            # create a new array in this slot\n",
        "            inferred_labels[np.argmax(counts)] = [i]\n",
        "\n",
        "        #print(labels)\n",
        "        #print('Cluster: {}, label: {}'.format(i, np.argmax(counts)))\n",
        "        \n",
        "    return inferred_labels  \n",
        "\n",
        "def infer_data_labels(X_labels, cluster_labels):\n",
        "    \"\"\"\n",
        "    Determines label for each array, depending on the cluster it has been assigned to.\n",
        "    returns: predicted labels for each array\n",
        "    \"\"\"\n",
        "    \n",
        "    # empty array of len(X)\n",
        "    predicted_labels = np.zeros(len(X_labels)).astype(np.uint8)\n",
        "    \n",
        "    for i, cluster in enumerate(X_labels):\n",
        "        for key, value in cluster_labels.items():\n",
        "            if cluster in value:\n",
        "                predicted_labels[i] = key\n",
        "                \n",
        "    return predicted_labels"
      ],
      "metadata": {
        "id": "e7uFxXtl5L1_"
      },
      "execution_count": null,
      "outputs": []
    },
    {
      "cell_type": "code",
      "source": [
        "# test the infer_cluster_labels() and infer_data_labels() functions\n",
        "cluster_labels = infer_cluster_labels(kmeans, Y)\n",
        "X_clusters = kmeans.predict(X)\n",
        "predicted_labels = infer_data_labels(X_clusters, cluster_labels)\n",
        "print (predicted_labels[:20])\n",
        "print (Y[:20])"
      ],
      "metadata": {
        "colab": {
          "base_uri": "https://localhost:8080/"
        },
        "id": "7xmA_qTZ5Ly2",
        "outputId": "7cb3b6af-5547-4e78-c60a-5ac3c6c5252e"
      },
      "execution_count": null,
      "outputs": [
        {
          "output_type": "stream",
          "name": "stdout",
          "text": [
            "[8 0 4 1 7 6 1 8 1 7 3 1 3 6 1 7 6 8 6 7]\n",
            "[5 0 4 1 9 2 1 3 1 4 3 5 3 6 1 7 2 8 6 9]\n"
          ]
        }
      ]
    },
    {
      "cell_type": "code",
      "source": [
        "#optimizing and Evaluating the Clustering Algorithm\n",
        "from sklearn import metrics\n",
        "\n",
        "def calculate_metrics(estimator, data, labels):\n",
        "\n",
        "    # Calculate and print metrics\n",
        "    print('Number of Clusters: {}'.format(estimator.n_clusters))\n",
        "    print('Inertia: {}'.format(estimator.inertia_))\n",
        "    print('Homogeneity: {}'.format(metrics.homogeneity_score(labels, estimator.labels_)))"
      ],
      "metadata": {
        "id": "mk1AibLB5LwQ"
      },
      "execution_count": null,
      "outputs": []
    },
    {
      "cell_type": "code",
      "source": [
        "clusters = [10, 16, 36, 64, 144, 256]\n",
        "\n",
        "# test different numbers of clusters\n",
        "for n_clusters in clusters:\n",
        "    estimator = MiniBatchKMeans(n_clusters = n_clusters)\n",
        "    estimator.fit(X)\n",
        "    \n",
        "    # print cluster metrics\n",
        "    calculate_metrics(estimator, X, Y)\n",
        "    \n",
        "    # determine predicted labels\n",
        "    cluster_labels = infer_cluster_labels(estimator, Y)\n",
        "    predicted_Y = infer_data_labels(estimator.labels_, cluster_labels)\n",
        "    \n",
        "    # calculate and print accuracy\n",
        "    print('Accuracy: {}\\n'.format(metrics.accuracy_score(Y, predicted_Y)))"
      ],
      "metadata": {
        "colab": {
          "base_uri": "https://localhost:8080/"
        },
        "id": "Gsm8sGAs5uab",
        "outputId": "730f063d-58a1-4308-dd2a-830c4dbcd0fd"
      },
      "execution_count": null,
      "outputs": [
        {
          "output_type": "stream",
          "name": "stdout",
          "text": [
            "Number of Clusters: 10\n",
            "Inertia: 2363613.766568971\n",
            "Homogeneity: 0.47692473560078674\n",
            "Accuracy: 0.5903\n",
            "\n",
            "Number of Clusters: 16\n",
            "Inertia: 2214553.8902730998\n",
            "Homogeneity: 0.5353072002137381\n",
            "Accuracy: 0.6085833333333334\n",
            "\n",
            "Number of Clusters: 36\n",
            "Inertia: 1958269.104189312\n",
            "Homogeneity: 0.6942446102846334\n",
            "Accuracy: 0.7736166666666666\n",
            "\n",
            "Number of Clusters: 64\n",
            "Inertia: 1804185.9799088896\n",
            "Homogeneity: 0.7458881796927777\n",
            "Accuracy: 0.82505\n",
            "\n",
            "Number of Clusters: 144\n",
            "Inertia: 1624145.689631693\n",
            "Homogeneity: 0.8036956554467874\n",
            "Accuracy: 0.8671666666666666\n",
            "\n",
            "Number of Clusters: 256\n",
            "Inertia: 1503696.0244018813\n",
            "Homogeneity: 0.8451502802576499\n",
            "Accuracy: 0.9018166666666667\n",
            "\n"
          ]
        }
      ]
    },
    {
      "cell_type": "code",
      "source": [
        "# test kmeans algorithm on testing dataset\n",
        "# convert each image to 1 dimensional array\n",
        "X_test = x_test.reshape(len(x_test),-1)\n",
        "\n",
        "# normalize the data to 0 - 1\n",
        "X_test = X_test.astype(float) / 255.\n",
        "\n",
        "# initialize and fit KMeans algorithm on training data\n",
        "kmeans = MiniBatchKMeans(n_clusters = 256)\n",
        "kmeans.fit(X)\n",
        "cluster_labels = infer_cluster_labels(kmeans, Y)\n",
        "\n",
        "# predict labels for testing data\n",
        "test_clusters = kmeans.predict(X_test)\n",
        "predicted_labels = infer_data_labels(kmeans.predict(X_test), cluster_labels)\n",
        "    \n",
        "# calculate and print accuracy\n",
        "print('Accuracy: {}\\n'.format(metrics.accuracy_score(y_test, predicted_labels)))"
      ],
      "metadata": {
        "colab": {
          "base_uri": "https://localhost:8080/"
        },
        "id": "DwURQyyy5uYG",
        "outputId": "7c221c0b-cefb-4024-b6a8-e514be2b6088"
      },
      "execution_count": null,
      "outputs": [
        {
          "output_type": "stream",
          "name": "stdout",
          "text": [
            "Accuracy: 0.892\n",
            "\n"
          ]
        }
      ]
    },
    {
      "cell_type": "code",
      "source": [
        "#visualizing cluster centroid\n",
        "# Initialize and fit KMeans algorithm\n",
        "kmeans = MiniBatchKMeans(n_clusters = 36)\n",
        "kmeans.fit(X)\n",
        "\n",
        "# record centroid values\n",
        "centroids = kmeans.cluster_centers_\n",
        "\n",
        "# reshape centroids into images\n",
        "images = centroids.reshape(36, 28, 28)\n",
        "images *= 255\n",
        "images = images.astype(np.uint8)\n",
        "\n",
        "# determine cluster labels\n",
        "cluster_labels = infer_cluster_labels(kmeans, Y)\n",
        "\n",
        "# create figure with subplots using matplotlib.pyplot\n",
        "fig, axs = plt.subplots(6, 6, figsize = (20, 20))\n",
        "plt.gray()\n",
        "\n",
        "# loop through subplots and add centroid images\n",
        "for i, ax in enumerate(axs.flat):\n",
        "    \n",
        "    # determine inferred label using cluster_labels dictionary\n",
        "    for key, value in cluster_labels.items():\n",
        "        if i in value:\n",
        "            ax.set_title('Inferred Label: {}'.format(key))\n",
        "    \n",
        "    # add image to subplot\n",
        "    ax.matshow(images[i])\n",
        "    ax.axis('off')\n",
        "    \n",
        "# display the figure\n",
        "fig.show()"
      ],
      "metadata": {
        "colab": {
          "base_uri": "https://localhost:8080/",
          "height": 921
        },
        "id": "48EwP-vM5uVP",
        "outputId": "0b0bd00a-3232-43a4-9174-0be5ed88953e"
      },
      "execution_count": null,
      "outputs": [
        {
          "output_type": "display_data",
          "data": {
            "image/png": "[encoded data removed]",
            "text/plain": [
              "<Figure size 1440x1440 with 36 Axes>"
            ]
          },
          "metadata": {
            "needs_background": "light"
          }
        }
      ]
    },
    {
      "cell_type": "code",
      "source": [
        "results= kmeans.fit(X)"
      ],
      "metadata": {
        "id": "xFqtw_Hd8nfE"
      },
      "execution_count": null,
      "outputs": []
    },
    {
      "cell_type": "code",
      "source": [
        "n_digits = len(np.unique(y_train))\n",
        "n_digits"
      ],
      "metadata": {
        "colab": {
          "base_uri": "https://localhost:8080/"
        },
        "id": "CPZxe1B9Ow0k",
        "outputId": "0cf1579d-1df2-4b3a-a5e1-4520eae3d952"
      },
      "execution_count": null,
      "outputs": [
        {
          "output_type": "execute_result",
          "data": {
            "text/plain": [
              "10"
            ]
          },
          "metadata": {},
          "execution_count": 73
        }
      ]
    },
    {
      "cell_type": "markdown",
      "source": [
        "K-means Test"
      ],
      "metadata": {
        "id": "skK2BNcWcsER"
      }
    },
    {
      "cell_type": "code",
      "source": [
        "from sklearn.cluster import MiniBatchKMeans\n",
        "X_train, X_test, y_train, y_test = train_test_split(X,y, test_size = 0.2, random_state = 1)"
      ],
      "metadata": {
        "colab": {
          "base_uri": "https://localhost:8080/",
          "height": 338
        },
        "id": "2-NP9LX1Mlww",
        "outputId": "cadb3d70-0b70-4193-e4cd-6dc6eaa7049a"
      },
      "execution_count": null,
      "outputs": [
        {
          "output_type": "error",
          "ename": "ValueError",
          "evalue": "ignored",
          "traceback": [
            "\u001b[0;31m---------------------------------------------------------------------------\u001b[0m",
            "\u001b[0;31mValueError\u001b[0m                                Traceback (most recent call last)",
            "\u001b[0;32m<ipython-input-102-3ce5703f236e>\u001b[0m in \u001b[0;36m<module>\u001b[0;34m()\u001b[0m\n\u001b[1;32m      1\u001b[0m \u001b[0;32mfrom\u001b[0m \u001b[0msklearn\u001b[0m\u001b[0;34m.\u001b[0m\u001b[0mcluster\u001b[0m \u001b[0;32mimport\u001b[0m \u001b[0mMiniBatchKMeans\u001b[0m\u001b[0;34m\u001b[0m\u001b[0;34m\u001b[0m\u001b[0m\n\u001b[0;32m----> 2\u001b[0;31m \u001b[0mX_train\u001b[0m\u001b[0;34m,\u001b[0m \u001b[0mX_test\u001b[0m\u001b[0;34m,\u001b[0m \u001b[0my_train\u001b[0m\u001b[0;34m,\u001b[0m \u001b[0my_test\u001b[0m \u001b[0;34m=\u001b[0m \u001b[0mtrain_test_split\u001b[0m\u001b[0;34m(\u001b[0m\u001b[0mX\u001b[0m\u001b[0;34m,\u001b[0m\u001b[0my\u001b[0m\u001b[0;34m,\u001b[0m \u001b[0mtest_size\u001b[0m \u001b[0;34m=\u001b[0m \u001b[0;36m0.2\u001b[0m\u001b[0;34m,\u001b[0m \u001b[0mrandom_state\u001b[0m \u001b[0;34m=\u001b[0m \u001b[0;36m1\u001b[0m\u001b[0;34m)\u001b[0m\u001b[0;34m\u001b[0m\u001b[0;34m\u001b[0m\u001b[0m\n\u001b[0m",
            "\u001b[0;32m/usr/local/lib/python3.7/dist-packages/sklearn/model_selection/_split.py\u001b[0m in \u001b[0;36mtrain_test_split\u001b[0;34m(test_size, train_size, random_state, shuffle, stratify, *arrays)\u001b[0m\n\u001b[1;32m   2415\u001b[0m         \u001b[0;32mraise\u001b[0m \u001b[0mValueError\u001b[0m\u001b[0;34m(\u001b[0m\u001b[0;34m\"At least one array required as input\"\u001b[0m\u001b[0;34m)\u001b[0m\u001b[0;34m\u001b[0m\u001b[0;34m\u001b[0m\u001b[0m\n\u001b[1;32m   2416\u001b[0m \u001b[0;34m\u001b[0m\u001b[0m\n\u001b[0;32m-> 2417\u001b[0;31m     \u001b[0marrays\u001b[0m \u001b[0;34m=\u001b[0m \u001b[0mindexable\u001b[0m\u001b[0;34m(\u001b[0m\u001b[0;34m*\u001b[0m\u001b[0marrays\u001b[0m\u001b[0;34m)\u001b[0m\u001b[0;34m\u001b[0m\u001b[0;34m\u001b[0m\u001b[0m\n\u001b[0m\u001b[1;32m   2418\u001b[0m \u001b[0;34m\u001b[0m\u001b[0m\n\u001b[1;32m   2419\u001b[0m     \u001b[0mn_samples\u001b[0m \u001b[0;34m=\u001b[0m \u001b[0m_num_samples\u001b[0m\u001b[0;34m(\u001b[0m\u001b[0marrays\u001b[0m\u001b[0;34m[\u001b[0m\u001b[0;36m0\u001b[0m\u001b[0;34m]\u001b[0m\u001b[0;34m)\u001b[0m\u001b[0;34m\u001b[0m\u001b[0;34m\u001b[0m\u001b[0m\n",
            "\u001b[0;32m/usr/local/lib/python3.7/dist-packages/sklearn/utils/validation.py\u001b[0m in \u001b[0;36mindexable\u001b[0;34m(*iterables)\u001b[0m\n\u001b[1;32m    376\u001b[0m \u001b[0;34m\u001b[0m\u001b[0m\n\u001b[1;32m    377\u001b[0m     \u001b[0mresult\u001b[0m \u001b[0;34m=\u001b[0m \u001b[0;34m[\u001b[0m\u001b[0m_make_indexable\u001b[0m\u001b[0;34m(\u001b[0m\u001b[0mX\u001b[0m\u001b[0;34m)\u001b[0m \u001b[0;32mfor\u001b[0m \u001b[0mX\u001b[0m \u001b[0;32min\u001b[0m \u001b[0miterables\u001b[0m\u001b[0;34m]\u001b[0m\u001b[0;34m\u001b[0m\u001b[0;34m\u001b[0m\u001b[0m\n\u001b[0;32m--> 378\u001b[0;31m     \u001b[0mcheck_consistent_length\u001b[0m\u001b[0;34m(\u001b[0m\u001b[0;34m*\u001b[0m\u001b[0mresult\u001b[0m\u001b[0;34m)\u001b[0m\u001b[0;34m\u001b[0m\u001b[0;34m\u001b[0m\u001b[0m\n\u001b[0m\u001b[1;32m    379\u001b[0m     \u001b[0;32mreturn\u001b[0m \u001b[0mresult\u001b[0m\u001b[0;34m\u001b[0m\u001b[0;34m\u001b[0m\u001b[0m\n\u001b[1;32m    380\u001b[0m \u001b[0;34m\u001b[0m\u001b[0m\n",
            "\u001b[0;32m/usr/local/lib/python3.7/dist-packages/sklearn/utils/validation.py\u001b[0m in \u001b[0;36mcheck_consistent_length\u001b[0;34m(*arrays)\u001b[0m\n\u001b[1;32m    332\u001b[0m         raise ValueError(\n\u001b[1;32m    333\u001b[0m             \u001b[0;34m\"Found input variables with inconsistent numbers of samples: %r\"\u001b[0m\u001b[0;34m\u001b[0m\u001b[0;34m\u001b[0m\u001b[0m\n\u001b[0;32m--> 334\u001b[0;31m             \u001b[0;34m%\u001b[0m \u001b[0;34m[\u001b[0m\u001b[0mint\u001b[0m\u001b[0;34m(\u001b[0m\u001b[0ml\u001b[0m\u001b[0;34m)\u001b[0m \u001b[0;32mfor\u001b[0m \u001b[0ml\u001b[0m \u001b[0;32min\u001b[0m \u001b[0mlengths\u001b[0m\u001b[0;34m]\u001b[0m\u001b[0;34m\u001b[0m\u001b[0;34m\u001b[0m\u001b[0m\n\u001b[0m\u001b[1;32m    335\u001b[0m         )\n\u001b[1;32m    336\u001b[0m \u001b[0;34m\u001b[0m\u001b[0m\n",
            "\u001b[0;31mValueError\u001b[0m: Found input variables with inconsistent numbers of samples: [60000, 42000]"
          ]
        }
      ]
    },
    {
      "cell_type": "code",
      "source": [
        "# Retrieve the digits of the training set label column\n",
        "n_digits = len(np.unique(y_test))\n",
        "print(n_digits)"
      ],
      "metadata": {
        "colab": {
          "base_uri": "https://localhost:8080/"
        },
        "id": "um4Z6AJQMlt5",
        "outputId": "97d63118-2d67-4bad-db17-a6805ce258e3"
      },
      "execution_count": null,
      "outputs": [
        {
          "output_type": "stream",
          "name": "stdout",
          "text": [
            "10\n"
          ]
        }
      ]
    },
    {
      "cell_type": "code",
      "source": [
        "# Set clusters equal to the 10 different digits\n",
        "kmeans = MiniBatchKMeans(n_clusters = n_digits)\n",
        "# Fit the model to the training data\n",
        "kmeans.fit(X_train)\n",
        "kmeans.labels_"
      ],
      "metadata": {
        "colab": {
          "base_uri": "https://localhost:8080/"
        },
        "id": "CHXTGQQ5MlrA",
        "outputId": "a06b718e-2f00-4c02-8a01-658f9327c2ed"
      },
      "execution_count": null,
      "outputs": [
        {
          "output_type": "execute_result",
          "data": {
            "text/plain": [
              "array([7, 5, 1, ..., 5, 9, 4], dtype=int32)"
            ]
          },
          "metadata": {},
          "execution_count": 78
        }
      ]
    },
    {
      "cell_type": "code",
      "source": [
        "# Assign cluster labels\n",
        "def infer_cluster_labels(kmeans, actual_labels):\n",
        "  \n",
        "  inferred_labels = {}\n",
        "\n",
        "  for i in range(kmeans.n_clusters):\n",
        "    \n",
        "    # Find index of points in cluster\n",
        "    labels = []\n",
        "    index = np.where(kmeans.labels_ == i)\n",
        "    \n",
        "    # Append actual labels for each point in cluster\n",
        "    labels.append(actual_labels[index])\n",
        "    \n",
        "    # Determine most common label\n",
        "    if len(labels[0]) == 1:\n",
        "      counts = np.bincount(labels[0])\n",
        "    else:\n",
        "      counts = np.bincount(np.squeeze(labels))\n",
        "    \n",
        "    # Assign cluster to a value in the inferred_labels dictionary\n",
        "    if np.argmax(counts) in inferred_labels:\n",
        "      # Append the new number to the existing array at this slot\n",
        "      inferred_labels[np.argmax(counts)].append(i)\n",
        "    else:\n",
        "     # Create a new array in this slot\n",
        "      inferred_labels[np.argmax(counts)] = [i]\n",
        "\n",
        "  return inferred_labels\n",
        "\n",
        "def infer_data_labels(X_labels, cluster_labels):\n",
        "  # Empty array of len(X)\n",
        "  predicted_labels = np.zeros(len(X_labels)).astype(np.uint8)\n",
        "\n",
        "  for i, cluster in enumerate(X_labels):\n",
        "    for key, value in cluster_labels.items():\n",
        "      if cluster in value:\n",
        "        predicted_labels[i] = key\n",
        "  \n",
        "  return predicted_labels"
      ],
      "metadata": {
        "id": "87HdLsukMlnn"
      },
      "execution_count": null,
      "outputs": []
    },
    {
      "cell_type": "code",
      "source": [
        "# Test infer_cluster_labels() and infer_data_labels() functions\n",
        "cluster_labels = infer_cluster_labels(kmeans, y_train)\n",
        "X_clusters = kmeans.predict(X_train)\n",
        "predicted_labels = infer_data_labels(X_clusters, cluster_labels)\n",
        "print(X_clusters,X_clusters.shape)\n",
        "print(cluster_labels)\n",
        "print(predicted_labels[:20])\n",
        "print(y_train[:20])"
      ],
      "metadata": {
        "colab": {
          "base_uri": "https://localhost:8080/"
        },
        "id": "-4XC4eYOMlgE",
        "outputId": "6f33ebb0-0421-4bd3-997a-8f0d5bb579dc"
      },
      "execution_count": null,
      "outputs": [
        {
          "output_type": "stream",
          "name": "stdout",
          "text": [
            "[7 5 1 ... 5 9 4] (33600,)\n",
            "{1: [0, 1, 2, 3, 4, 5, 6, 8], 0: [7, 9]}\n",
            "[0 1 1 1 1 1 1 1 1 1 1 1 1 1 1 1 1 1 1 1]\n",
            "[5 0 4 1 9 2 1 3 1 4 3 5 3 6 1 7 2 8 6 9]\n"
          ]
        }
      ]
    },
    {
      "cell_type": "code",
      "source": [
        "from sklearn.metrics import homogeneity_score\n",
        "\n",
        "def calc_metrics(estimator, data, labels):\n",
        "    print('Number of Clusters: {}'.format(estimator.n_clusters))\n",
        "    # Inertia\n",
        "    inertia = estimator.inertia_\n",
        "    print(\"Inertia: {}\".format(inertia))\n",
        "    # Homogeneity Score\n",
        "    homogeneity = homogeneity_score(labels, estimator.labels_)\n",
        "    print(\"Homogeneity score: {}\".format(homogeneity))\n",
        "    return inertia, homogeneity"
      ],
      "metadata": {
        "id": "hPqNfsSbdhcY"
      },
      "execution_count": null,
      "outputs": []
    },
    {
      "cell_type": "code",
      "source": [
        "from sklearn.metrics import accuracy_score\n",
        "\n",
        "clusters = [10, 16, 36, 64, 144, 256]\n",
        "iner_list = []\n",
        "homo_list = []\n",
        "acc_list = []\n",
        "\n",
        "for n_clusters in clusters:\n",
        "    estimator = MiniBatchKMeans(n_clusters=n_clusters)\n",
        "    estimator.fit(X_train)\n",
        "    \n",
        "    inertia, homo = calc_metrics(estimator, X_train, y_train)\n",
        "    iner_list.append(inertia)\n",
        "    homo_list.append(homo)\n",
        "    \n",
        "    # Determine predicted labels\n",
        "    cluster_labels = infer_cluster_labels(estimator, y_train.iloc)\n",
        "    prediction = infer_data_labels(estimator.labels_, cluster_labels)\n",
        "    \n",
        "    acc = accuracy_score(y_train, prediction)\n",
        "    acc_list.append(acc)\n",
        "    print('Accuracy: {}\\n'.format(acc))"
      ],
      "metadata": {
        "colab": {
          "base_uri": "https://localhost:8080/",
          "height": 428
        },
        "id": "S9r-EWmldhVF",
        "outputId": "9cd1677b-ec6d-4286-8941-a0aeb914bfa0"
      },
      "execution_count": null,
      "outputs": [
        {
          "output_type": "stream",
          "name": "stdout",
          "text": [
            "Number of Clusters: 10\n",
            "Inertia: 86226293007.31512\n"
          ]
        },
        {
          "output_type": "error",
          "ename": "ValueError",
          "evalue": "ignored",
          "traceback": [
            "\u001b[0;31m---------------------------------------------------------------------------\u001b[0m",
            "\u001b[0;31mValueError\u001b[0m                                Traceback (most recent call last)",
            "\u001b[0;32m<ipython-input-83-01f66d5f48b7>\u001b[0m in \u001b[0;36m<module>\u001b[0;34m()\u001b[0m\n\u001b[1;32m     10\u001b[0m     \u001b[0mestimator\u001b[0m\u001b[0;34m.\u001b[0m\u001b[0mfit\u001b[0m\u001b[0;34m(\u001b[0m\u001b[0mX_train\u001b[0m\u001b[0;34m)\u001b[0m\u001b[0;34m\u001b[0m\u001b[0;34m\u001b[0m\u001b[0m\n\u001b[1;32m     11\u001b[0m \u001b[0;34m\u001b[0m\u001b[0m\n\u001b[0;32m---> 12\u001b[0;31m     \u001b[0minertia\u001b[0m\u001b[0;34m,\u001b[0m \u001b[0mhomo\u001b[0m \u001b[0;34m=\u001b[0m \u001b[0mcalc_metrics\u001b[0m\u001b[0;34m(\u001b[0m\u001b[0mestimator\u001b[0m\u001b[0;34m,\u001b[0m \u001b[0mX_train\u001b[0m\u001b[0;34m,\u001b[0m \u001b[0my_train\u001b[0m\u001b[0;34m)\u001b[0m\u001b[0;34m\u001b[0m\u001b[0;34m\u001b[0m\u001b[0m\n\u001b[0m\u001b[1;32m     13\u001b[0m     \u001b[0miner_list\u001b[0m\u001b[0;34m.\u001b[0m\u001b[0mappend\u001b[0m\u001b[0;34m(\u001b[0m\u001b[0minertia\u001b[0m\u001b[0;34m)\u001b[0m\u001b[0;34m\u001b[0m\u001b[0;34m\u001b[0m\u001b[0m\n\u001b[1;32m     14\u001b[0m     \u001b[0mhomo_list\u001b[0m\u001b[0;34m.\u001b[0m\u001b[0mappend\u001b[0m\u001b[0;34m(\u001b[0m\u001b[0mhomo\u001b[0m\u001b[0;34m)\u001b[0m\u001b[0;34m\u001b[0m\u001b[0;34m\u001b[0m\u001b[0m\n",
            "\u001b[0;32m<ipython-input-82-de46c9afc238>\u001b[0m in \u001b[0;36mcalc_metrics\u001b[0;34m(estimator, data, labels)\u001b[0m\n\u001b[1;32m      7\u001b[0m     \u001b[0mprint\u001b[0m\u001b[0;34m(\u001b[0m\u001b[0;34m\"Inertia: {}\"\u001b[0m\u001b[0;34m.\u001b[0m\u001b[0mformat\u001b[0m\u001b[0;34m(\u001b[0m\u001b[0minertia\u001b[0m\u001b[0;34m)\u001b[0m\u001b[0;34m)\u001b[0m\u001b[0;34m\u001b[0m\u001b[0;34m\u001b[0m\u001b[0m\n\u001b[1;32m      8\u001b[0m     \u001b[0;31m# Homogeneity Score\u001b[0m\u001b[0;34m\u001b[0m\u001b[0;34m\u001b[0m\u001b[0;34m\u001b[0m\u001b[0m\n\u001b[0;32m----> 9\u001b[0;31m     \u001b[0mhomogeneity\u001b[0m \u001b[0;34m=\u001b[0m \u001b[0mhomogeneity_score\u001b[0m\u001b[0;34m(\u001b[0m\u001b[0mlabels\u001b[0m\u001b[0;34m,\u001b[0m \u001b[0mestimator\u001b[0m\u001b[0;34m.\u001b[0m\u001b[0mlabels_\u001b[0m\u001b[0;34m)\u001b[0m\u001b[0;34m\u001b[0m\u001b[0;34m\u001b[0m\u001b[0m\n\u001b[0m\u001b[1;32m     10\u001b[0m     \u001b[0mprint\u001b[0m\u001b[0;34m(\u001b[0m\u001b[0;34m\"Homogeneity score: {}\"\u001b[0m\u001b[0;34m.\u001b[0m\u001b[0mformat\u001b[0m\u001b[0;34m(\u001b[0m\u001b[0mhomogeneity\u001b[0m\u001b[0;34m)\u001b[0m\u001b[0;34m)\u001b[0m\u001b[0;34m\u001b[0m\u001b[0;34m\u001b[0m\u001b[0m\n\u001b[1;32m     11\u001b[0m     \u001b[0;32mreturn\u001b[0m \u001b[0minertia\u001b[0m\u001b[0;34m,\u001b[0m \u001b[0mhomogeneity\u001b[0m\u001b[0;34m\u001b[0m\u001b[0;34m\u001b[0m\u001b[0m\n",
            "\u001b[0;32m/usr/local/lib/python3.7/dist-packages/sklearn/metrics/cluster/_supervised.py\u001b[0m in \u001b[0;36mhomogeneity_score\u001b[0;34m(labels_true, labels_pred)\u001b[0m\n\u001b[1;32m    552\u001b[0m       \u001b[0;36m0.0\u001b[0m\u001b[0;34m...\u001b[0m\u001b[0;34m\u001b[0m\u001b[0;34m\u001b[0m\u001b[0m\n\u001b[1;32m    553\u001b[0m     \"\"\"\n\u001b[0;32m--> 554\u001b[0;31m     \u001b[0;32mreturn\u001b[0m \u001b[0mhomogeneity_completeness_v_measure\u001b[0m\u001b[0;34m(\u001b[0m\u001b[0mlabels_true\u001b[0m\u001b[0;34m,\u001b[0m \u001b[0mlabels_pred\u001b[0m\u001b[0;34m)\u001b[0m\u001b[0;34m[\u001b[0m\u001b[0;36m0\u001b[0m\u001b[0;34m]\u001b[0m\u001b[0;34m\u001b[0m\u001b[0;34m\u001b[0m\u001b[0m\n\u001b[0m\u001b[1;32m    555\u001b[0m \u001b[0;34m\u001b[0m\u001b[0m\n\u001b[1;32m    556\u001b[0m \u001b[0;34m\u001b[0m\u001b[0m\n",
            "\u001b[0;32m/usr/local/lib/python3.7/dist-packages/sklearn/metrics/cluster/_supervised.py\u001b[0m in \u001b[0;36mhomogeneity_completeness_v_measure\u001b[0;34m(labels_true, labels_pred, beta)\u001b[0m\n\u001b[1;32m    459\u001b[0m     \u001b[0mv_measure_score\u001b[0m\u001b[0;34m\u001b[0m\u001b[0;34m\u001b[0m\u001b[0m\n\u001b[1;32m    460\u001b[0m     \"\"\"\n\u001b[0;32m--> 461\u001b[0;31m     \u001b[0mlabels_true\u001b[0m\u001b[0;34m,\u001b[0m \u001b[0mlabels_pred\u001b[0m \u001b[0;34m=\u001b[0m \u001b[0mcheck_clusterings\u001b[0m\u001b[0;34m(\u001b[0m\u001b[0mlabels_true\u001b[0m\u001b[0;34m,\u001b[0m \u001b[0mlabels_pred\u001b[0m\u001b[0;34m)\u001b[0m\u001b[0;34m\u001b[0m\u001b[0;34m\u001b[0m\u001b[0m\n\u001b[0m\u001b[1;32m    462\u001b[0m \u001b[0;34m\u001b[0m\u001b[0m\n\u001b[1;32m    463\u001b[0m     \u001b[0;32mif\u001b[0m \u001b[0mlen\u001b[0m\u001b[0;34m(\u001b[0m\u001b[0mlabels_true\u001b[0m\u001b[0;34m)\u001b[0m \u001b[0;34m==\u001b[0m \u001b[0;36m0\u001b[0m\u001b[0;34m:\u001b[0m\u001b[0;34m\u001b[0m\u001b[0;34m\u001b[0m\u001b[0m\n",
            "\u001b[0;32m/usr/local/lib/python3.7/dist-packages/sklearn/metrics/cluster/_supervised.py\u001b[0m in \u001b[0;36mcheck_clusterings\u001b[0;34m(labels_true, labels_pred)\u001b[0m\n\u001b[1;32m     70\u001b[0m     \u001b[0;32mif\u001b[0m \u001b[0mlabels_pred\u001b[0m\u001b[0;34m.\u001b[0m\u001b[0mndim\u001b[0m \u001b[0;34m!=\u001b[0m \u001b[0;36m1\u001b[0m\u001b[0;34m:\u001b[0m\u001b[0;34m\u001b[0m\u001b[0;34m\u001b[0m\u001b[0m\n\u001b[1;32m     71\u001b[0m         \u001b[0;32mraise\u001b[0m \u001b[0mValueError\u001b[0m\u001b[0;34m(\u001b[0m\u001b[0;34m\"labels_pred must be 1D: shape is %r\"\u001b[0m \u001b[0;34m%\u001b[0m \u001b[0;34m(\u001b[0m\u001b[0mlabels_pred\u001b[0m\u001b[0;34m.\u001b[0m\u001b[0mshape\u001b[0m\u001b[0;34m,\u001b[0m\u001b[0;34m)\u001b[0m\u001b[0;34m)\u001b[0m\u001b[0;34m\u001b[0m\u001b[0;34m\u001b[0m\u001b[0m\n\u001b[0;32m---> 72\u001b[0;31m     \u001b[0mcheck_consistent_length\u001b[0m\u001b[0;34m(\u001b[0m\u001b[0mlabels_true\u001b[0m\u001b[0;34m,\u001b[0m \u001b[0mlabels_pred\u001b[0m\u001b[0;34m)\u001b[0m\u001b[0;34m\u001b[0m\u001b[0;34m\u001b[0m\u001b[0m\n\u001b[0m\u001b[1;32m     73\u001b[0m \u001b[0;34m\u001b[0m\u001b[0m\n\u001b[1;32m     74\u001b[0m     \u001b[0;32mreturn\u001b[0m \u001b[0mlabels_true\u001b[0m\u001b[0;34m,\u001b[0m \u001b[0mlabels_pred\u001b[0m\u001b[0;34m\u001b[0m\u001b[0;34m\u001b[0m\u001b[0m\n",
            "\u001b[0;32m/usr/local/lib/python3.7/dist-packages/sklearn/utils/validation.py\u001b[0m in \u001b[0;36mcheck_consistent_length\u001b[0;34m(*arrays)\u001b[0m\n\u001b[1;32m    332\u001b[0m         raise ValueError(\n\u001b[1;32m    333\u001b[0m             \u001b[0;34m\"Found input variables with inconsistent numbers of samples: %r\"\u001b[0m\u001b[0;34m\u001b[0m\u001b[0;34m\u001b[0m\u001b[0m\n\u001b[0;32m--> 334\u001b[0;31m             \u001b[0;34m%\u001b[0m \u001b[0;34m[\u001b[0m\u001b[0mint\u001b[0m\u001b[0;34m(\u001b[0m\u001b[0ml\u001b[0m\u001b[0;34m)\u001b[0m \u001b[0;32mfor\u001b[0m \u001b[0ml\u001b[0m \u001b[0;32min\u001b[0m \u001b[0mlengths\u001b[0m\u001b[0;34m]\u001b[0m\u001b[0;34m\u001b[0m\u001b[0;34m\u001b[0m\u001b[0m\n\u001b[0m\u001b[1;32m    335\u001b[0m         )\n\u001b[1;32m    336\u001b[0m \u001b[0;34m\u001b[0m\u001b[0m\n",
            "\u001b[0;31mValueError\u001b[0m: Found input variables with inconsistent numbers of samples: [60000, 33600]"
          ]
        }
      ]
    },
    {
      "cell_type": "markdown",
      "source": [
        "#K-means Test\n"
      ],
      "metadata": {
        "id": "xax_KPJ0w4SI"
      }
    },
    {
      "cell_type": "code",
      "source": [
        "kmeans = MiniBatchKMeans(n_clusters=256)\n",
        "kmeans.fit(X_test)\n",
        "\n",
        "cluster_labels = infer_cluster_labels(kmeans, y_test)\n",
        "\n",
        "test_clusters = kmeans.predict(X_test)\n",
        "prediction = infer_data_labels(kmeans.predict(X_test), cluster_labels)\n",
        "print('Accuracy: {}'.format(accuracy_score(y_test, prediction)))"
      ],
      "metadata": {
        "colab": {
          "base_uri": "https://localhost:8080/"
        },
        "id": "GOWlk-iydhPo",
        "outputId": "09141125-1b2f-47e1-8888-ab3b52334d21"
      },
      "execution_count": null,
      "outputs": [
        {
          "output_type": "stream",
          "name": "stdout",
          "text": [
            "Accuracy: 0.9036\n"
          ]
        }
      ]
    },
    {
      "cell_type": "code",
      "source": [
        "kmeans = MiniBatchKMeans(n_clusters = 36)\n",
        "kmeans.fit(X_test, y_test)\n",
        "\n",
        "# record centroid values\n",
        "centroids = kmeans.cluster_centers_\n",
        "\n",
        "# reshape centroids into images\n",
        "images = centroids.reshape(36, 28, 28)\n",
        "images = images.astype(np.uint8)\n",
        "\n",
        "# determine cluster labels\n",
        "cluster_labels = infer_cluster_labels(kmeans, y_test)\n",
        "prediction = infer_data_labels(kmeans.predict(X_test), cluster_labels)\n",
        "\n",
        "# create figure with subplots using matplotlib.pyplot\n",
        "fig, axs = plt.subplots(6, 6, figsize = (20, 20))\n",
        "plt.gray()\n",
        "\n",
        "# loop through subplots and add centroid images\n",
        "for i, ax in enumerate(axs.flat):\n",
        "    \n",
        "    # determine inferred label using cluster_labels dictionary\n",
        "    for key, value in cluster_labels.items():        \n",
        "        if i in value:\n",
        "            ax.set_title('Inferred Label: {}'.format(key), color='blue')\n",
        "    \n",
        "    # add image to subplot\n",
        "    ax.matshow(images[i])\n",
        "    ax.axis('off')\n",
        "    \n",
        "# display the figure\n",
        "plt.show()"
      ],
      "metadata": {
        "colab": {
          "base_uri": "https://localhost:8080/",
          "height": 921
        },
        "id": "aLRMiFpteHrg",
        "outputId": "ac19dd3b-1ccd-460c-aa5c-cd53a96b2e75"
      },
      "execution_count": null,
      "outputs": [
        {
          "output_type": "display_data",
          "data": {
            "image/png": "[encoded data removed]",
            "text/plain": [
              "<Figure size 1440x1440 with 36 Axes>"
            ]
          },
          "metadata": {
            "needs_background": "light"
          }
        }
      ]
    },
    {
      "cell_type": "code",
      "source": [
        "kmeans = MiniBatchKMeans(n_clusters=256)\n",
        "kmeans.fit(X_test, y_test)\n",
        "\n",
        "cluster_labels = infer_cluster_labels(kmeans, y_test)\n",
        "\n",
        "test_clusters = kmeans.predict(test)\n",
        "prediction = infer_data_labels(kmeans.predict(test), cluster_labels)"
      ],
      "metadata": {
        "colab": {
          "base_uri": "https://localhost:8080/"
        },
        "id": "pL35lM0PeHnJ",
        "outputId": "edd4c5dd-2e74-4e3d-ae4f-68fab8caf438"
      },
      "execution_count": null,
      "outputs": [
        {
          "output_type": "stream",
          "name": "stderr",
          "text": [
            "/usr/local/lib/python3.7/dist-packages/sklearn/base.py:444: UserWarning: X has feature names, but MiniBatchKMeans was fitted without feature names\n",
            "  f\"X has feature names, but {self.__class__.__name__} was fitted without\"\n",
            "/usr/local/lib/python3.7/dist-packages/sklearn/base.py:444: UserWarning: X has feature names, but MiniBatchKMeans was fitted without feature names\n",
            "  f\"X has feature names, but {self.__class__.__name__} was fitted without\"\n"
          ]
        }
      ]
    },
    {
      "cell_type": "code",
      "source": [
        "ID = pd.DataFrame()\n",
        "ID['ImageId'] = test.index+1\n",
        "kmeans_pred = prediction\n",
        "\n",
        "kmeanstest = pd.concat([ID,pd.DataFrame(kmeans_pred)],axis=1)\n",
        "kmeanstest.columns = ['ImageId','Label']"
      ],
      "metadata": {
        "id": "ItvqFPRmeHXc"
      },
      "execution_count": null,
      "outputs": []
    },
    {
      "cell_type": "code",
      "source": [
        "results= kmeanstest\n",
        "\n",
        "# prepare submit file\n",
        "\n",
        "np.savetxt('kmeansresults.csv', \n",
        "           np.c_[range(1,len(test)+1),results], \n",
        "           delimiter=',', \n",
        "           header = 'ImageId,Label', \n",
        "           comments = '', \n",
        "           fmt='%d')"
      ],
      "metadata": {
        "id": "SQWZuPrqlrXj"
      },
      "execution_count": null,
      "outputs": []
    },
    {
      "cell_type": "markdown",
      "source": [
        "#Neural Network"
      ],
      "metadata": {
        "id": "a7m0A6t3xodt"
      }
    },
    {
      "cell_type": "markdown",
      "source": [
        "##Keras\n"
      ],
      "metadata": {
        "id": "085l0wHzZJxy"
      }
    },
    {
      "cell_type": "code",
      "source": [
        "# Keras example found on: https://www.kaggle.com/poonaml/deep-neural-network-keras-way\n",
        "# This Python 3 environment comes with many helpful analytics libraries installed\n",
        "# It is defined by the kaggle/python docker image: https://github.com/kaggle/docker-python\n",
        "# For example, here's several helpful packages to load in \n",
        "\n",
        "import numpy as np # linear algebra\n",
        "import pandas as pd # data processing, CSV file I/O (e.g. pd.read_csv)\n",
        "\n",
        "import matplotlib.pyplot as plt\n",
        "%matplotlib inline\n",
        "\n",
        "from keras.models import Sequential\n",
        "from keras.layers import Dense , Dropout , Lambda, Flatten\n",
        "#from keras.optimizers import Adam , RMSprop\n",
        "from sklearn.model_selection import train_test_split\n",
        "from keras import  backend as K\n",
        "from keras.preprocessing.image import ImageDataGenerator\n"
      ],
      "metadata": {
        "id": "r8yjTZ6lZJj-"
      },
      "execution_count": null,
      "outputs": []
    },
    {
      "cell_type": "code",
      "source": [
        "#upload from raw link on github\n",
        "samplesubmission= pd.read_csv('https://raw.githubusercontent.com/LaurenVaught/DigitRecognizer/main/sample_submission.csv') \n",
        "train = pd.read_csv('https://raw.githubusercontent.com/LaurenVaught/DigitRecognizer/main/train.csv.zip') \n",
        "test = pd.read_csv('https://raw.githubusercontent.com/LaurenVaught/DigitRecognizer/main/test.csv.zip')"
      ],
      "metadata": {
        "id": "t-zxR3v1ZJc8"
      },
      "execution_count": null,
      "outputs": []
    },
    {
      "cell_type": "code",
      "source": [
        "X_train = (train.iloc[:,1:].values).astype('float32') # all pixel values\n",
        "y_train = train.iloc[:,0].values.astype('int32') # only labels i.e targets digits\n",
        "X_test = test.values.astype('float32')"
      ],
      "metadata": {
        "id": "ywyvSwMKZJU4"
      },
      "execution_count": null,
      "outputs": []
    },
    {
      "cell_type": "code",
      "source": [
        "#Convert train datset to (num_images, img_rows, img_cols) format \n",
        "X_train = X_train.reshape(X_train.shape[0], 28, 28)\n",
        "\n",
        "for i in range(6, 9):\n",
        "    plt.subplot(330 + (i+1))\n",
        "    plt.imshow(X_train[i], cmap=plt.get_cmap('gray'))\n",
        "    plt.title(y_train[i]);"
      ],
      "metadata": {
        "colab": {
          "base_uri": "https://localhost:8080/",
          "height": 130
        },
        "id": "mETLUEnDaJ1M",
        "outputId": "dc128c95-5a5d-4d09-a342-dfeb1683a366"
      },
      "execution_count": null,
      "outputs": [
        {
          "output_type": "display_data",
          "data": {
            "image/png": "[encoded data removed]",
            "text/plain": [
              "<Figure size 432x288 with 3 Axes>"
            ]
          },
          "metadata": {
            "needs_background": "light"
          }
        }
      ]
    },
    {
      "cell_type": "code",
      "source": [
        "#expand 1 more dimention as 1 for colour channel gray\n",
        "X_train = X_train.reshape(X_train.shape[0], 28, 28,1)\n",
        "X_train.shape"
      ],
      "metadata": {
        "colab": {
          "base_uri": "https://localhost:8080/"
        },
        "id": "g8qX9oSdaJy9",
        "outputId": "4f1dda51-5a82-448a-9f56-8566c884532c"
      },
      "execution_count": null,
      "outputs": [
        {
          "output_type": "execute_result",
          "data": {
            "text/plain": [
              "(42000, 28, 28, 1)"
            ]
          },
          "metadata": {},
          "execution_count": 29
        }
      ]
    },
    {
      "cell_type": "code",
      "source": [
        "X_test = X_test.reshape(X_test.shape[0], 28, 28,1)\n",
        "X_test.shape"
      ],
      "metadata": {
        "colab": {
          "base_uri": "https://localhost:8080/"
        },
        "id": "6UJKwuR9aJvU",
        "outputId": "58acac29-1b57-4350-a5fd-1eb2c7b44c8c"
      },
      "execution_count": null,
      "outputs": [
        {
          "output_type": "execute_result",
          "data": {
            "text/plain": [
              "(28000, 28, 28, 1)"
            ]
          },
          "metadata": {},
          "execution_count": 30
        }
      ]
    },
    {
      "cell_type": "code",
      "source": [
        "mean_px = X_train.mean().astype(np.float32)\n",
        "std_px = X_train.std().astype(np.float32)\n",
        "\n",
        "def standardize(x): \n",
        "    return (x-mean_px)/std_px"
      ],
      "metadata": {
        "id": "9OKQMx8RaJr6"
      },
      "execution_count": null,
      "outputs": []
    },
    {
      "cell_type": "code",
      "source": [
        "from keras.utils.np_utils import to_categorical\n",
        "y_train= to_categorical(y_train)\n",
        "num_classes = y_train.shape[1]\n",
        "num_classes"
      ],
      "metadata": {
        "colab": {
          "base_uri": "https://localhost:8080/"
        },
        "id": "kUvTS_lKaJjU",
        "outputId": "41281a9d-a934-49ae-83ff-fa00b6ac9aca"
      },
      "execution_count": null,
      "outputs": [
        {
          "output_type": "execute_result",
          "data": {
            "text/plain": [
              "10"
            ]
          },
          "metadata": {},
          "execution_count": 32
        }
      ]
    },
    {
      "cell_type": "code",
      "source": [
        "plt.title(y_train[9])\n",
        "plt.plot(y_train[9])\n",
        "plt.xticks(range(10));"
      ],
      "metadata": {
        "colab": {
          "base_uri": "https://localhost:8080/",
          "height": 355
        },
        "id": "TrI7mwz5aa3r",
        "outputId": "1d5597e5-5835-43d6-9a6b-8363f937e4d5"
      },
      "execution_count": null,
      "outputs": [
        {
          "output_type": "stream",
          "name": "stderr",
          "text": [
            "/usr/local/lib/python3.7/dist-packages/matplotlib/text.py:1165: FutureWarning:\n",
            "\n",
            "elementwise comparison failed; returning scalar instead, but in the future will perform elementwise comparison\n",
            "\n"
          ]
        },
        {
          "output_type": "display_data",
          "data": {
            "image/png": "[encoded data removed]",
            "text/plain": [
              "<Figure size 432x288 with 1 Axes>"
            ]
          },
          "metadata": {
            "needs_background": "light"
          }
        }
      ]
    },
    {
      "cell_type": "code",
      "source": [
        "# fix random seed for reproducibility\n",
        "seed = 43\n",
        "np.random.seed(seed)"
      ],
      "metadata": {
        "id": "CeO2Vlqfaa2K"
      },
      "execution_count": null,
      "outputs": []
    },
    {
      "cell_type": "code",
      "source": [
        "from keras.models import  Sequential\n",
        "from keras.layers.core import  Lambda , Dense, Flatten, Dropout\n",
        "from keras.callbacks import EarlyStopping\n",
        "from keras.layers import BatchNormalization, Convolution2D , MaxPooling2D"
      ],
      "metadata": {
        "id": "kD_XUdBcaay0"
      },
      "execution_count": null,
      "outputs": []
    },
    {
      "cell_type": "code",
      "source": [
        "model= Sequential()\n",
        "model.add(Lambda(standardize,input_shape=(28,28,1)))\n",
        "model.add(Flatten())\n",
        "model.add(Dense(10, activation='softmax'))\n",
        "print(\"input shape \",model.input_shape)\n",
        "print(\"output shape \",model.output_shape)"
      ],
      "metadata": {
        "colab": {
          "base_uri": "https://localhost:8080/"
        },
        "id": "mh6mLMk7aaxQ",
        "outputId": "dfe029b7-830d-471e-c824-1b85e66ab51b"
      },
      "execution_count": null,
      "outputs": [
        {
          "output_type": "stream",
          "name": "stdout",
          "text": [
            "input shape  (None, 28, 28, 1)\n",
            "output shape  (None, 10)\n"
          ]
        }
      ]
    },
    {
      "cell_type": "code",
      "source": [
        "#from keras.optimizers import RMSprop\n",
        "from tensorflow.keras.optimizers import RMSprop\n",
        "model.compile(optimizer=RMSprop(lr=0.001),\n",
        " loss='categorical_crossentropy',\n",
        " metrics=['accuracy'])"
      ],
      "metadata": {
        "colab": {
          "base_uri": "https://localhost:8080/"
        },
        "id": "CHAcBuuWaauW",
        "outputId": "a658908c-f7fe-4ced-d6a1-d85db28eff8d"
      },
      "execution_count": null,
      "outputs": [
        {
          "output_type": "stream",
          "name": "stderr",
          "text": [
            "/usr/local/lib/python3.7/dist-packages/keras/optimizer_v2/rmsprop.py:130: UserWarning:\n",
            "\n",
            "The `lr` argument is deprecated, use `learning_rate` instead.\n",
            "\n"
          ]
        }
      ]
    },
    {
      "cell_type": "code",
      "source": [
        "from keras.preprocessing import image\n",
        "gen = image.ImageDataGenerator()"
      ],
      "metadata": {
        "id": "_4QXI2obaarW"
      },
      "execution_count": null,
      "outputs": []
    },
    {
      "cell_type": "code",
      "source": [
        "from sklearn.model_selection import train_test_split\n",
        "X = X_train\n",
        "y = y_train\n",
        "X_train, X_val, y_train, y_val = train_test_split(X_train, y_train, test_size=0.10, random_state=42)\n",
        "batches = gen.flow(X_train, y_train, batch_size=64)\n",
        "val_batches=gen.flow(X_val, y_val, batch_size=64)"
      ],
      "metadata": {
        "id": "4a83vodua4fv"
      },
      "execution_count": null,
      "outputs": []
    },
    {
      "cell_type": "code",
      "source": [
        "history=model.fit_generator(generator=batches, steps_per_epoch=batches.n, epochs=3, \n",
        "                    validation_data=val_batches, validation_steps=val_batches.n)"
      ],
      "metadata": {
        "colab": {
          "base_uri": "https://localhost:8080/"
        },
        "id": "WY7KaIzNa4bj",
        "outputId": "45e1dedf-05fe-4e96-f88c-5c6c4ced1571"
      },
      "execution_count": null,
      "outputs": [
        {
          "output_type": "stream",
          "name": "stderr",
          "text": [
            "/usr/local/lib/python3.7/dist-packages/ipykernel_launcher.py:2: UserWarning:\n",
            "\n",
            "`Model.fit_generator` is deprecated and will be removed in a future version. Please use `Model.fit`, which supports generators.\n",
            "\n"
          ]
        },
        {
          "output_type": "stream",
          "name": "stdout",
          "text": [
            "Epoch 1/3\n",
            "  584/37800 [..............................] - ETA: 3:44 - loss: 0.4396 - accuracy: 0.8684WARNING:tensorflow:Your input ran out of data; interrupting training. Make sure that your dataset or generator can generate at least `steps_per_epoch * epochs` batches (in this case, 113400 batches). You may need to use the repeat() function when building your dataset.\n",
            "WARNING:tensorflow:Your input ran out of data; interrupting training. Make sure that your dataset or generator can generate at least `steps_per_epoch * epochs` batches (in this case, 4200 batches). You may need to use the repeat() function when building your dataset.\n",
            "37800/37800 [==============================] - 7s 141us/step - loss: 0.4370 - accuracy: 0.8692 - val_loss: 0.3311 - val_accuracy: 0.9062\n"
          ]
        }
      ]
    },
    {
      "cell_type": "code",
      "source": [
        "history_dict = history.history\n",
        "history_dict.keys()"
      ],
      "metadata": {
        "colab": {
          "base_uri": "https://localhost:8080/"
        },
        "id": "hwojq_Ixa4X7",
        "outputId": "0ccee989-5fed-480e-ef7d-24dc23507cb1"
      },
      "execution_count": null,
      "outputs": [
        {
          "output_type": "execute_result",
          "data": {
            "text/plain": [
              "dict_keys(['loss', 'accuracy', 'val_loss', 'val_accuracy'])"
            ]
          },
          "metadata": {},
          "execution_count": 42
        }
      ]
    },
    {
      "cell_type": "code",
      "source": [
        "import matplotlib.pyplot as plt\n",
        "%matplotlib inline\n",
        "loss_values = history_dict['loss']\n",
        "val_loss_values = history_dict['val_loss']\n",
        "epochs = range(1, len(loss_values) + 1)\n",
        "\n",
        "# \"bo\" is for \"blue dot\"\n",
        "plt.plot(epochs, loss_values, 'bo')\n",
        "# b+ is for \"blue crosses\"\n",
        "plt.plot(epochs, val_loss_values, 'b+')\n",
        "plt.xlabel('Epochs')\n",
        "plt.ylabel('Loss')\n",
        "\n",
        "plt.show()\n"
      ],
      "metadata": {
        "colab": {
          "base_uri": "https://localhost:8080/",
          "height": 285
        },
        "id": "Fx16-TuVbDKx",
        "outputId": "02164873-af82-44cc-b36e-c43027d1d422"
      },
      "execution_count": null,
      "outputs": [
        {
          "output_type": "display_data",
          "data": {
            "image/png": "[encoded data removed]",
            "text/plain": [
              "<Figure size 432x288 with 1 Axes>"
            ]
          },
          "metadata": {
            "needs_background": "light"
          }
        }
      ]
    },
    {
      "cell_type": "code",
      "source": [
        "def get_fc_model():\n",
        "    model = Sequential([\n",
        "        Lambda(standardize, input_shape=(28,28,1)),\n",
        "        Flatten(),\n",
        "        Dense(512, activation='relu'),\n",
        "        Dense(10, activation='softmax')\n",
        "        ])\n",
        "    model.compile(optimizer='Adam', loss='categorical_crossentropy',\n",
        "                  metrics=['accuracy'])\n",
        "    return model"
      ],
      "metadata": {
        "id": "aaDgeN3FbDGN"
      },
      "execution_count": null,
      "outputs": []
    },
    {
      "cell_type": "code",
      "source": [
        "fc = get_fc_model()\n",
        "fc.optimizer.lr=0.01"
      ],
      "metadata": {
        "id": "JWPSLDmebDDM"
      },
      "execution_count": null,
      "outputs": []
    },
    {
      "cell_type": "code",
      "source": [
        "history=fc.fit_generator(generator=batches, steps_per_epoch=batches.n, epochs=1, \n",
        "                    validation_data=val_batches, validation_steps=val_batches.n)"
      ],
      "metadata": {
        "colab": {
          "base_uri": "https://localhost:8080/"
        },
        "id": "DOUs_3X8bQVc",
        "outputId": "35e355c6-2a53-4ff7-d048-00721fa3a546"
      },
      "execution_count": null,
      "outputs": [
        {
          "output_type": "stream",
          "name": "stderr",
          "text": [
            "/usr/local/lib/python3.7/dist-packages/ipykernel_launcher.py:2: UserWarning:\n",
            "\n",
            "`Model.fit_generator` is deprecated and will be removed in a future version. Please use `Model.fit`, which supports generators.\n",
            "\n"
          ]
        },
        {
          "output_type": "stream",
          "name": "stdout",
          "text": [
            "  585/37800 [..............................] - ETA: 4:45 - loss: 0.3627 - accuracy: 0.9099WARNING:tensorflow:Your input ran out of data; interrupting training. Make sure that your dataset or generator can generate at least `steps_per_epoch * epochs` batches (in this case, 37800 batches). You may need to use the repeat() function when building your dataset.\n",
            "WARNING:tensorflow:Your input ran out of data; interrupting training. Make sure that your dataset or generator can generate at least `steps_per_epoch * epochs` batches (in this case, 4200 batches). You may need to use the repeat() function when building your dataset.\n",
            "37800/37800 [==============================] - 6s 136us/step - loss: 0.3613 - accuracy: 0.9103 - val_loss: 0.2196 - val_accuracy: 0.9400\n"
          ]
        }
      ]
    },
    {
      "cell_type": "code",
      "source": [
        "#from keras.optimizers import Adam , RMSprop\n",
        "\n",
        "from tensorflow.keras.optimizers import Adam "
      ],
      "metadata": {
        "id": "5dkH7MQFbqmd"
      },
      "execution_count": null,
      "outputs": []
    },
    {
      "cell_type": "code",
      "source": [
        "#CNN\n",
        "from keras.layers import Convolution2D, MaxPooling2D\n",
        "\n",
        "def get_cnn_model():\n",
        "    model = Sequential([\n",
        "        Lambda(standardize, input_shape=(28,28,1)),\n",
        "        Convolution2D(32,(3,3), activation='relu'),\n",
        "        Convolution2D(32,(3,3), activation='relu'),\n",
        "        MaxPooling2D(),\n",
        "        Convolution2D(64,(3,3), activation='relu'),\n",
        "        Convolution2D(64,(3,3), activation='relu'),\n",
        "        MaxPooling2D(),\n",
        "        Flatten(),\n",
        "        Dense(512, activation='relu'),\n",
        "        Dense(10, activation='softmax')\n",
        "        ])\n",
        "    model.compile(Adam(), loss='categorical_crossentropy',\n",
        "                  metrics=['accuracy'])\n",
        "    return model"
      ],
      "metadata": {
        "id": "DHmN_q5kbbxW"
      },
      "execution_count": null,
      "outputs": []
    },
    {
      "cell_type": "code",
      "source": [
        "model= get_cnn_model()\n",
        "model.optimizer.lr=0.01"
      ],
      "metadata": {
        "id": "CJGTEYffbbtg"
      },
      "execution_count": null,
      "outputs": []
    },
    {
      "cell_type": "code",
      "source": [
        "history=model.fit_generator(generator=batches, steps_per_epoch=batches.n, epochs=1, \n",
        "                    validation_data=val_batches, validation_steps=val_batches.n)"
      ],
      "metadata": {
        "colab": {
          "base_uri": "https://localhost:8080/"
        },
        "id": "Xm9Kwl9ubbqI",
        "outputId": "a9bed8ef-354d-4e4b-a5ae-b538e4f17e46"
      },
      "execution_count": null,
      "outputs": [
        {
          "output_type": "stream",
          "name": "stderr",
          "text": [
            "/usr/local/lib/python3.7/dist-packages/ipykernel_launcher.py:2: UserWarning:\n",
            "\n",
            "`Model.fit_generator` is deprecated and will be removed in a future version. Please use `Model.fit`, which supports generators.\n",
            "\n"
          ]
        },
        {
          "output_type": "stream",
          "name": "stdout",
          "text": [
            "  591/37800 [..............................] - ETA: 1:31:58 - loss: 2.3109 - accuracy: 0.1092WARNING:tensorflow:Your input ran out of data; interrupting training. Make sure that your dataset or generator can generate at least `steps_per_epoch * epochs` batches (in this case, 37800 batches). You may need to use the repeat() function when building your dataset.\n",
            "WARNING:tensorflow:Your input ran out of data; interrupting training. Make sure that your dataset or generator can generate at least `steps_per_epoch * epochs` batches (in this case, 4200 batches). You may need to use the repeat() function when building your dataset.\n",
            "37800/37800 [==============================] - 91s 2ms/step - loss: 2.3109 - accuracy: 0.1092 - val_loss: 2.3003 - val_accuracy: 0.1043\n"
          ]
        }
      ]
    },
    {
      "cell_type": "code",
      "source": [
        "gen =ImageDataGenerator(rotation_range=8, width_shift_range=0.08, shear_range=0.3,\n",
        "                               height_shift_range=0.08, zoom_range=0.08)\n",
        "batches = gen.flow(X_train, y_train, batch_size=64)\n",
        "val_batches = gen.flow(X_val, y_val, batch_size=64)"
      ],
      "metadata": {
        "id": "9Yk1B3itbbiE"
      },
      "execution_count": null,
      "outputs": []
    },
    {
      "cell_type": "code",
      "source": [
        "model.optimizer.lr=0.001\n",
        "history=model.fit_generator(generator=batches, steps_per_epoch=batches.n, epochs=1, \n",
        "                    validation_data=val_batches, validation_steps=val_batches.n)"
      ],
      "metadata": {
        "colab": {
          "base_uri": "https://localhost:8080/"
        },
        "id": "JoRk-VCicDNo",
        "outputId": "b7dea1d6-430c-4209-f47c-6059038a3226"
      },
      "execution_count": null,
      "outputs": [
        {
          "output_type": "stream",
          "name": "stderr",
          "text": [
            "/usr/local/lib/python3.7/dist-packages/ipykernel_launcher.py:3: UserWarning:\n",
            "\n",
            "`Model.fit_generator` is deprecated and will be removed in a future version. Please use `Model.fit`, which supports generators.\n",
            "\n"
          ]
        },
        {
          "output_type": "stream",
          "name": "stdout",
          "text": [
            "  591/37800 [..............................] - ETA: 1:17:57 - loss: 2.3019 - accuracy: 0.1077WARNING:tensorflow:Your input ran out of data; interrupting training. Make sure that your dataset or generator can generate at least `steps_per_epoch * epochs` batches (in this case, 37800 batches). You may need to use the repeat() function when building your dataset.\n",
            "WARNING:tensorflow:Your input ran out of data; interrupting training. Make sure that your dataset or generator can generate at least `steps_per_epoch * epochs` batches (in this case, 4200 batches). You may need to use the repeat() function when building your dataset.\n",
            "37800/37800 [==============================] - 77s 2ms/step - loss: 2.3019 - accuracy: 0.1077 - val_loss: 2.2998 - val_accuracy: 0.1121\n"
          ]
        }
      ]
    },
    {
      "cell_type": "code",
      "source": [
        "#normalization\n",
        "#from keras.layers.normalization import BatchNormalization\n",
        "from tensorflow.keras.layers import BatchNormalization\n",
        "\n",
        "def get_bn_model():\n",
        "    model = Sequential([\n",
        "        Lambda(standardize, input_shape=(28,28,1)),\n",
        "        Convolution2D(32,(3,3), activation='relu'),\n",
        "        BatchNormalization(axis=1),\n",
        "        Convolution2D(32,(3,3), activation='relu'),\n",
        "        MaxPooling2D(),\n",
        "        BatchNormalization(axis=1),\n",
        "        Convolution2D(64,(3,3), activation='relu'),\n",
        "        BatchNormalization(axis=1),\n",
        "        Convolution2D(64,(3,3), activation='relu'),\n",
        "        MaxPooling2D(),\n",
        "        Flatten(),\n",
        "        BatchNormalization(),\n",
        "        Dense(512, activation='relu'),\n",
        "        BatchNormalization(),\n",
        "        Dense(10, activation='softmax')\n",
        "        ])\n",
        "    model.compile(Adam(), loss='categorical_crossentropy', metrics=['accuracy'])\n",
        "    return model"
      ],
      "metadata": {
        "id": "znZmD__-cFBO"
      },
      "execution_count": null,
      "outputs": []
    },
    {
      "cell_type": "code",
      "source": [
        "model= get_bn_model()\n",
        "model.optimizer.lr=0.01\n",
        "history=model.fit_generator(generator=batches, steps_per_epoch=batches.n, epochs=1, \n",
        "                    validation_data=val_batches, validation_steps=val_batches.n)"
      ],
      "metadata": {
        "colab": {
          "base_uri": "https://localhost:8080/"
        },
        "id": "iqYmBtwHcE08",
        "outputId": "39b029c7-dae2-425f-befc-a5c1b1ac06a2"
      },
      "execution_count": null,
      "outputs": [
        {
          "output_type": "stream",
          "name": "stderr",
          "text": [
            "/usr/local/lib/python3.7/dist-packages/ipykernel_launcher.py:4: UserWarning:\n",
            "\n",
            "`Model.fit_generator` is deprecated and will be removed in a future version. Please use `Model.fit`, which supports generators.\n",
            "\n"
          ]
        },
        {
          "output_type": "stream",
          "name": "stdout",
          "text": [
            "  591/37800 [..............................] - ETA: 1:51:15 - loss: 0.2405 - accuracy: 0.9336WARNING:tensorflow:Your input ran out of data; interrupting training. Make sure that your dataset or generator can generate at least `steps_per_epoch * epochs` batches (in this case, 37800 batches). You may need to use the repeat() function when building your dataset.\n",
            "WARNING:tensorflow:Your input ran out of data; interrupting training. Make sure that your dataset or generator can generate at least `steps_per_epoch * epochs` batches (in this case, 4200 batches). You may need to use the repeat() function when building your dataset.\n",
            "37800/37800 [==============================] - 113s 3ms/step - loss: 0.2405 - accuracy: 0.9336 - val_loss: 0.0971 - val_accuracy: 0.9717\n"
          ]
        }
      ]
    },
    {
      "cell_type": "code",
      "source": [
        "#predictions\n",
        "model.optimizer.lr=0.01\n",
        "gen = image.ImageDataGenerator()\n",
        "batches = gen.flow(X, y, batch_size=64)\n",
        "history=model.fit_generator(generator=batches, steps_per_epoch=batches.n, epochs=3)"
      ],
      "metadata": {
        "colab": {
          "base_uri": "https://localhost:8080/"
        },
        "id": "S_HBYDxEcYre",
        "outputId": "6407f8c5-2bd9-4f44-86cb-b22c620ea3a7"
      },
      "execution_count": null,
      "outputs": [
        {
          "output_type": "stream",
          "name": "stdout",
          "text": [
            "Epoch 1/3\n"
          ]
        },
        {
          "output_type": "stream",
          "name": "stderr",
          "text": [
            "/usr/local/lib/python3.7/dist-packages/ipykernel_launcher.py:5: UserWarning:\n",
            "\n",
            "`Model.fit_generator` is deprecated and will be removed in a future version. Please use `Model.fit`, which supports generators.\n",
            "\n"
          ]
        },
        {
          "output_type": "stream",
          "name": "stdout",
          "text": [
            "  657/42000 [..............................] - ETA: 1:47:38 - loss: 0.0598 - accuracy: 0.9831WARNING:tensorflow:Your input ran out of data; interrupting training. Make sure that your dataset or generator can generate at least `steps_per_epoch * epochs` batches (in this case, 126000 batches). You may need to use the repeat() function when building your dataset.\n",
            "42000/42000 [==============================] - 103s 2ms/step - loss: 0.0598 - accuracy: 0.9831\n"
          ]
        }
      ]
    },
    {
      "cell_type": "code",
      "source": [
        "predict_x=model.predict(X_test) \n",
        "classes_x=np.argmax(predict_x,axis=1)\n",
        "predictions = (model.predict(X_test) > 0.5).astype(\"int32\")"
      ],
      "metadata": {
        "id": "BxCtlG5kfY5a"
      },
      "execution_count": null,
      "outputs": []
    },
    {
      "cell_type": "code",
      "source": [
        "ID = pd.DataFrame()\n",
        "ID['ImageId'] = test.index+1\n",
        "resultskeras= predictions\n",
        "\n",
        "submitkeras = pd.concat([ID,pd.DataFrame(resultskeras)],axis=1)\n",
        "submitkeras.columns = ['ImageId','Label']\n",
        "submitkeras.head()"
      ],
      "metadata": {
        "colab": {
          "base_uri": "https://localhost:8080/",
          "height": 371
        },
        "id": "sGN2c-sNf8gO",
        "outputId": "19280336-1d6d-477c-aac9-45adbca5ab0f"
      },
      "execution_count": null,
      "outputs": [
        {
          "output_type": "error",
          "ename": "ValueError",
          "evalue": "ignored",
          "traceback": [
            "\u001b[0;31m---------------------------------------------------------------------------\u001b[0m",
            "\u001b[0;31mValueError\u001b[0m                                Traceback (most recent call last)",
            "\u001b[0;32m<ipython-input-68-1937b60a4b8c>\u001b[0m in \u001b[0;36m<module>\u001b[0;34m()\u001b[0m\n\u001b[1;32m      4\u001b[0m \u001b[0;34m\u001b[0m\u001b[0m\n\u001b[1;32m      5\u001b[0m \u001b[0msubmitkeras\u001b[0m \u001b[0;34m=\u001b[0m \u001b[0mpd\u001b[0m\u001b[0;34m.\u001b[0m\u001b[0mconcat\u001b[0m\u001b[0;34m(\u001b[0m\u001b[0;34m[\u001b[0m\u001b[0mID\u001b[0m\u001b[0;34m,\u001b[0m\u001b[0mpd\u001b[0m\u001b[0;34m.\u001b[0m\u001b[0mDataFrame\u001b[0m\u001b[0;34m(\u001b[0m\u001b[0mresultskeras\u001b[0m\u001b[0;34m)\u001b[0m\u001b[0;34m]\u001b[0m\u001b[0;34m,\u001b[0m\u001b[0maxis\u001b[0m\u001b[0;34m=\u001b[0m\u001b[0;36m1\u001b[0m\u001b[0;34m)\u001b[0m\u001b[0;34m\u001b[0m\u001b[0;34m\u001b[0m\u001b[0m\n\u001b[0;32m----> 6\u001b[0;31m \u001b[0msubmitkeras\u001b[0m\u001b[0;34m.\u001b[0m\u001b[0mcolumns\u001b[0m \u001b[0;34m=\u001b[0m \u001b[0;34m[\u001b[0m\u001b[0;34m'ImageId'\u001b[0m\u001b[0;34m,\u001b[0m\u001b[0;34m'Label'\u001b[0m\u001b[0;34m]\u001b[0m\u001b[0;34m\u001b[0m\u001b[0;34m\u001b[0m\u001b[0m\n\u001b[0m\u001b[1;32m      7\u001b[0m \u001b[0msubmitkeras\u001b[0m\u001b[0;34m.\u001b[0m\u001b[0mhead\u001b[0m\u001b[0;34m(\u001b[0m\u001b[0;34m)\u001b[0m\u001b[0;34m\u001b[0m\u001b[0;34m\u001b[0m\u001b[0m\n",
            "\u001b[0;32m/usr/local/lib/python3.7/dist-packages/pandas/core/generic.py\u001b[0m in \u001b[0;36m__setattr__\u001b[0;34m(self, name, value)\u001b[0m\n\u001b[1;32m   5498\u001b[0m         \u001b[0;32mtry\u001b[0m\u001b[0;34m:\u001b[0m\u001b[0;34m\u001b[0m\u001b[0;34m\u001b[0m\u001b[0m\n\u001b[1;32m   5499\u001b[0m             \u001b[0mobject\u001b[0m\u001b[0;34m.\u001b[0m\u001b[0m__getattribute__\u001b[0m\u001b[0;34m(\u001b[0m\u001b[0mself\u001b[0m\u001b[0;34m,\u001b[0m \u001b[0mname\u001b[0m\u001b[0;34m)\u001b[0m\u001b[0;34m\u001b[0m\u001b[0;34m\u001b[0m\u001b[0m\n\u001b[0;32m-> 5500\u001b[0;31m             \u001b[0;32mreturn\u001b[0m \u001b[0mobject\u001b[0m\u001b[0;34m.\u001b[0m\u001b[0m__setattr__\u001b[0m\u001b[0;34m(\u001b[0m\u001b[0mself\u001b[0m\u001b[0;34m,\u001b[0m \u001b[0mname\u001b[0m\u001b[0;34m,\u001b[0m \u001b[0mvalue\u001b[0m\u001b[0;34m)\u001b[0m\u001b[0;34m\u001b[0m\u001b[0;34m\u001b[0m\u001b[0m\n\u001b[0m\u001b[1;32m   5501\u001b[0m         \u001b[0;32mexcept\u001b[0m \u001b[0mAttributeError\u001b[0m\u001b[0;34m:\u001b[0m\u001b[0;34m\u001b[0m\u001b[0;34m\u001b[0m\u001b[0m\n\u001b[1;32m   5502\u001b[0m             \u001b[0;32mpass\u001b[0m\u001b[0;34m\u001b[0m\u001b[0;34m\u001b[0m\u001b[0m\n",
            "\u001b[0;32m/usr/local/lib/python3.7/dist-packages/pandas/_libs/properties.pyx\u001b[0m in \u001b[0;36mpandas._libs.properties.AxisProperty.__set__\u001b[0;34m()\u001b[0m\n",
            "\u001b[0;32m/usr/local/lib/python3.7/dist-packages/pandas/core/generic.py\u001b[0m in \u001b[0;36m_set_axis\u001b[0;34m(self, axis, labels)\u001b[0m\n\u001b[1;32m    764\u001b[0m     \u001b[0;32mdef\u001b[0m \u001b[0m_set_axis\u001b[0m\u001b[0;34m(\u001b[0m\u001b[0mself\u001b[0m\u001b[0;34m,\u001b[0m \u001b[0maxis\u001b[0m\u001b[0;34m:\u001b[0m \u001b[0mint\u001b[0m\u001b[0;34m,\u001b[0m \u001b[0mlabels\u001b[0m\u001b[0;34m:\u001b[0m \u001b[0mIndex\u001b[0m\u001b[0;34m)\u001b[0m \u001b[0;34m->\u001b[0m \u001b[0;32mNone\u001b[0m\u001b[0;34m:\u001b[0m\u001b[0;34m\u001b[0m\u001b[0;34m\u001b[0m\u001b[0m\n\u001b[1;32m    765\u001b[0m         \u001b[0mlabels\u001b[0m \u001b[0;34m=\u001b[0m \u001b[0mensure_index\u001b[0m\u001b[0;34m(\u001b[0m\u001b[0mlabels\u001b[0m\u001b[0;34m)\u001b[0m\u001b[0;34m\u001b[0m\u001b[0;34m\u001b[0m\u001b[0m\n\u001b[0;32m--> 766\u001b[0;31m         \u001b[0mself\u001b[0m\u001b[0;34m.\u001b[0m\u001b[0m_mgr\u001b[0m\u001b[0;34m.\u001b[0m\u001b[0mset_axis\u001b[0m\u001b[0;34m(\u001b[0m\u001b[0maxis\u001b[0m\u001b[0;34m,\u001b[0m \u001b[0mlabels\u001b[0m\u001b[0;34m)\u001b[0m\u001b[0;34m\u001b[0m\u001b[0;34m\u001b[0m\u001b[0m\n\u001b[0m\u001b[1;32m    767\u001b[0m         \u001b[0mself\u001b[0m\u001b[0;34m.\u001b[0m\u001b[0m_clear_item_cache\u001b[0m\u001b[0;34m(\u001b[0m\u001b[0;34m)\u001b[0m\u001b[0;34m\u001b[0m\u001b[0;34m\u001b[0m\u001b[0m\n\u001b[1;32m    768\u001b[0m \u001b[0;34m\u001b[0m\u001b[0m\n",
            "\u001b[0;32m/usr/local/lib/python3.7/dist-packages/pandas/core/internals/managers.py\u001b[0m in \u001b[0;36mset_axis\u001b[0;34m(self, axis, new_labels)\u001b[0m\n\u001b[1;32m    214\u001b[0m     \u001b[0;32mdef\u001b[0m \u001b[0mset_axis\u001b[0m\u001b[0;34m(\u001b[0m\u001b[0mself\u001b[0m\u001b[0;34m,\u001b[0m \u001b[0maxis\u001b[0m\u001b[0;34m:\u001b[0m \u001b[0mint\u001b[0m\u001b[0;34m,\u001b[0m \u001b[0mnew_labels\u001b[0m\u001b[0;34m:\u001b[0m \u001b[0mIndex\u001b[0m\u001b[0;34m)\u001b[0m \u001b[0;34m->\u001b[0m \u001b[0;32mNone\u001b[0m\u001b[0;34m:\u001b[0m\u001b[0;34m\u001b[0m\u001b[0;34m\u001b[0m\u001b[0m\n\u001b[1;32m    215\u001b[0m         \u001b[0;31m# Caller is responsible for ensuring we have an Index object.\u001b[0m\u001b[0;34m\u001b[0m\u001b[0;34m\u001b[0m\u001b[0;34m\u001b[0m\u001b[0m\n\u001b[0;32m--> 216\u001b[0;31m         \u001b[0mself\u001b[0m\u001b[0;34m.\u001b[0m\u001b[0m_validate_set_axis\u001b[0m\u001b[0;34m(\u001b[0m\u001b[0maxis\u001b[0m\u001b[0;34m,\u001b[0m \u001b[0mnew_labels\u001b[0m\u001b[0;34m)\u001b[0m\u001b[0;34m\u001b[0m\u001b[0;34m\u001b[0m\u001b[0m\n\u001b[0m\u001b[1;32m    217\u001b[0m         \u001b[0mself\u001b[0m\u001b[0;34m.\u001b[0m\u001b[0maxes\u001b[0m\u001b[0;34m[\u001b[0m\u001b[0maxis\u001b[0m\u001b[0;34m]\u001b[0m \u001b[0;34m=\u001b[0m \u001b[0mnew_labels\u001b[0m\u001b[0;34m\u001b[0m\u001b[0;34m\u001b[0m\u001b[0m\n\u001b[1;32m    218\u001b[0m \u001b[0;34m\u001b[0m\u001b[0m\n",
            "\u001b[0;32m/usr/local/lib/python3.7/dist-packages/pandas/core/internals/base.py\u001b[0m in \u001b[0;36m_validate_set_axis\u001b[0;34m(self, axis, new_labels)\u001b[0m\n\u001b[1;32m     56\u001b[0m         \u001b[0;32melif\u001b[0m \u001b[0mnew_len\u001b[0m \u001b[0;34m!=\u001b[0m \u001b[0mold_len\u001b[0m\u001b[0;34m:\u001b[0m\u001b[0;34m\u001b[0m\u001b[0;34m\u001b[0m\u001b[0m\n\u001b[1;32m     57\u001b[0m             raise ValueError(\n\u001b[0;32m---> 58\u001b[0;31m                 \u001b[0;34mf\"Length mismatch: Expected axis has {old_len} elements, new \"\u001b[0m\u001b[0;34m\u001b[0m\u001b[0;34m\u001b[0m\u001b[0m\n\u001b[0m\u001b[1;32m     59\u001b[0m                 \u001b[0;34mf\"values have {new_len} elements\"\u001b[0m\u001b[0;34m\u001b[0m\u001b[0;34m\u001b[0m\u001b[0m\n\u001b[1;32m     60\u001b[0m             )\n",
            "\u001b[0;31mValueError\u001b[0m: Length mismatch: Expected axis has 11 elements, new values have 2 elements"
          ]
        }
      ]
    },
    {
      "cell_type": "code",
      "source": [
        "#predictions = model.predict_classes(X_test, verbose=0)\n",
        "\n",
        "submissions=pd.DataFrame({\"ImageId\": list(range(1,len(predict_x)+1)),\"Label\": predictions})\n",
        "submissions.to_csv(\"keras.csv\", index=False, header=True)"
      ],
      "metadata": {
        "colab": {
          "base_uri": "https://localhost:8080/",
          "height": 371
        },
        "id": "lbbJDyJjcYks",
        "outputId": "fc77af35-e1e0-40b1-f605-dd1380b9fb79"
      },
      "execution_count": null,
      "outputs": [
        {
          "output_type": "error",
          "ename": "ValueError",
          "evalue": "ignored",
          "traceback": [
            "\u001b[0;31m---------------------------------------------------------------------------\u001b[0m",
            "\u001b[0;31mValueError\u001b[0m                                Traceback (most recent call last)",
            "\u001b[0;32m<ipython-input-69-191963cfc6d8>\u001b[0m in \u001b[0;36m<module>\u001b[0;34m()\u001b[0m\n\u001b[1;32m      1\u001b[0m \u001b[0;31m#predictions = model.predict_classes(X_test, verbose=0)\u001b[0m\u001b[0;34m\u001b[0m\u001b[0;34m\u001b[0m\u001b[0;34m\u001b[0m\u001b[0m\n\u001b[1;32m      2\u001b[0m \u001b[0;34m\u001b[0m\u001b[0m\n\u001b[0;32m----> 3\u001b[0;31m \u001b[0msubmissions\u001b[0m\u001b[0;34m=\u001b[0m\u001b[0mpd\u001b[0m\u001b[0;34m.\u001b[0m\u001b[0mDataFrame\u001b[0m\u001b[0;34m(\u001b[0m\u001b[0;34m{\u001b[0m\u001b[0;34m\"ImageId\"\u001b[0m\u001b[0;34m:\u001b[0m \u001b[0mlist\u001b[0m\u001b[0;34m(\u001b[0m\u001b[0mrange\u001b[0m\u001b[0;34m(\u001b[0m\u001b[0;36m1\u001b[0m\u001b[0;34m,\u001b[0m\u001b[0mlen\u001b[0m\u001b[0;34m(\u001b[0m\u001b[0mpredict_x\u001b[0m\u001b[0;34m)\u001b[0m\u001b[0;34m+\u001b[0m\u001b[0;36m1\u001b[0m\u001b[0;34m)\u001b[0m\u001b[0;34m)\u001b[0m\u001b[0;34m,\u001b[0m\u001b[0;34m\"Label\"\u001b[0m\u001b[0;34m:\u001b[0m \u001b[0mpredictions\u001b[0m\u001b[0;34m}\u001b[0m\u001b[0;34m)\u001b[0m\u001b[0;34m\u001b[0m\u001b[0;34m\u001b[0m\u001b[0m\n\u001b[0m\u001b[1;32m      4\u001b[0m \u001b[0msubmissions\u001b[0m\u001b[0;34m.\u001b[0m\u001b[0mto_csv\u001b[0m\u001b[0;34m(\u001b[0m\u001b[0;34m\"keras.csv\"\u001b[0m\u001b[0;34m,\u001b[0m \u001b[0mindex\u001b[0m\u001b[0;34m=\u001b[0m\u001b[0;32mFalse\u001b[0m\u001b[0;34m,\u001b[0m \u001b[0mheader\u001b[0m\u001b[0;34m=\u001b[0m\u001b[0;32mTrue\u001b[0m\u001b[0;34m)\u001b[0m\u001b[0;34m\u001b[0m\u001b[0;34m\u001b[0m\u001b[0m\n",
            "\u001b[0;32m/usr/local/lib/python3.7/dist-packages/pandas/core/frame.py\u001b[0m in \u001b[0;36m__init__\u001b[0;34m(self, data, index, columns, dtype, copy)\u001b[0m\n\u001b[1;32m    612\u001b[0m         \u001b[0;32melif\u001b[0m \u001b[0misinstance\u001b[0m\u001b[0;34m(\u001b[0m\u001b[0mdata\u001b[0m\u001b[0;34m,\u001b[0m \u001b[0mdict\u001b[0m\u001b[0;34m)\u001b[0m\u001b[0;34m:\u001b[0m\u001b[0;34m\u001b[0m\u001b[0;34m\u001b[0m\u001b[0m\n\u001b[1;32m    613\u001b[0m             \u001b[0;31m# GH#38939 de facto copy defaults to False only in non-dict cases\u001b[0m\u001b[0;34m\u001b[0m\u001b[0;34m\u001b[0m\u001b[0;34m\u001b[0m\u001b[0m\n\u001b[0;32m--> 614\u001b[0;31m             \u001b[0mmgr\u001b[0m \u001b[0;34m=\u001b[0m \u001b[0mdict_to_mgr\u001b[0m\u001b[0;34m(\u001b[0m\u001b[0mdata\u001b[0m\u001b[0;34m,\u001b[0m \u001b[0mindex\u001b[0m\u001b[0;34m,\u001b[0m \u001b[0mcolumns\u001b[0m\u001b[0;34m,\u001b[0m \u001b[0mdtype\u001b[0m\u001b[0;34m=\u001b[0m\u001b[0mdtype\u001b[0m\u001b[0;34m,\u001b[0m \u001b[0mcopy\u001b[0m\u001b[0;34m=\u001b[0m\u001b[0mcopy\u001b[0m\u001b[0;34m,\u001b[0m \u001b[0mtyp\u001b[0m\u001b[0;34m=\u001b[0m\u001b[0mmanager\u001b[0m\u001b[0;34m)\u001b[0m\u001b[0;34m\u001b[0m\u001b[0;34m\u001b[0m\u001b[0m\n\u001b[0m\u001b[1;32m    615\u001b[0m         \u001b[0;32melif\u001b[0m \u001b[0misinstance\u001b[0m\u001b[0;34m(\u001b[0m\u001b[0mdata\u001b[0m\u001b[0;34m,\u001b[0m \u001b[0mma\u001b[0m\u001b[0;34m.\u001b[0m\u001b[0mMaskedArray\u001b[0m\u001b[0;34m)\u001b[0m\u001b[0;34m:\u001b[0m\u001b[0;34m\u001b[0m\u001b[0;34m\u001b[0m\u001b[0m\n\u001b[1;32m    616\u001b[0m             \u001b[0;32mimport\u001b[0m \u001b[0mnumpy\u001b[0m\u001b[0;34m.\u001b[0m\u001b[0mma\u001b[0m\u001b[0;34m.\u001b[0m\u001b[0mmrecords\u001b[0m \u001b[0;32mas\u001b[0m \u001b[0mmrecords\u001b[0m\u001b[0;34m\u001b[0m\u001b[0;34m\u001b[0m\u001b[0m\n",
            "\u001b[0;32m/usr/local/lib/python3.7/dist-packages/pandas/core/internals/construction.py\u001b[0m in \u001b[0;36mdict_to_mgr\u001b[0;34m(data, index, columns, dtype, typ, copy)\u001b[0m\n\u001b[1;32m    463\u001b[0m \u001b[0;34m\u001b[0m\u001b[0m\n\u001b[1;32m    464\u001b[0m     return arrays_to_mgr(\n\u001b[0;32m--> 465\u001b[0;31m         \u001b[0marrays\u001b[0m\u001b[0;34m,\u001b[0m \u001b[0mdata_names\u001b[0m\u001b[0;34m,\u001b[0m \u001b[0mindex\u001b[0m\u001b[0;34m,\u001b[0m \u001b[0mcolumns\u001b[0m\u001b[0;34m,\u001b[0m \u001b[0mdtype\u001b[0m\u001b[0;34m=\u001b[0m\u001b[0mdtype\u001b[0m\u001b[0;34m,\u001b[0m \u001b[0mtyp\u001b[0m\u001b[0;34m=\u001b[0m\u001b[0mtyp\u001b[0m\u001b[0;34m,\u001b[0m \u001b[0mconsolidate\u001b[0m\u001b[0;34m=\u001b[0m\u001b[0mcopy\u001b[0m\u001b[0;34m\u001b[0m\u001b[0;34m\u001b[0m\u001b[0m\n\u001b[0m\u001b[1;32m    466\u001b[0m     )\n\u001b[1;32m    467\u001b[0m \u001b[0;34m\u001b[0m\u001b[0m\n",
            "\u001b[0;32m/usr/local/lib/python3.7/dist-packages/pandas/core/internals/construction.py\u001b[0m in \u001b[0;36marrays_to_mgr\u001b[0;34m(arrays, arr_names, index, columns, dtype, verify_integrity, typ, consolidate)\u001b[0m\n\u001b[1;32m    122\u001b[0m \u001b[0;34m\u001b[0m\u001b[0m\n\u001b[1;32m    123\u001b[0m         \u001b[0;31m# don't force copy because getting jammed in an ndarray anyway\u001b[0m\u001b[0;34m\u001b[0m\u001b[0;34m\u001b[0m\u001b[0;34m\u001b[0m\u001b[0m\n\u001b[0;32m--> 124\u001b[0;31m         \u001b[0marrays\u001b[0m \u001b[0;34m=\u001b[0m \u001b[0m_homogenize\u001b[0m\u001b[0;34m(\u001b[0m\u001b[0marrays\u001b[0m\u001b[0;34m,\u001b[0m \u001b[0mindex\u001b[0m\u001b[0;34m,\u001b[0m \u001b[0mdtype\u001b[0m\u001b[0;34m)\u001b[0m\u001b[0;34m\u001b[0m\u001b[0;34m\u001b[0m\u001b[0m\n\u001b[0m\u001b[1;32m    125\u001b[0m \u001b[0;34m\u001b[0m\u001b[0m\n\u001b[1;32m    126\u001b[0m     \u001b[0;32melse\u001b[0m\u001b[0;34m:\u001b[0m\u001b[0;34m\u001b[0m\u001b[0;34m\u001b[0m\u001b[0m\n",
            "\u001b[0;32m/usr/local/lib/python3.7/dist-packages/pandas/core/internals/construction.py\u001b[0m in \u001b[0;36m_homogenize\u001b[0;34m(data, index, dtype)\u001b[0m\n\u001b[1;32m    588\u001b[0m \u001b[0;34m\u001b[0m\u001b[0m\n\u001b[1;32m    589\u001b[0m             val = sanitize_array(\n\u001b[0;32m--> 590\u001b[0;31m                 \u001b[0mval\u001b[0m\u001b[0;34m,\u001b[0m \u001b[0mindex\u001b[0m\u001b[0;34m,\u001b[0m \u001b[0mdtype\u001b[0m\u001b[0;34m=\u001b[0m\u001b[0mdtype\u001b[0m\u001b[0;34m,\u001b[0m \u001b[0mcopy\u001b[0m\u001b[0;34m=\u001b[0m\u001b[0;32mFalse\u001b[0m\u001b[0;34m,\u001b[0m \u001b[0mraise_cast_failure\u001b[0m\u001b[0;34m=\u001b[0m\u001b[0;32mFalse\u001b[0m\u001b[0;34m\u001b[0m\u001b[0;34m\u001b[0m\u001b[0m\n\u001b[0m\u001b[1;32m    591\u001b[0m             )\n\u001b[1;32m    592\u001b[0m \u001b[0;34m\u001b[0m\u001b[0m\n",
            "\u001b[0;32m/usr/local/lib/python3.7/dist-packages/pandas/core/construction.py\u001b[0m in \u001b[0;36msanitize_array\u001b[0;34m(data, index, dtype, copy, raise_cast_failure, allow_2d)\u001b[0m\n\u001b[1;32m    574\u001b[0m                 \u001b[0msubarr\u001b[0m \u001b[0;34m=\u001b[0m \u001b[0mmaybe_infer_to_datetimelike\u001b[0m\u001b[0;34m(\u001b[0m\u001b[0msubarr\u001b[0m\u001b[0;34m)\u001b[0m\u001b[0;34m\u001b[0m\u001b[0;34m\u001b[0m\u001b[0m\n\u001b[1;32m    575\u001b[0m \u001b[0;34m\u001b[0m\u001b[0m\n\u001b[0;32m--> 576\u001b[0;31m     \u001b[0msubarr\u001b[0m \u001b[0;34m=\u001b[0m \u001b[0m_sanitize_ndim\u001b[0m\u001b[0;34m(\u001b[0m\u001b[0msubarr\u001b[0m\u001b[0;34m,\u001b[0m \u001b[0mdata\u001b[0m\u001b[0;34m,\u001b[0m \u001b[0mdtype\u001b[0m\u001b[0;34m,\u001b[0m \u001b[0mindex\u001b[0m\u001b[0;34m,\u001b[0m \u001b[0mallow_2d\u001b[0m\u001b[0;34m=\u001b[0m\u001b[0mallow_2d\u001b[0m\u001b[0;34m)\u001b[0m\u001b[0;34m\u001b[0m\u001b[0;34m\u001b[0m\u001b[0m\n\u001b[0m\u001b[1;32m    577\u001b[0m \u001b[0;34m\u001b[0m\u001b[0m\n\u001b[1;32m    578\u001b[0m     \u001b[0;32mif\u001b[0m \u001b[0misinstance\u001b[0m\u001b[0;34m(\u001b[0m\u001b[0msubarr\u001b[0m\u001b[0;34m,\u001b[0m \u001b[0mnp\u001b[0m\u001b[0;34m.\u001b[0m\u001b[0mndarray\u001b[0m\u001b[0;34m)\u001b[0m\u001b[0;34m:\u001b[0m\u001b[0;34m\u001b[0m\u001b[0;34m\u001b[0m\u001b[0m\n",
            "\u001b[0;32m/usr/local/lib/python3.7/dist-packages/pandas/core/construction.py\u001b[0m in \u001b[0;36m_sanitize_ndim\u001b[0;34m(result, data, dtype, index, allow_2d)\u001b[0m\n\u001b[1;32m    625\u001b[0m             \u001b[0;32mif\u001b[0m \u001b[0mallow_2d\u001b[0m\u001b[0;34m:\u001b[0m\u001b[0;34m\u001b[0m\u001b[0;34m\u001b[0m\u001b[0m\n\u001b[1;32m    626\u001b[0m                 \u001b[0;32mreturn\u001b[0m \u001b[0mresult\u001b[0m\u001b[0;34m\u001b[0m\u001b[0;34m\u001b[0m\u001b[0m\n\u001b[0;32m--> 627\u001b[0;31m             \u001b[0;32mraise\u001b[0m \u001b[0mValueError\u001b[0m\u001b[0;34m(\u001b[0m\u001b[0;34m\"Data must be 1-dimensional\"\u001b[0m\u001b[0;34m)\u001b[0m\u001b[0;34m\u001b[0m\u001b[0;34m\u001b[0m\u001b[0m\n\u001b[0m\u001b[1;32m    628\u001b[0m         \u001b[0;32mif\u001b[0m \u001b[0mis_object_dtype\u001b[0m\u001b[0;34m(\u001b[0m\u001b[0mdtype\u001b[0m\u001b[0;34m)\u001b[0m \u001b[0;32mand\u001b[0m \u001b[0misinstance\u001b[0m\u001b[0;34m(\u001b[0m\u001b[0mdtype\u001b[0m\u001b[0;34m,\u001b[0m \u001b[0mExtensionDtype\u001b[0m\u001b[0;34m)\u001b[0m\u001b[0;34m:\u001b[0m\u001b[0;34m\u001b[0m\u001b[0;34m\u001b[0m\u001b[0m\n\u001b[1;32m    629\u001b[0m             \u001b[0;31m# i.e. PandasDtype(\"O\")\u001b[0m\u001b[0;34m\u001b[0m\u001b[0;34m\u001b[0m\u001b[0;34m\u001b[0m\u001b[0m\n",
            "\u001b[0;31mValueError\u001b[0m: Data must be 1-dimensional"
          ]
        }
      ]
    },
    {
      "cell_type": "markdown",
      "source": [
        "For the Digit Recognizer dataset, Random Forest (before and after PCA compression), K-means, and Neural network models were executed on the test data. The model I would choose is the Random Forest model because the accuracy is just as high as the other more sophisticated methods but the execution time is much quicker. As you would expect, as you increase the number of nodes and iterations, the neural network takes longer and longer to execute but the accuracy does increase. These models could be further tuned to gain additional insight and increase predictive power. "
      ],
      "metadata": {
        "id": "Iwbv2-jk2Q3N"
      }
    },
    {
      "cell_type": "markdown",
      "source": [
        "##MLP Classifier"
      ],
      "metadata": {
        "id": "pBVqrNH1cs-E"
      }
    },
    {
      "cell_type": "code",
      "source": [
        "from sklearn.neural_network import MLPClassifier"
      ],
      "metadata": {
        "id": "KtGSh04u0NEs"
      },
      "execution_count": null,
      "outputs": []
    },
    {
      "cell_type": "code",
      "source": [
        "#2 Layers\n",
        "start = time.time()\n",
        "\n",
        "nn2 = MLPClassifier(hidden_layer_sizes=(2,),random_state=1)\n",
        "nn2.fit(X_train, y_train)\n",
        "\n",
        "end = time.time()\n",
        "print('--- %s seconds ---' % (end - start))"
      ],
      "metadata": {
        "colab": {
          "base_uri": "https://localhost:8080/"
        },
        "id": "qsXih32Z1Vo0",
        "outputId": "4be6eaa9-c58c-47b7-dbcb-e14cba53c695"
      },
      "execution_count": null,
      "outputs": [
        {
          "output_type": "stream",
          "name": "stdout",
          "text": [
            "--- 432.25923681259155 seconds ---\n"
          ]
        }
      ]
    },
    {
      "cell_type": "code",
      "source": [
        "y_pred2 = nn2.predict(X_test)"
      ],
      "metadata": {
        "id": "h4wo1xhT1VjP"
      },
      "execution_count": null,
      "outputs": []
    },
    {
      "cell_type": "code",
      "source": [
        "cmnn2 = confusion_matrix(y_test, y_pred2, labels=(0,1,2,3,4,5,6,7,8,9))\n",
        "cmnn2"
      ],
      "metadata": {
        "colab": {
          "base_uri": "https://localhost:8080/"
        },
        "id": "TWp-NSy-1Vbf",
        "outputId": "565dcf34-d792-4c32-e5ff-2d77c759b759"
      },
      "execution_count": null,
      "outputs": [
        {
          "output_type": "execute_result",
          "data": {
            "text/plain": [
              "array([[672,   9, 104,  60,   2,   0,   0,   2,   3,   0],\n",
              "       [  2, 856,   1,  25,  27,   0,   0,  26,  12,   0],\n",
              "       [280, 100, 196, 203,   3,   0,   0,  15,  20,   0],\n",
              "       [ 88, 173, 143, 376,  11,   0,   0,  26,  53,   0],\n",
              "       [  1,  60,   1,  10,  23,   0,   0, 665,   3,   0],\n",
              "       [ 57, 168, 113, 330,   4,   0,   0,  27,  46,   0],\n",
              "       [497,  19, 190, 125,   1,   0,   0,   4,  13,   0],\n",
              "       [  2,  48,   2,   5,  14,   0,   0, 818,   2,   0],\n",
              "       [ 30, 324,  53, 316,   3,   0,   0,  20,  72,   0],\n",
              "       [  2,  57,   1,  10,  20,   0,   0, 755,   1,   0]])"
            ]
          },
          "metadata": {},
          "execution_count": 56
        }
      ]
    },
    {
      "cell_type": "code",
      "source": [
        "accuracy_score(y_test, y_pred2)"
      ],
      "metadata": {
        "colab": {
          "base_uri": "https://localhost:8080/"
        },
        "id": "bqV5Mv181u8q",
        "outputId": "9f716f3b-4e26-42f4-9c2f-974d05d81a83"
      },
      "execution_count": null,
      "outputs": [
        {
          "output_type": "execute_result",
          "data": {
            "text/plain": [
              "0.35869047619047617"
            ]
          },
          "metadata": {},
          "execution_count": 57
        }
      ]
    },
    {
      "cell_type": "code",
      "source": [
        "#5 Layers 100 iterations to speed up\n",
        "start = time.time()\n",
        "\n",
        "nn5 = MLPClassifier(hidden_layer_sizes=(5,),random_state=1)\n",
        "nn5.fit(X_train, y_train)\n",
        "\n",
        "end = time.time()\n",
        "print('--- %s seconds ---' % (end - start))"
      ],
      "metadata": {
        "colab": {
          "base_uri": "https://localhost:8080/"
        },
        "id": "Xb2Zid7N3NTl",
        "outputId": "8273883f-e15a-47a9-8d7c-741fba800811"
      },
      "execution_count": null,
      "outputs": [
        {
          "output_type": "stream",
          "name": "stdout",
          "text": [
            "--- 198.6356852054596 seconds ---\n"
          ]
        },
        {
          "output_type": "stream",
          "name": "stderr",
          "text": [
            "/usr/local/lib/python3.7/dist-packages/sklearn/neural_network/_multilayer_perceptron.py:696: ConvergenceWarning: Stochastic Optimizer: Maximum iterations (100) reached and the optimization hasn't converged yet.\n",
            "  ConvergenceWarning,\n"
          ]
        }
      ]
    },
    {
      "cell_type": "code",
      "source": [
        "y_pred5 = nn5.predict(X_test)"
      ],
      "metadata": {
        "id": "uihWuzYW5Jn-"
      },
      "execution_count": null,
      "outputs": []
    },
    {
      "cell_type": "code",
      "source": [
        "cmnn5 = confusion_matrix(y_test, y_pred5, labels=(0,1,2,3,4,5,6,7,8,9))\n",
        "cmnn5"
      ],
      "metadata": {
        "colab": {
          "base_uri": "https://localhost:8080/"
        },
        "id": "XeVb4Xst5JfQ",
        "outputId": "cd74beae-21c1-4093-9938-3ba0e38ca85c"
      },
      "execution_count": null,
      "outputs": [
        {
          "output_type": "execute_result",
          "data": {
            "text/plain": [
              "array([[705,   0,   0,   1,  26,  72,  10,   0,  29,   9],\n",
              "       [  0, 907,  19,   5,   0,   0,   0,   6,   9,   3],\n",
              "       [  1,  43, 650,  14,  16,   3,  17,   4,  63,   6],\n",
              "       [  2,  23,  26, 690,   2,  56,   2,   5,  50,  14],\n",
              "       [  7,   6,   1,   0, 616,   0,  10,  19,  15,  89],\n",
              "       [ 55,   2,   3,  87,   7, 438,   4,   2, 116,  31],\n",
              "       [ 14,   0,  32,   0,  28,   2, 704,   0,  69,   0],\n",
              "       [  0,  29,   1,   3,  12,   0,   0, 808,   2,  36],\n",
              "       [ 11,  33,  66,  44,  21,  35,  38,   3, 545,  22],\n",
              "       [  2,   6,   0,   4, 151,   9,   2,  96,  14, 562]])"
            ]
          },
          "metadata": {},
          "execution_count": 61
        }
      ]
    },
    {
      "cell_type": "code",
      "source": [
        "accuracy_score(y_test, y_pred5)"
      ],
      "metadata": {
        "colab": {
          "base_uri": "https://localhost:8080/"
        },
        "id": "lSNeq8Dv5OSk",
        "outputId": "41f21231-3771-49a8-bae7-8469923025f0"
      },
      "execution_count": null,
      "outputs": [
        {
          "output_type": "execute_result",
          "data": {
            "text/plain": [
              "0.7886904761904762"
            ]
          },
          "metadata": {},
          "execution_count": 63
        }
      ]
    },
    {
      "cell_type": "code",
      "source": [
        "#5 nodes increasing iterations\n",
        "start = time.time()\n",
        "\n",
        "nn5_2 = MLPClassifier(hidden_layer_sizes=(5,), max_iter=300,random_state=1)\n",
        "nn5_2.fit(X_train, y_train)\n",
        "\n",
        "end = time.time()\n",
        "print('--- %s seconds ---' % (end - start))"
      ],
      "metadata": {
        "colab": {
          "base_uri": "https://localhost:8080/"
        },
        "id": "JutmU7Wdxi8b",
        "outputId": "05fd9926-b82f-44d2-edc4-e57fbb87a8b0"
      },
      "execution_count": null,
      "outputs": [
        {
          "output_type": "stream",
          "name": "stdout",
          "text": [
            "--- 198.67108011245728 seconds ---\n"
          ]
        }
      ]
    },
    {
      "cell_type": "code",
      "source": [
        "y_pred5_2 = nn5_2.predict(X_test)"
      ],
      "metadata": {
        "id": "g95rrFzSyAxa"
      },
      "execution_count": null,
      "outputs": []
    },
    {
      "cell_type": "code",
      "source": [
        "from sklearn.metrics import multilabel_confusion_matrix\n",
        "cmnn5_2 = confusion_matrix(y_test, y_pred5_2, labels=(0,1,2,3,4,5,6,7,8,9))\n",
        "cmnn5_2"
      ],
      "metadata": {
        "colab": {
          "base_uri": "https://localhost:8080/"
        },
        "id": "BZebX086yAj5",
        "outputId": "e19eb855-af8a-408a-f81e-afa58ac742ad"
      },
      "execution_count": null,
      "outputs": [
        {
          "output_type": "execute_result",
          "data": {
            "text/plain": [
              "array([[742,   0,   1,   1,  18,  52,   9,   0,  22,   7],\n",
              "       [  0, 876,  46,   5,   0,   0,   0,   9,  10,   3],\n",
              "       [  1,  25, 687,  12,  17,   4,  12,   4,  50,   5],\n",
              "       [  3,  24,  38, 682,   2,  66,   2,   5,  34,  14],\n",
              "       [  8,   4,   3,   0, 579,   1,  17,  23,  16, 112],\n",
              "       [ 71,   1,   5,  89,   6, 439,   8,   2,  94,  30],\n",
              "       [ 18,   0,  54,   0,  15,   3, 704,   0,  54,   1],\n",
              "       [  0,  24,   1,   2,   8,   1,   0, 812,   4,  39],\n",
              "       [ 18,  25,  82,  45,  14,  43,  29,   4, 537,  21],\n",
              "       [  4,   6,   0,   7, 108,   9,   3,  91,  15, 603]])"
            ]
          },
          "metadata": {},
          "execution_count": 11
        }
      ]
    },
    {
      "cell_type": "code",
      "source": [
        "accuracy_score(y_test, y_pred5_2)"
      ],
      "metadata": {
        "colab": {
          "base_uri": "https://localhost:8080/"
        },
        "id": "YAoy7Ge1yAQs",
        "outputId": "6a2c16a3-c607-4a32-b297-9efdc4ef4c07"
      },
      "execution_count": null,
      "outputs": [
        {
          "output_type": "execute_result",
          "data": {
            "text/plain": [
              "0.7929761904761905"
            ]
          },
          "metadata": {},
          "execution_count": 13
        }
      ]
    },
    {
      "cell_type": "code",
      "source": [
        "resultsnn5_2= y_pred5_2"
      ],
      "metadata": {
        "id": "tLPqIJuP8bHN"
      },
      "execution_count": null,
      "outputs": []
    },
    {
      "cell_type": "code",
      "source": [
        "ID = pd.DataFrame()\n",
        "ID['ImageId'] = test.index+1\n",
        "resultsnn5_2= y_pred5_2\n",
        "\n",
        "submit_nn5_2 = pd.concat([ID,pd.DataFrame(resultsnn5_2)],axis=1)\n",
        "submit_nn5_2.columns = ['ImageId','Label']\n",
        "submit_nn5_2.head()"
      ],
      "metadata": {
        "colab": {
          "base_uri": "https://localhost:8080/",
          "height": 206
        },
        "id": "i6jCrAzb-k2F",
        "outputId": "ff8aa536-1ea7-415c-b3ee-60550db3eca7"
      },
      "execution_count": null,
      "outputs": [
        {
          "output_type": "execute_result",
          "data": {
            "text/html": [
              "\n",
              "  <div id=\"df-a7a87845-ec40-4a70-a7d6-74b1e2899abf\">\n",
              "    <div class=\"colab-df-container\">\n",
              "      <div>\n",
              "<style scoped>\n",
              "    .dataframe tbody tr th:only-of-type {\n",
              "        vertical-align: middle;\n",
              "    }\n",
              "\n",
              "    .dataframe tbody tr th {\n",
              "        vertical-align: top;\n",
              "    }\n",
              "\n",
              "    .dataframe thead th {\n",
              "        text-align: right;\n",
              "    }\n",
              "</style>\n",
              "<table border=\"1\" class=\"dataframe\">\n",
              "  <thead>\n",
              "    <tr style=\"text-align: right;\">\n",
              "      <th></th>\n",
              "      <th>ImageId</th>\n",
              "      <th>Label</th>\n",
              "    </tr>\n",
              "  </thead>\n",
              "  <tbody>\n",
              "    <tr>\n",
              "      <th>0</th>\n",
              "      <td>1</td>\n",
              "      <td>0.0</td>\n",
              "    </tr>\n",
              "    <tr>\n",
              "      <th>1</th>\n",
              "      <td>2</td>\n",
              "      <td>6.0</td>\n",
              "    </tr>\n",
              "    <tr>\n",
              "      <th>2</th>\n",
              "      <td>3</td>\n",
              "      <td>7.0</td>\n",
              "    </tr>\n",
              "    <tr>\n",
              "      <th>3</th>\n",
              "      <td>4</td>\n",
              "      <td>6.0</td>\n",
              "    </tr>\n",
              "    <tr>\n",
              "      <th>4</th>\n",
              "      <td>5</td>\n",
              "      <td>7.0</td>\n",
              "    </tr>\n",
              "  </tbody>\n",
              "</table>\n",
              "</div>\n",
              "      <button class=\"colab-df-convert\" onclick=\"convertToInteractive('df-a7a87845-ec40-4a70-a7d6-74b1e2899abf')\"\n",
              "              title=\"Convert this dataframe to an interactive table.\"\n",
              "              style=\"display:none;\">\n",
              "        \n",
              "  <svg xmlns=\"http://www.w3.org/2000/svg\" height=\"24px\"viewBox=\"0 0 24 24\"\n",
              "       width=\"24px\">\n",
              "    <path d=\"M0 0h24v24H0V0z\" fill=\"none\"/>\n",
              "    <path d=\"M18.56 5.44l.94 2.06.94-2.06 2.06-.94-2.06-.94-.94-2.06-.94 2.06-2.06.94zm-11 1L8.5 8.5l.94-2.06 2.06-.94-2.06-.94L8.5 2.5l-.94 2.06-2.06.94zm10 10l.94 2.06.94-2.06 2.06-.94-2.06-.94-.94-2.06-.94 2.06-2.06.94z\"/><path d=\"M17.41 7.96l-1.37-1.37c-.4-.4-.92-.59-1.43-.59-.52 0-1.04.2-1.43.59L10.3 9.45l-7.72 7.72c-.78.78-.78 2.05 0 2.83L4 21.41c.39.39.9.59 1.41.59.51 0 1.02-.2 1.41-.59l7.78-7.78 2.81-2.81c.8-.78.8-2.07 0-2.86zM5.41 20L4 18.59l7.72-7.72 1.47 1.35L5.41 20z\"/>\n",
              "  </svg>\n",
              "      </button>\n",
              "      \n",
              "  <style>\n",
              "    .colab-df-container {\n",
              "      display:flex;\n",
              "      flex-wrap:wrap;\n",
              "      gap: 12px;\n",
              "    }\n",
              "\n",
              "    .colab-df-convert {\n",
              "      background-color: #E8F0FE;\n",
              "      border: none;\n",
              "      border-radius: 50%;\n",
              "      cursor: pointer;\n",
              "      display: none;\n",
              "      fill: #1967D2;\n",
              "      height: 32px;\n",
              "      padding: 0 0 0 0;\n",
              "      width: 32px;\n",
              "    }\n",
              "\n",
              "    .colab-df-convert:hover {\n",
              "      background-color: #E2EBFA;\n",
              "      box-shadow: 0px 1px 2px rgba(60, 64, 67, 0.3), 0px 1px 3px 1px rgba(60, 64, 67, 0.15);\n",
              "      fill: #174EA6;\n",
              "    }\n",
              "\n",
              "    [theme=dark] .colab-df-convert {\n",
              "      background-color: #3B4455;\n",
              "      fill: #D2E3FC;\n",
              "    }\n",
              "\n",
              "    [theme=dark] .colab-df-convert:hover {\n",
              "      background-color: #434B5C;\n",
              "      box-shadow: 0px 1px 3px 1px rgba(0, 0, 0, 0.15);\n",
              "      filter: drop-shadow(0px 1px 2px rgba(0, 0, 0, 0.3));\n",
              "      fill: #FFFFFF;\n",
              "    }\n",
              "  </style>\n",
              "\n",
              "      <script>\n",
              "        const buttonEl =\n",
              "          document.querySelector('#df-a7a87845-ec40-4a70-a7d6-74b1e2899abf button.colab-df-convert');\n",
              "        buttonEl.style.display =\n",
              "          google.colab.kernel.accessAllowed ? 'block' : 'none';\n",
              "\n",
              "        async function convertToInteractive(key) {\n",
              "          const element = document.querySelector('#df-a7a87845-ec40-4a70-a7d6-74b1e2899abf');\n",
              "          const dataTable =\n",
              "            await google.colab.kernel.invokeFunction('convertToInteractive',\n",
              "                                                     [key], {});\n",
              "          if (!dataTable) return;\n",
              "\n",
              "          const docLinkHtml = 'Like what you see? Visit the ' +\n",
              "            '<a target=\"_blank\" href=https://colab.research.google.com/notebooks/data_table.ipynb>data table notebook</a>'\n",
              "            + ' to learn more about interactive tables.';\n",
              "          element.innerHTML = '';\n",
              "          dataTable['output_type'] = 'display_data';\n",
              "          await google.colab.output.renderOutput(dataTable, element);\n",
              "          const docLink = document.createElement('div');\n",
              "          docLink.innerHTML = docLinkHtml;\n",
              "          element.appendChild(docLink);\n",
              "        }\n",
              "      </script>\n",
              "    </div>\n",
              "  </div>\n",
              "  "
            ],
            "text/plain": [
              "   ImageId  Label\n",
              "0        1    0.0\n",
              "1        2    6.0\n",
              "2        3    7.0\n",
              "3        4    6.0\n",
              "4        5    7.0"
            ]
          },
          "metadata": {},
          "execution_count": 17
        }
      ]
    },
    {
      "cell_type": "code",
      "source": [
        "# Submitting the output\n",
        "submit_nn5_2.to_csv('nn5_2_submission2.csv',index=False)"
      ],
      "metadata": {
        "id": "FtWqCp13_xP7"
      },
      "execution_count": null,
      "outputs": []
    },
    {
      "cell_type": "code",
      "source": [
        "#10 nodes increasing iterations\n",
        "start = time.time()\n",
        "\n",
        "nn10 = MLPClassifier(hidden_layer_sizes=(10,), max_iter=300,random_state=1)\n",
        "nn10.fit(X_train, y_train)\n",
        "\n",
        "end = time.time()\n",
        "print('--- %s seconds ---' % (end - start))"
      ],
      "metadata": {
        "colab": {
          "base_uri": "https://localhost:8080/"
        },
        "id": "nGjeYoNoA2EF",
        "outputId": "448dd98e-62c4-481d-9157-79d2eab04067"
      },
      "execution_count": null,
      "outputs": [
        {
          "output_type": "stream",
          "name": "stdout",
          "text": [
            "--- 99.46532273292542 seconds ---\n"
          ]
        }
      ]
    },
    {
      "cell_type": "code",
      "source": [
        "y_pred10 = nn10.predict(X_test)\n",
        "cmnn10 = confusion_matrix(y_test, y_pred10, labels=(0,1,2,3,4,5,6,7,8,9))\n",
        "cmnn10\n",
        "accuracy_score(y_test, y_pred10)"
      ],
      "metadata": {
        "colab": {
          "base_uri": "https://localhost:8080/"
        },
        "id": "pE5TDPaGA17A",
        "outputId": "9cb5019d-5822-4399-c549-e6056777c710"
      },
      "execution_count": null,
      "outputs": [
        {
          "output_type": "execute_result",
          "data": {
            "text/plain": [
              "0.8404761904761905"
            ]
          },
          "metadata": {},
          "execution_count": 11
        }
      ]
    },
    {
      "cell_type": "code",
      "source": [
        "ID = pd.DataFrame()\n",
        "ID['ImageId'] = test.index+1\n",
        "resultsnn10= y_pred10\n",
        "\n",
        "submit_nn10 = pd.concat([ID,pd.DataFrame(resultsnn10)],axis=1)\n",
        "submit_nn10.columns = ['ImageId','Label']\n",
        "\n",
        "\n",
        "# Submitting the output\n",
        "submit_nn10.to_csv('nn10_submission2.csv',index=False)"
      ],
      "metadata": {
        "id": "koyv60MjA05o"
      },
      "execution_count": null,
      "outputs": []
    },
    {
      "cell_type": "code",
      "source": [
        "submit_nn10.head()"
      ],
      "metadata": {
        "colab": {
          "base_uri": "https://localhost:8080/",
          "height": 206
        },
        "id": "z29ISH_XHvU5",
        "outputId": "a5c6203b-56dc-4cfc-9086-42e99736a868"
      },
      "execution_count": null,
      "outputs": [
        {
          "output_type": "execute_result",
          "data": {
            "text/html": [
              "\n",
              "  <div id=\"df-860f7bc6-7db1-4f1b-a33f-d0f52ade8117\">\n",
              "    <div class=\"colab-df-container\">\n",
              "      <div>\n",
              "<style scoped>\n",
              "    .dataframe tbody tr th:only-of-type {\n",
              "        vertical-align: middle;\n",
              "    }\n",
              "\n",
              "    .dataframe tbody tr th {\n",
              "        vertical-align: top;\n",
              "    }\n",
              "\n",
              "    .dataframe thead th {\n",
              "        text-align: right;\n",
              "    }\n",
              "</style>\n",
              "<table border=\"1\" class=\"dataframe\">\n",
              "  <thead>\n",
              "    <tr style=\"text-align: right;\">\n",
              "      <th></th>\n",
              "      <th>ImageId</th>\n",
              "      <th>Label</th>\n",
              "    </tr>\n",
              "  </thead>\n",
              "  <tbody>\n",
              "    <tr>\n",
              "      <th>0</th>\n",
              "      <td>1</td>\n",
              "      <td>0.0</td>\n",
              "    </tr>\n",
              "    <tr>\n",
              "      <th>1</th>\n",
              "      <td>2</td>\n",
              "      <td>6.0</td>\n",
              "    </tr>\n",
              "    <tr>\n",
              "      <th>2</th>\n",
              "      <td>3</td>\n",
              "      <td>7.0</td>\n",
              "    </tr>\n",
              "    <tr>\n",
              "      <th>3</th>\n",
              "      <td>4</td>\n",
              "      <td>0.0</td>\n",
              "    </tr>\n",
              "    <tr>\n",
              "      <th>4</th>\n",
              "      <td>5</td>\n",
              "      <td>7.0</td>\n",
              "    </tr>\n",
              "  </tbody>\n",
              "</table>\n",
              "</div>\n",
              "      <button class=\"colab-df-convert\" onclick=\"convertToInteractive('df-860f7bc6-7db1-4f1b-a33f-d0f52ade8117')\"\n",
              "              title=\"Convert this dataframe to an interactive table.\"\n",
              "              style=\"display:none;\">\n",
              "        \n",
              "  <svg xmlns=\"http://www.w3.org/2000/svg\" height=\"24px\"viewBox=\"0 0 24 24\"\n",
              "       width=\"24px\">\n",
              "    <path d=\"M0 0h24v24H0V0z\" fill=\"none\"/>\n",
              "    <path d=\"M18.56 5.44l.94 2.06.94-2.06 2.06-.94-2.06-.94-.94-2.06-.94 2.06-2.06.94zm-11 1L8.5 8.5l.94-2.06 2.06-.94-2.06-.94L8.5 2.5l-.94 2.06-2.06.94zm10 10l.94 2.06.94-2.06 2.06-.94-2.06-.94-.94-2.06-.94 2.06-2.06.94z\"/><path d=\"M17.41 7.96l-1.37-1.37c-.4-.4-.92-.59-1.43-.59-.52 0-1.04.2-1.43.59L10.3 9.45l-7.72 7.72c-.78.78-.78 2.05 0 2.83L4 21.41c.39.39.9.59 1.41.59.51 0 1.02-.2 1.41-.59l7.78-7.78 2.81-2.81c.8-.78.8-2.07 0-2.86zM5.41 20L4 18.59l7.72-7.72 1.47 1.35L5.41 20z\"/>\n",
              "  </svg>\n",
              "      </button>\n",
              "      \n",
              "  <style>\n",
              "    .colab-df-container {\n",
              "      display:flex;\n",
              "      flex-wrap:wrap;\n",
              "      gap: 12px;\n",
              "    }\n",
              "\n",
              "    .colab-df-convert {\n",
              "      background-color: #E8F0FE;\n",
              "      border: none;\n",
              "      border-radius: 50%;\n",
              "      cursor: pointer;\n",
              "      display: none;\n",
              "      fill: #1967D2;\n",
              "      height: 32px;\n",
              "      padding: 0 0 0 0;\n",
              "      width: 32px;\n",
              "    }\n",
              "\n",
              "    .colab-df-convert:hover {\n",
              "      background-color: #E2EBFA;\n",
              "      box-shadow: 0px 1px 2px rgba(60, 64, 67, 0.3), 0px 1px 3px 1px rgba(60, 64, 67, 0.15);\n",
              "      fill: #174EA6;\n",
              "    }\n",
              "\n",
              "    [theme=dark] .colab-df-convert {\n",
              "      background-color: #3B4455;\n",
              "      fill: #D2E3FC;\n",
              "    }\n",
              "\n",
              "    [theme=dark] .colab-df-convert:hover {\n",
              "      background-color: #434B5C;\n",
              "      box-shadow: 0px 1px 3px 1px rgba(0, 0, 0, 0.15);\n",
              "      filter: drop-shadow(0px 1px 2px rgba(0, 0, 0, 0.3));\n",
              "      fill: #FFFFFF;\n",
              "    }\n",
              "  </style>\n",
              "\n",
              "      <script>\n",
              "        const buttonEl =\n",
              "          document.querySelector('#df-860f7bc6-7db1-4f1b-a33f-d0f52ade8117 button.colab-df-convert');\n",
              "        buttonEl.style.display =\n",
              "          google.colab.kernel.accessAllowed ? 'block' : 'none';\n",
              "\n",
              "        async function convertToInteractive(key) {\n",
              "          const element = document.querySelector('#df-860f7bc6-7db1-4f1b-a33f-d0f52ade8117');\n",
              "          const dataTable =\n",
              "            await google.colab.kernel.invokeFunction('convertToInteractive',\n",
              "                                                     [key], {});\n",
              "          if (!dataTable) return;\n",
              "\n",
              "          const docLinkHtml = 'Like what you see? Visit the ' +\n",
              "            '<a target=\"_blank\" href=https://colab.research.google.com/notebooks/data_table.ipynb>data table notebook</a>'\n",
              "            + ' to learn more about interactive tables.';\n",
              "          element.innerHTML = '';\n",
              "          dataTable['output_type'] = 'display_data';\n",
              "          await google.colab.output.renderOutput(dataTable, element);\n",
              "          const docLink = document.createElement('div');\n",
              "          docLink.innerHTML = docLinkHtml;\n",
              "          element.appendChild(docLink);\n",
              "        }\n",
              "      </script>\n",
              "    </div>\n",
              "  </div>\n",
              "  "
            ],
            "text/plain": [
              "   ImageId  Label\n",
              "0        1    0.0\n",
              "1        2    6.0\n",
              "2        3    7.0\n",
              "3        4    0.0\n",
              "4        5    7.0"
            ]
          },
          "metadata": {},
          "execution_count": 13
        }
      ]
    },
    {
      "cell_type": "code",
      "source": [
        "#20 nodes increasing iterations\n",
        "start = time.time()\n",
        "\n",
        "nn20 = MLPClassifier(hidden_layer_sizes=(20,), max_iter=300,random_state=1)\n",
        "nn20.fit(X_train, y_train)\n",
        "\n",
        "end = time.time()\n",
        "print('--- %s seconds ---' % (end - start))"
      ],
      "metadata": {
        "colab": {
          "base_uri": "https://localhost:8080/"
        },
        "id": "Swpu-Vm-VUi7",
        "outputId": "1626e66e-d6f7-45bf-b447-0d0bd1de336e"
      },
      "execution_count": null,
      "outputs": [
        {
          "output_type": "stream",
          "name": "stdout",
          "text": [
            "--- 188.3667712211609 seconds ---\n"
          ]
        }
      ]
    },
    {
      "cell_type": "code",
      "source": [
        "y_pred20 = nn20.predict(X_test)\n",
        "cmnn20 = confusion_matrix(y_test, y_pred20, labels=(0,1,2,3,4,5,6,7,8,9))\n",
        "cmnn20\n",
        "accuracy_score(y_test, y_pred20)"
      ],
      "metadata": {
        "colab": {
          "base_uri": "https://localhost:8080/"
        },
        "id": "bAcjLDKEVUgI",
        "outputId": "05a9d8c5-6eb8-4b6e-8ab5-c7a0118e6325"
      },
      "execution_count": null,
      "outputs": [
        {
          "output_type": "execute_result",
          "data": {
            "text/plain": [
              "0.9071428571428571"
            ]
          },
          "metadata": {},
          "execution_count": 20
        }
      ]
    },
    {
      "cell_type": "code",
      "source": [
        "ID = pd.DataFrame()\n",
        "ID['ImageId'] = test.index+1\n",
        "resultsnn20= y_pred20\n",
        "\n",
        "submit_nn20 = pd.concat([ID,pd.DataFrame(resultsnn20)],axis=1)\n",
        "submit_nn20.columns = ['ImageId','Label']\n",
        "\n",
        "\n",
        "# Submitting the output\n",
        "submit_nn20.to_csv('nn20_submission.csv',index=False)"
      ],
      "metadata": {
        "id": "foAdgrEVVUdZ"
      },
      "execution_count": null,
      "outputs": []
    },
    {
      "cell_type": "markdown",
      "source": [
        "#Conclusion"
      ],
      "metadata": {
        "id": "HqGadnTS2NFF"
      }
    },
    {
      "cell_type": "markdown",
      "source": [
        "For the Digit Recognizer dataset, Random Forest (before and after PCA compression), K-means, and Neural network models were executed on the test data. The model I would choose is the Random Forest model because the accuracy is just as high as the other more sophisticated methods but the execution time is much quicker. As you would expect, as you increase the number of nodes and iterations, the neural network takes longer and longer to execute but the accuracy does increase. These models could be further tuned to gain additional insight and increase predictive power."
      ],
      "metadata": {
        "id": "h6N9iwNdBOW0"
      }
    },
    {
      "cell_type": "markdown",
      "source": [
        "#Extra"
      ],
      "metadata": {
        "id": "p4xgwr487CnD"
      }
    },
    {
      "cell_type": "markdown",
      "source": [
        "##PCA broken down"
      ],
      "metadata": {
        "id": "ZgI8DMBXwdAu"
      }
    },
    {
      "cell_type": "code",
      "execution_count": null,
      "metadata": {
        "colab": {
          "base_uri": "https://localhost:8080/",
          "height": 240
        },
        "id": "VBvnNEEssmEl",
        "outputId": "24284341-7c18-44d4-b0f7-e44f970f0eb4"
      },
      "outputs": [
        {
          "output_type": "error",
          "ename": "NameError",
          "evalue": "ignored",
          "traceback": [
            "\u001b[0;31m---------------------------------------------------------------------------\u001b[0m",
            "\u001b[0;31mNameError\u001b[0m                                 Traceback (most recent call last)",
            "\u001b[0;32m<ipython-input-14-da2d63a04c0b>\u001b[0m in \u001b[0;36m<module>\u001b[0;34m()\u001b[0m\n\u001b[1;32m      1\u001b[0m \u001b[0;31m# Standardize the data\u001b[0m\u001b[0;34m\u001b[0m\u001b[0;34m\u001b[0m\u001b[0;34m\u001b[0m\u001b[0m\n\u001b[1;32m      2\u001b[0m \u001b[0;32mfrom\u001b[0m \u001b[0msklearn\u001b[0m\u001b[0;34m.\u001b[0m\u001b[0mpreprocessing\u001b[0m \u001b[0;32mimport\u001b[0m \u001b[0mStandardScaler\u001b[0m\u001b[0;34m\u001b[0m\u001b[0;34m\u001b[0m\u001b[0m\n\u001b[0;32m----> 3\u001b[0;31m \u001b[0mX\u001b[0m \u001b[0;34m=\u001b[0m \u001b[0mcombined\u001b[0m\u001b[0;34m.\u001b[0m\u001b[0mvalues\u001b[0m\u001b[0;34m\u001b[0m\u001b[0;34m\u001b[0m\u001b[0m\n\u001b[0m\u001b[1;32m      4\u001b[0m \u001b[0mX_std\u001b[0m \u001b[0;34m=\u001b[0m \u001b[0mStandardScaler\u001b[0m\u001b[0;34m(\u001b[0m\u001b[0;34m)\u001b[0m\u001b[0;34m.\u001b[0m\u001b[0mfit_transform\u001b[0m\u001b[0;34m(\u001b[0m\u001b[0mX\u001b[0m\u001b[0;34m)\u001b[0m\u001b[0;34m\u001b[0m\u001b[0;34m\u001b[0m\u001b[0m\n\u001b[1;32m      5\u001b[0m \u001b[0;34m\u001b[0m\u001b[0m\n",
            "\u001b[0;31mNameError\u001b[0m: name 'combined' is not defined"
          ]
        }
      ],
      "source": [
        "# Standardize the data\n",
        "from sklearn.preprocessing import StandardScaler\n",
        "X = combined.values\n",
        "X_std = StandardScaler().fit_transform(X)\n",
        "\n",
        "# Calculating Eigenvectors and eigenvalues of Cov matirx\n",
        "mean_vec = np.mean(X_std, axis=0)\n",
        "cov_mat = np.cov(X_std.T)\n",
        "eig_vals, eig_vecs = np.linalg.eig(cov_mat)\n",
        "# Create a list of (eigenvalue, eigenvector) tuples\n",
        "eig_pairs = [ (np.abs(eig_vals[i]),eig_vecs[:,i]) for i in range(len(eig_vals))]\n",
        "\n",
        "# Sort the eigenvalue, eigenvector pair from high to low\n",
        "eig_pairs.sort(key = lambda x: x[0], reverse= True)\n",
        "\n",
        "# Calculation of Explained Variance from the eigenvalues\n",
        "tot = sum(eig_vals)\n",
        "var_exp = [(i/tot)*100 for i in sorted(eig_vals, reverse=True)] # Individual explained variance\n",
        "cum_var_exp = np.cumsum(var_exp) # Cumulative explained variance\n",
        "print(tot)"
      ]
    },
    {
      "cell_type": "code",
      "execution_count": null,
      "metadata": {
        "id": "qh4ZCllHsfxL",
        "colab": {
          "base_uri": "https://localhost:8080/"
        },
        "outputId": "5feb3a6d-60de-49a0-b8da-9e7432df5013"
      },
      "outputs": [
        {
          "output_type": "stream",
          "name": "stdout",
          "text": [
            "[  5.75192346   9.86818028  13.66130958  16.5970785   19.16689813\n",
            "  21.39656205  23.3477094   25.11696305  26.67871301  28.10181308\n",
            "  29.46090663  30.68247104  31.81682354  32.9293854   33.97846505\n",
            "  34.98989953  35.94067414  36.87387279  37.78031472  38.66489486\n",
            "  39.50292119  40.31648858  41.09306001  41.8446224   42.57384382\n",
            "  43.27236494  43.96188271  44.62592371  45.25663929  45.87222311\n",
            "  46.48253455  47.07873165  47.65520803  48.22813432  48.7927624\n",
            "  49.33836482  49.87729248  50.40197979  50.9063211   51.39418249\n",
            "  51.87580642  52.3511179   52.81071649  53.26781791  53.71688252\n",
            "  54.16308048  54.60686738  55.04356136  55.47577545  55.90236747\n",
            "  56.32110474  56.73290393  57.13484656  57.53374171  57.9287988\n",
            "  58.31918357  58.69861907  59.07057756  59.4387007   59.80403418\n",
            "  60.15685447  60.50748546  60.85265703  61.19365058  61.53098358\n",
            "  61.86698966  62.19828319  62.52754522  62.84710975  63.16343951\n",
            "  63.47569777  63.78771231  64.09549008  64.39839767  64.69952429\n",
            "  64.99624799  65.29188929  65.58513469  65.8729696   66.15959047\n",
            "  66.44243198  66.72492159  67.0062264   67.28506147  67.56155845\n",
            "  67.83750692  68.11104844  68.38249715  68.65028776  68.91537727\n",
            "  69.17712004  69.43735096  69.69524143  69.94995257  70.20312907\n",
            "  70.45520837  70.70499404  70.95075226  71.19494356  71.43601959\n",
            "  71.6733766   71.909342    72.14174203  72.37171488  72.6009529\n",
            "  72.82710095  73.05201618  73.27537101  73.49579647  73.71568336\n",
            "  73.93221717  74.14671629  74.3576795   74.56730362  74.77203159\n",
            "  74.97582749  75.17757551  75.37766094  75.57445441  75.76991291\n",
            "  75.9642268   76.15574547  76.34583408  76.53563708  76.72496036\n",
            "  76.91026272  77.09436759  77.27673186  77.45623324  77.63534075\n",
            "  77.81288412  77.98901648  78.16276467  78.33596757  78.50773188\n",
            "  78.67609214  78.84381796  79.00996828  79.17370991  79.33676294\n",
            "  79.49823635  79.65894306  79.81841014  79.97674607  80.13300974\n",
            "  80.28860774  80.44271507  80.59562011  80.74814873  80.89807829\n",
            "  81.04721871  81.19483606  81.34239699  81.48957793  81.63492818\n",
            "  81.77961482  81.92283916  82.06515546  82.20676178  82.34792349\n",
            "  82.48904779  82.62992056  82.77061528  82.91090977  83.05072662\n",
            "  83.1896812   83.32794193  83.46507153  83.6013306   83.73588501\n",
            "  83.87012297  84.00322047  84.13487226  84.26593495  84.39590943\n",
            "  84.52560143  84.65367132  84.78144942  84.90881881  85.03549842\n",
            "  85.16142821  85.28561356  85.40973954  85.53307413  85.65475423\n",
            "  85.77461471  85.89321113  86.0105069   86.12696828  86.24252793\n",
            "  86.35717618  86.47166948  86.5849615   86.69561973  86.80509355\n",
            "  86.91386722  87.02155951  87.12853231  87.23475625  87.34022706\n",
            "  87.4449689   87.54922349  87.6511596   87.75219165  87.85279654\n",
            "  87.95181687  88.05034733  88.1473914   88.24415362  88.34029754\n",
            "  88.4354334   88.52964965  88.62324985  88.71592697  88.80727501\n",
            "  88.89820674  88.98829081  89.07795199  89.1664049   89.25452769\n",
            "  89.34103637  89.42720284  89.51287033  89.59807721  89.68198947\n",
            "  89.76533733  89.84773538  89.92969669  90.01034893  90.09055365\n",
            "  90.17038071  90.24939943  90.32782741  90.40479313  90.48028828\n",
            "  90.55532166  90.62938392  90.70289102  90.77621873  90.84881357\n",
            "  90.92126672  90.9927204   91.06316359  91.13269898  91.20213857\n",
            "  91.27137379  91.34016689  91.40836276  91.47525133  91.54168785\n",
            "  91.60760744  91.67266264  91.73659254  91.7993388   91.86176827\n",
            "  91.92374889  91.98497196  92.04554773  92.106005    92.16607755\n",
            "  92.22553832  92.28431137  92.34273607  92.40105187  92.45865056\n",
            "  92.51589789  92.57276885  92.62938141  92.68558925  92.74079759\n",
            "  92.79548355  92.85011361  92.90438285  92.95802383  93.01065775\n",
            "  93.0631096   93.11529905  93.16704188  93.21814343  93.2686242\n",
            "  93.31876089  93.36863258  93.41824059  93.46780758  93.51680906\n",
            "  93.56528539  93.61324001  93.66068016  93.70788211  93.75427162\n",
            "  93.8005669   93.84607383  93.89138848  93.93650797  93.98140447\n",
            "  94.02567578  94.0696581   94.11314022  94.15632346  94.19909855\n",
            "  94.24116389  94.28277678  94.32406707  94.36533693  94.40608668\n",
            "  94.44679334  94.48699788  94.52706284  94.5667886   94.60635021\n",
            "  94.64568669  94.68440749  94.72267361  94.76082742  94.79878037\n",
            "  94.83655773  94.87372613  94.91072473  94.94726003  94.98336992\n",
            "  95.01900399  95.05457284  95.08985963  95.12498306  95.15978121\n",
            "  95.19413501  95.22793916  95.2617266   95.2954432   95.32886797\n",
            "  95.36191637  95.39466478  95.42731696  95.45973534  95.4919445\n",
            "  95.52400309  95.55573452  95.58726987  95.61858989  95.64949238\n",
            "  95.68027742  95.71084186  95.74131713  95.7714508   95.80131642\n",
            "  95.8310764   95.86037321  95.88961206  95.91856825  95.94731105\n",
            "  95.97583185  96.00415208  96.03232127  96.06026025  96.08814852\n",
            "  96.11585079  96.14301708  96.16999428  96.19667271  96.22316894\n",
            "  96.24946682  96.27565155  96.30158898  96.32741882  96.35299082\n",
            "  96.3783618   96.40362302  96.42864019  96.45345863  96.478177\n",
            "  96.5028293   96.52734189  96.55167486  96.57581454  96.59972026\n",
            "  96.62356146  96.64716468  96.67071995  96.69393084  96.71695833\n",
            "  96.73994457  96.76261397  96.78525092  96.8077828   96.83021456\n",
            "  96.85237864  96.87452201  96.89652087  96.91829534  96.94001962\n",
            "  96.96156719  96.98296239  97.00427069  97.02534569  97.04625078\n",
            "  97.06710175  97.08784081  97.10842597  97.1289193   97.14921639\n",
            "  97.16947651  97.18950445  97.20951408  97.22930727  97.24892636\n",
            "  97.26841483  97.2878123   97.30715902  97.32632201  97.34538002\n",
            "  97.3643655   97.38326813  97.4020526   97.42071582  97.43906825\n",
            "  97.45732807  97.4753904   97.49331383  97.51111704  97.52886046\n",
            "  97.54641597  97.56389739  97.58132621  97.59861621  97.61577494\n",
            "  97.63278782  97.64977662  97.66669466  97.68343683  97.70012335\n",
            "  97.71675236  97.73330599  97.74976977  97.76619735  97.78250014\n",
            "  97.79867227  97.81470462  97.83055783  97.84628443  97.86191124\n",
            "  97.87749803  97.89299756  97.90843568  97.92369581  97.93883688\n",
            "  97.95390288  97.96881859  97.98365675  97.99840683  98.01308825\n",
            "  98.02766159  98.04221703  98.05671498  98.07109587  98.08541661\n",
            "  98.09972118  98.11395332  98.12810509  98.14216396  98.15615153\n",
            "  98.17009844  98.18392829  98.19770361  98.21142287  98.22507459\n",
            "  98.23863812  98.25209271  98.26551184  98.27888477  98.29215824\n",
            "  98.30534333  98.31847913  98.33153885  98.34450719  98.35736415\n",
            "  98.37017468  98.38295375  98.39564318  98.40830593  98.42082927\n",
            "  98.43328046  98.44569704  98.45803031  98.47030879  98.48256697\n",
            "  98.4947819   98.50689983  98.51891948  98.53086903  98.54274165\n",
            "  98.55459136  98.56639621  98.57812798  98.58981166  98.60135481\n",
            "  98.61280962  98.62421124  98.63558005  98.64690316  98.65811804\n",
            "  98.66927596  98.68038608  98.69142545  98.70238304  98.71332704\n",
            "  98.72415448  98.73495963  98.74571852  98.75644877  98.76711243\n",
            "  98.77773752  98.78830608  98.79881729  98.8092634   98.81965426\n",
            "  98.83003237  98.8403607   98.85063843  98.86082986  98.87094799\n",
            "  98.88101031  98.89103877  98.90097685  98.91089277  98.92078689\n",
            "  98.93057692  98.94035511  98.95009754  98.95978865  98.96947053\n",
            "  98.97909381  98.98862266  98.9981302   99.00758488  99.01695089\n",
            "  99.0262528   99.03550732  99.04475674  99.05390879  99.06300531\n",
            "  99.07205589  99.08107735  99.09005876  99.0990204   99.10792169\n",
            "  99.11674193  99.12552914  99.13427189  99.14291063  99.15152058\n",
            "  99.16008254  99.16861487  99.17712462  99.1855715   99.19394878\n",
            "  99.20230281  99.21060578  99.21883471  99.22700815  99.23513596\n",
            "  99.24321988  99.2512654   99.25922156  99.26712673  99.27500307\n",
            "  99.2828628   99.29068218  99.29845887  99.30623316  99.31397548\n",
            "  99.32162343  99.32918258  99.33673602  99.3442493   99.35171245\n",
            "  99.35913661  99.36649519  99.3738514   99.38117446  99.38842733\n",
            "  99.3956616   99.4028703   99.41002932  99.41711408  99.42418264\n",
            "  99.43118938  99.43814659  99.44509457  99.45202699  99.4589027\n",
            "  99.4657354   99.47251453  99.47926884  99.48598178  99.49268743\n",
            "  99.49934714  99.50597118  99.51256033  99.51911607  99.52561528\n",
            "  99.53205193  99.53846462  99.54484573  99.55120927  99.55755641\n",
            "  99.56383319  99.57007477  99.57629383  99.582462    99.58861138\n",
            "  99.59473369  99.6008151   99.60684134  99.61285447  99.61884832\n",
            "  99.62477261  99.63064976  99.63647676  99.64228067  99.64802906\n",
            "  99.65373122  99.65940724  99.66507467  99.67071889  99.67632743\n",
            "  99.68190686  99.68746905  99.69300529  99.69846994  99.7038778\n",
            "  99.70928492  99.71462945  99.7199584   99.72523359  99.73050686\n",
            "  99.73574839  99.7409542   99.7461366   99.75127673  99.75638707\n",
            "  99.76143569  99.76645201  99.7714395   99.77638859  99.78129953\n",
            "  99.78618845  99.79104374  99.79587647  99.8006917   99.80545286\n",
            "  99.81013364  99.81478911  99.81942427  99.82402291  99.82858833\n",
            "  99.83310518  99.83759565  99.84207306  99.84652077  99.85093943\n",
            "  99.85530132  99.85963344  99.86394196  99.8682116   99.87241917\n",
            "  99.87658579  99.88071854  99.8848288   99.88889017  99.89292767\n",
            "  99.89694001  99.9009112   99.90482978  99.90872978  99.91259384\n",
            "  99.91641353  99.92020614  99.92398669  99.92773144  99.93145319\n",
            "  99.93512147  99.93874186  99.94231976  99.94588331  99.9493824\n",
            "  99.95283593  99.95625689  99.95964971  99.96300404  99.96631304\n",
            "  99.96960518  99.97287136  99.97608814  99.9791945   99.98221372\n",
            "  99.98519825  99.98812856  99.99096922  99.99358546  99.99612905\n",
            "  99.99778717  99.99898002  99.99965049  99.99991575 100.\n",
            " 100.         100.         100.         100.         100.\n",
            " 100.         100.         100.         100.         100.\n",
            " 100.         100.         100.         100.         100.\n",
            " 100.         100.         100.         100.         100.\n",
            " 100.         100.         100.         100.         100.\n",
            " 100.         100.         100.         100.         100.\n",
            " 100.         100.         100.         100.         100.\n",
            " 100.         100.         100.         100.         100.\n",
            " 100.         100.         100.         100.         100.\n",
            " 100.         100.         100.         100.         100.\n",
            " 100.         100.         100.         100.         100.\n",
            " 100.         100.         100.         100.         100.\n",
            " 100.         100.         100.         100.         100.\n",
            " 100.         100.         100.         100.         100.\n",
            " 100.         100.         100.         100.         100.\n",
            " 100.         100.         100.         100.         100.        ]\n"
          ]
        }
      ],
      "source": [
        "# Standardize the data\n",
        "from sklearn.preprocessing import StandardScaler\n",
        "X = train.values\n",
        "X_std = StandardScaler().fit_transform(X)\n",
        "\n",
        "# Calculating Eigenvectors and eigenvalues of Cov matirx\n",
        "mean_vec = np.mean(X_std, axis=0)\n",
        "cov_mat = np.cov(X_std.T)\n",
        "eig_vals, eig_vecs = np.linalg.eig(cov_mat)\n",
        "# Create a list of (eigenvalue, eigenvector) tuples\n",
        "eig_pairs = [ (np.abs(eig_vals[i]),eig_vecs[:,i]) for i in range(len(eig_vals))]\n",
        "\n",
        "# Sort the eigenvalue, eigenvector pair from high to low\n",
        "eig_pairs.sort(key = lambda x: x[0], reverse= True)\n",
        "\n",
        "# Calculation of Explained Variance from the eigenvalues\n",
        "tot = sum(eig_vals)\n",
        "var_exp = [(i/tot)*100 for i in sorted(eig_vals, reverse=True)] # Individual explained variance\n",
        "cum_var_exp = np.cumsum(var_exp) # Cumulative explained variance\n",
        "print(cum_var_exp)"
      ]
    },
    {
      "cell_type": "code",
      "execution_count": null,
      "metadata": {
        "id": "qFXgsiMe08IM",
        "colab": {
          "base_uri": "https://localhost:8080/",
          "height": 240
        },
        "outputId": "9d553c56-0386-41cb-86e4-7fdd396fd9bf"
      },
      "outputs": [
        {
          "output_type": "error",
          "ename": "NameError",
          "evalue": "ignored",
          "traceback": [
            "\u001b[0;31m---------------------------------------------------------------------------\u001b[0m",
            "\u001b[0;31mNameError\u001b[0m                                 Traceback (most recent call last)",
            "\u001b[0;32m<ipython-input-16-2906f6cc6051>\u001b[0m in \u001b[0;36m<module>\u001b[0;34m()\u001b[0m\n\u001b[1;32m      3\u001b[0m \u001b[0;34m\u001b[0m\u001b[0m\n\u001b[1;32m      4\u001b[0m \u001b[0mpca\u001b[0m \u001b[0;34m=\u001b[0m \u001b[0mPCA\u001b[0m\u001b[0;34m(\u001b[0m\u001b[0mn_components\u001b[0m\u001b[0;34m=\u001b[0m\u001b[0;36m0.95\u001b[0m\u001b[0;34m)\u001b[0m\u001b[0;34m\u001b[0m\u001b[0;34m\u001b[0m\u001b[0m\n\u001b[0;32m----> 5\u001b[0;31m \u001b[0mcomponents\u001b[0m \u001b[0;34m=\u001b[0m \u001b[0mpca\u001b[0m\u001b[0;34m.\u001b[0m\u001b[0mfit_transform\u001b[0m\u001b[0;34m(\u001b[0m\u001b[0mcombined\u001b[0m\u001b[0;34m)\u001b[0m\u001b[0;34m\u001b[0m\u001b[0;34m\u001b[0m\u001b[0m\n\u001b[0m\u001b[1;32m      6\u001b[0m labels = {\n\u001b[1;32m      7\u001b[0m     \u001b[0mstr\u001b[0m\u001b[0;34m(\u001b[0m\u001b[0mi\u001b[0m\u001b[0;34m)\u001b[0m\u001b[0;34m:\u001b[0m \u001b[0;34mf\"PC {i+1} ({var:.1f}%)\"\u001b[0m\u001b[0;34m\u001b[0m\u001b[0;34m\u001b[0m\u001b[0m\n",
            "\u001b[0;31mNameError\u001b[0m: name 'combined' is not defined"
          ]
        }
      ],
      "source": [
        "import plotly.express as px\n",
        "from sklearn.decomposition import PCA\n",
        "\n",
        "pca = PCA(n_components=0.95)\n",
        "components = pca.fit_transform(combined)\n",
        "labels = {\n",
        "    str(i): f\"PC {i+1} ({var:.1f}%)\"\n",
        "    for i, var in enumerate(pca.explained_variance_ratio_ * 100)\n",
        "}\n",
        "\n",
        "fig = px.scatter_matrix(\n",
        "    components,\n",
        "    labels=labels,\n",
        "    dimensions=range(4),\n",
        ")\n",
        "fig.update_traces(diagonal_visible=False)\n",
        "fig.show()"
      ]
    },
    {
      "cell_type": "code",
      "source": [
        "\n",
        "import plotly.express as px\n",
        "import numpy as np\n",
        "import pandas as pd\n",
        "from sklearn.decomposition import PCA\n",
        "from sklearn.datasets import load_diabetes\n",
        "\n",
        "pca = PCA()\n",
        "pca.fit(combined)\n",
        "exp_var_cumul = np.cumsum(pca.explained_variance_ratio_)\n",
        "\n",
        "px.area(\n",
        "    x=range(1, exp_var_cumul.shape[0] + 1),\n",
        "    y=exp_var_cumul,\n",
        "    labels={\"x\": \"# Components\", \"y\": \"Explained Variance\"}\n",
        ")"
      ],
      "metadata": {
        "id": "sxJxhzK616wj"
      },
      "execution_count": null,
      "outputs": []
    },
    {
      "cell_type": "code",
      "source": [
        "start = time.time()\n",
        "\n",
        "pca = PCA(n_components=154)\n",
        "pca.fit(combined)\n",
        "transform = pca.transform(combined)\n",
        "\n",
        "figure(figsize(6,5))\n",
        "plt.scatter(transform[:,0],transform[:,1], s=20, cmap = \"nipy_spectral\", edgecolor = \"None\")\n",
        "plt.colorbar()\n",
        "clim(0,9)\n",
        "\n",
        "xlabel(\"PC1\")\n",
        "ylabel(\"PC2\")\n",
        "\n",
        "end = time.time()\n",
        "print('--- %s seconds ---' % (end - start))"
      ],
      "metadata": {
        "id": "eLPphG2g2hqJ"
      },
      "execution_count": null,
      "outputs": []
    },
    {
      "cell_type": "code",
      "source": [
        "pca = PCA(n_components=154)\n",
        "pca.fit(train)\n",
        "transform_train = pca.transform(train)\n",
        "#transform_test = pca.transform(test)"
      ],
      "metadata": {
        "id": "wkz_3abCAcde"
      },
      "execution_count": null,
      "outputs": []
    },
    {
      "cell_type": "code",
      "source": [
        "results= transform_train\n",
        "\n",
        "# prepare submit file\n",
        "\n",
        "np.savetxt('results.csv', \n",
        "           np.c_[range(1,len(test)+1),results], \n",
        "           delimiter=',', \n",
        "           header = 'ImageId,Label', \n",
        "           comments = '', \n",
        "           fmt='%d')\n"
      ],
      "metadata": {
        "id": "HQY27exo_NDH"
      },
      "execution_count": null,
      "outputs": []
    },
    {
      "cell_type": "code",
      "execution_count": null,
      "metadata": {
        "id": "0EzIsRvgUNql"
      },
      "outputs": [],
      "source": [
        "pca = PCA(n_components=0.95)\n",
        "pca.fit(combined)\n",
        "transform = pca.transform(combined)\n",
        "\n",
        "figure(figsize(6,5))\n",
        "plt.scatter(transform[:,0],transform[:,1], s=20, c = train[\"label\"], cmap = \"nipy_spectral\", edgecolor = \"None\")\n",
        "plt.colorbar()\n",
        "clim(0,9)\n",
        "\n",
        "xlabel(\"PC1\")\n",
        "ylabel(\"PC2\")"
      ]
    },
    {
      "cell_type": "code",
      "execution_count": null,
      "metadata": {
        "id": "moT61n_8s1j_"
      },
      "outputs": [],
      "source": [
        "#from chart_studio.plotly import plot, iplot\n",
        "import plotly.graph_objects as go\n",
        "trace1 = go.Scatter(\n",
        "    x=list(range(784)),\n",
        "    y= cum_var_exp,\n",
        "    mode='lines+markers',\n",
        "    name=\"'Cumulative Explained Variance'\",\n",
        "#     hoverinfo= cum_var_exp,\n",
        "    line=dict(\n",
        "        shape='spline',\n",
        "        color = 'goldenrod'\n",
        "    )\n",
        ")\n",
        "trace2 = go.Scatter(\n",
        "    x=list(range(784)),\n",
        "    y= var_exp,\n",
        "    mode='lines+markers',\n",
        "    name=\"'Individual Explained Variance'\",\n",
        "#     hoverinfo= var_exp,\n",
        "    line=dict(\n",
        "        shape='linear',\n",
        "        color = 'black'\n",
        "    )\n",
        ")\n",
        "fig = tls.make_subplots(insets=[{'cell': (1,1), 'l': 0.7, 'b': 0.5}],\n",
        "                          print_grid=True)\n",
        "\n",
        "fig.append_trace(trace1, 1, 1)\n",
        "fig.append_trace(trace2,1,1)\n",
        "fig.layout.title = 'Explained Variance plots - Full and Zoomed-in'\n",
        "fig.layout.xaxis = dict(range=[0, 80], title = 'Feature columns')\n",
        "fig.layout.yaxis = dict(range=[0, 60], title = 'Explained Variance')\n"
      ]
    },
    {
      "cell_type": "code",
      "execution_count": null,
      "metadata": {
        "id": "PZNrJq8tb4sf"
      },
      "outputs": [],
      "source": [
        "import numpy as np\n",
        "from tensorflow import keras\n",
        "from keras.constraints import maxnorm\n",
        "from keras.utils import np_utils"
      ]
    },
    {
      "cell_type": "code",
      "execution_count": null,
      "metadata": {
        "id": "7kAotRxkcCJt"
      },
      "outputs": [],
      "source": [
        "#https://www.kaggle.com/yassineghouzam/introduction-to-cnn-keras-0-997-top-6\n",
        "import pandas as pd\n",
        "import numpy as np\n",
        "import matplotlib.pyplot as plt\n",
        "import matplotlib.image as mpimg\n",
        "import seaborn as sns\n",
        "%matplotlib inline\n",
        "\n",
        "np.random.seed(2)\n",
        "\n",
        "from sklearn.model_selection import train_test_split\n",
        "from sklearn.metrics import confusion_matrix\n",
        "import itertools\n",
        "\n",
        "from keras.utils.np_utils import to_categorical # convert to one-hot-encoding\n",
        "from keras.models import Sequential\n",
        "from keras.layers import Dense, Dropout, Flatten, Conv2D, MaxPool2D\n",
        "#from keras.optimizers import RMSprop\n",
        "from keras.preprocessing.image import ImageDataGenerator\n",
        "from keras.callbacks import ReduceLROnPlateau\n",
        "\n",
        "\n",
        "sns.set(style='white', context='notebook', palette='deep')"
      ]
    },
    {
      "cell_type": "code",
      "execution_count": null,
      "metadata": {
        "id": "rL2d2fH4h6Mt"
      },
      "outputs": [],
      "source": [
        "#upload from raw link on github\n",
        "samplesubmission= pd.read_csv('https://raw.githubusercontent.com/LaurenVaught/DigitRecognizer/main/sample_submission.csv') \n",
        "train = pd.read_csv('https://raw.githubusercontent.com/LaurenVaught/DigitRecognizer/main/train.csv.zip') \n",
        "test = pd.read_csv('https://raw.githubusercontent.com/LaurenVaught/DigitRecognizer/main/test.csv.zip')\n"
      ]
    },
    {
      "cell_type": "code",
      "execution_count": null,
      "metadata": {
        "id": "nosPSIqeiVEE"
      },
      "outputs": [],
      "source": [
        "#grayscale normalization\n",
        "X_train = X_train / 255.0\n",
        "test = test / 255.0 "
      ]
    },
    {
      "cell_type": "code",
      "execution_count": null,
      "metadata": {
        "id": "L0f-bapLiuT5"
      },
      "outputs": [],
      "source": [
        "#reshape for Keras (add 3rd dimension) from 28h x 28w --> 28h x 28w x1canal\n",
        "X_train = X_train.values.reshape(-1,28,28,1)\n",
        "\n",
        "test = test.values.reshape(-1,28,28,1)"
      ]
    },
    {
      "cell_type": "code",
      "execution_count": null,
      "metadata": {
        "id": "zSGghxXIjQWG"
      },
      "outputs": [],
      "source": [
        "# Set the random seed\n",
        "random_seed = 2\n",
        "\n",
        "# Split the train and the validation set for the fitting\n",
        "X_train, X_val, Y_train, Y_val = train_test_split(X_train, Y_train, test_size = 0.1, random_state=random_seed)\n"
      ]
    },
    {
      "cell_type": "code",
      "execution_count": null,
      "metadata": {
        "id": "_pW-2QXBjjUK"
      },
      "outputs": [],
      "source": [
        "#see an example\n",
        "g = plt.imshow(X_train[0][:,:,0])"
      ]
    },
    {
      "cell_type": "code",
      "execution_count": null,
      "metadata": {
        "id": "VH8ouO81mRIE"
      },
      "outputs": [],
      "source": [
        "from sklearn.ensemble import RandomForestClassifier\n",
        "from sklearn.model_selection import RandomizedSearchCV, GridSearchCV\n",
        "from sklearn.metrics import accuracy_score"
      ]
    },
    {
      "cell_type": "code",
      "execution_count": null,
      "metadata": {
        "id": "MmhkTq3KNfNk"
      },
      "outputs": [],
      "source": [
        "target = train[\"label\"]\n",
        "train = train.drop(\"label\",1)"
      ]
    },
    {
      "cell_type": "code",
      "execution_count": null,
      "metadata": {
        "id": "7Q8dqy4qNakK"
      },
      "outputs": [],
      "source": [
        "pca = PCA(n_components=2)\n",
        "pca.fit(train)\n",
        "transform = pca.transform(train)\n",
        "\n",
        "figure(figsize(6,5))\n",
        "plt.scatter(transform[:,0],transform[:,1], s=20, c = target, cmap = \"nipy_spectral\", edgecolor = \"None\")\n",
        "plt.colorbar()\n",
        "clim(0,9)\n",
        "\n",
        "xlabel(\"PC1\")\n",
        "ylabel(\"PC2\")"
      ]
    },
    {
      "cell_type": "code",
      "execution_count": null,
      "metadata": {
        "id": "ifG4lILgMz93"
      },
      "outputs": [],
      "source": [
        "set.seed(0)"
      ]
    },
    {
      "cell_type": "code",
      "execution_count": null,
      "metadata": {
        "id": "kb2bkdaAMsEc"
      },
      "outputs": [],
      "source": [
        "# Creates a simple random forest benchmark\n",
        "\n",
        "library(randomForest)\n",
        "library(readr)\n",
        "\n",
        "set.seed(0)\n",
        "\n",
        "numTrain <- 10000\n",
        "numTrees <- 25\n",
        "\n",
        "train <- read_csv(\"../input/train.csv\")\n",
        "test <- read_csv(\"../input/test.csv\")\n",
        "\n",
        "rows <- sample(1:nrow(train), numTrain)\n",
        "labels <- as.factor(train[rows,1])\n",
        "train <- train[rows,-1]\n",
        "\n",
        "rf <- randomForest(train, labels, xtest=test, ntree=numTrees)\n",
        "predictions <- data.frame(ImageId=1:nrow(test), Label=levels(labels)[rf$test$predicted])\n",
        "head(predictions)\n",
        "\n",
        "write_csv(predictions, \"rf_benchmark.csv\") "
      ]
    },
    {
      "cell_type": "code",
      "execution_count": null,
      "metadata": {
        "id": "YuEsO0eHnHJm"
      },
      "outputs": [],
      "source": [
        "# This data is used for random forest\n",
        "X_train, X_val, Y_train, Y_val = train_test_split(X_train, Y_train, test_size = 0.1, random_state=0)"
      ]
    },
    {
      "cell_type": "code",
      "execution_count": null,
      "metadata": {
        "id": "22TF81l6mRAh"
      },
      "outputs": [],
      "source": [
        "rf = RandomForestClassifier(min_samples_leaf = 2, n_estimators = 1000, random_state = 0, verbose = 1)"
      ]
    },
    {
      "cell_type": "code",
      "execution_count": null,
      "metadata": {
        "id": "Q4wiji3JmQ1x"
      },
      "outputs": [],
      "source": [
        "rf.fit(X_train, Y_train)"
      ]
    },
    {
      "cell_type": "code",
      "execution_count": null,
      "metadata": {
        "id": "eooX2OH3fX3C"
      },
      "outputs": [],
      "source": [
        "# load the modules\n",
        "\n",
        "import numpy as np\n",
        "import pandas as pd\n",
        "import seaborn as sb\n",
        "sb.set_style(\"dark\")\n",
        "import matplotlib.pyplot as plt\n",
        "\n",
        "from sklearn.ensemble import RandomForestClassifier\n",
        "from sklearn.model_selection import train_test_split\n",
        "from sklearn.neighbors import KNeighborsClassifier\n",
        "from sklearn.decomposition import PCA\n",
        "from sklearn.ensemble import RandomForestClassifier\n",
        "from sklearn.cross_validation import cross_val_score\n",
        "\n",
        "%pylab inline"
      ]
    },
    {
      "cell_type": "code",
      "execution_count": null,
      "metadata": {
        "id": "DWo41cXMa-NY"
      },
      "outputs": [],
      "source": [
        "def main():\n",
        "    # loading training data\n",
        "    print('Loading training data')\n",
        "    data = pd.read_csv('../input/train.csv')\n",
        "    X_tr = .values[:, 1:].astype(float)\n",
        "    y_tr = data.values[:, 0]\n",
        "\n",
        "    scores = list()\n",
        "    scores_std = list()\n"
      ]
    },
    {
      "cell_type": "code",
      "execution_count": null,
      "metadata": {
        "id": "_jVFA_UjkV5x"
      },
      "outputs": [],
      "source": [
        "y_train = train[\"label\"]\n",
        "\n",
        "# Drop 'label' column\n",
        "X_train = train.drop(labels = [\"label\"],axis = 1) \n",
        "\n",
        "# free some space\n",
        "del train \n",
        "\n",
        "y_train.value_counts()"
      ]
    },
    {
      "cell_type": "code",
      "execution_count": null,
      "metadata": {
        "id": "5_kmTCYiZ1cV"
      },
      "outputs": [],
      "source": [
        "# load the modules\n",
        "\n",
        "import numpy as np\n",
        "import pandas as pd\n",
        "import seaborn as sb\n",
        "sb.set_style(\"dark\")\n",
        "import matplotlib.pyplot as plt\n",
        "\n",
        "from sklearn.ensemble import RandomForestClassifier\n",
        "from sklearn.model_selection import train_test_split\n",
        "from sklearn.neighbors import KNeighborsClassifier\n",
        "from sklearn.decomposition import PCA\n",
        "\n",
        "%pylab inline"
      ]
    },
    {
      "cell_type": "code",
      "execution_count": null,
      "metadata": {
        "id": "T_HdV1ZyfkjP"
      },
      "outputs": [],
      "source": [
        "# this function trains on a fraction of the data corresponding to split_ratio, and evaulates on the rest of the data\n",
        "\n",
        "def evaluate_classifier(clf, data, target, split_ratio):\n",
        "    trainX, testX, trainY, testY = train_test_split(data, target, train_size=split_ratio, random_state=0)\n",
        "    clf.fit(trainX, trainY)\n",
        "    return clf.score(testX,testY)"
      ]
    },
    {
      "cell_type": "code",
      "execution_count": null,
      "metadata": {
        "id": "veSlS1FegP-J"
      },
      "outputs": [],
      "source": [
        "train = pd.read_csv('https://raw.githubusercontent.com/LaurenVaught/DigitRecognizer/main/train.csv.zip') \n",
        "test = pd.read_csv('https://raw.githubusercontent.com/LaurenVaught/DigitRecognizer/main/test.csv.zip')\n",
        "\n",
        "target = train[\"label\"]\n",
        "train = train.drop(\"label\",1)"
      ]
    },
    {
      "cell_type": "code",
      "execution_count": null,
      "metadata": {
        "id": "3iGr67cOXjsV"
      },
      "outputs": [],
      "source": [
        "# load the modules\n",
        "\n",
        "import numpy as np\n",
        "import pandas as pd\n",
        "import seaborn as sb\n",
        "sb.set_style(\"dark\")\n",
        "import matplotlib.pyplot as plt\n",
        "\n",
        "from sklearn.ensemble import RandomForestClassifier\n",
        "from sklearn.model_selection import train_test_split\n",
        "from sklearn.neighbors import KNeighborsClassifier\n",
        "from sklearn.decomposition import PCA\n",
        "\n",
        "%pylab inline"
      ]
    },
    {
      "cell_type": "code",
      "execution_count": null,
      "metadata": {
        "id": "pw864VjUX3_U"
      },
      "outputs": [],
      "source": [
        "# check performance of random forest classifier, as function of number of estimators \n",
        "# here we only take 1000 data points to train\n",
        "\n",
        "n_estimators_array = np.array([1,5,10,50,100,200,500])\n",
        "n_samples = 10\n",
        "n_grid = len(n_estimators_array)\n",
        "score_array_mu =np.zeros(n_grid)\n",
        "score_array_sigma = np.zeros(n_grid)\n",
        "j=0\n",
        "for n_estimators in n_estimators_array:\n",
        "    score_array=np.zeros(n_samples)\n",
        "    for i in range(0,n_samples):\n",
        "        clf = RandomForestClassifier(n_estimators = n_estimators, n_jobs=1, criterion=\"gini\")\n",
        "        score_array[i] = evaluate_classifier(clf, train.iloc[0:1000], target.iloc[0:1000], 0.8)\n",
        "    score_array_mu[j], score_array_sigma[j] = mean(score_array), std(score_array)\n",
        "    j=j+1"
      ]
    },
    {
      "cell_type": "code",
      "execution_count": null,
      "metadata": {
        "id": "aWKO1CoNYIDs"
      },
      "outputs": [],
      "source": [
        "# it looks like the performace saturates around 50-100 estimators\n",
        "\n",
        "figure(figsize(7,3))\n",
        "errorbar(n_estimators_array, score_array_mu, yerr=score_array_sigma, fmt='k.-')\n",
        "xscale(\"log\")\n",
        "xlabel(\"number of estimators\",size = 15)\n",
        "ylabel(\"accuracy\",size = 15)\n",
        "xlim(0.9,600)\n",
        "grid(which=\"both\")"
      ]
    },
    {
      "cell_type": "code",
      "execution_count": null,
      "metadata": {
        "id": "YTQMX72zYOuP"
      },
      "outputs": [],
      "source": [
        "importances = clf.feature_importances_\n",
        "indices = np.argsort(importances)[::-1]\n",
        "\n",
        "print(\"Feature ranking:\")\n",
        "for f in range(0,10):\n",
        "    print(\"%d. feature %d (%f)\" % (f + 1, indices[f], importances[indices[f]]))\n",
        "\n",
        "# Plot the feature importances\n",
        "\n",
        "figure(figsize(7,3))\n",
        "plot(indices[:],importances[indices[:]],'k.')\n",
        "yscale(\"log\")\n",
        "xlabel(\"feature\",size=15)\n",
        "ylabel(\"importance\",size=15)"
      ]
    },
    {
      "cell_type": "code",
      "execution_count": null,
      "metadata": {
        "id": "52WwW6N9YW2B"
      },
      "outputs": [],
      "source": [
        "pca = PCA(n_components=2)\n",
        "pca.fit(train)\n",
        "transform = pca.transform(train)\n",
        "\n",
        "figure(figsize(6,5))\n",
        "plt.scatter(transform[:,0],transform[:,1], s=20, c = target, cmap = \"nipy_spectral\", edgecolor = \"None\")\n",
        "plt.colorbar()\n",
        "clim(0,9)\n",
        "\n",
        "xlabel(\"PC1\")\n",
        "ylabel(\"PC2\")"
      ]
    },
    {
      "cell_type": "code",
      "execution_count": null,
      "metadata": {
        "id": "xG_MpBj8Yl18"
      },
      "outputs": [],
      "source": [
        "n_components_array=([1,2,3,4,5,10,20,50,100,200,500])\n",
        "vr = np.zeros(len(n_components_array))\n",
        "i=0;\n",
        "for n_components in n_components_array:\n",
        "    pca = PCA(n_components=n_components)\n",
        "    pca.fit(train)\n",
        "    vr[i] = sum(pca.explained_variance_ratio_)\n",
        "    i=i+1    "
      ]
    },
    {
      "cell_type": "code",
      "execution_count": null,
      "metadata": {
        "id": "6Xj1oTfIYsiT"
      },
      "outputs": [],
      "source": [
        "figure(figsize(8,4))\n",
        "plot(n_components_array,vr,'k.-')\n",
        "xscale(\"log\")\n",
        "ylim(9e-2,1.1)\n",
        "yticks(linspace(0.2,1.0,9))\n",
        "xlim(0.9)\n",
        "grid(which=\"both\")\n",
        "xlabel(\"number of PCA components\",size=15)\n",
        "ylabel(\"variance ratio\",size=15)\n"
      ]
    },
    {
      "cell_type": "markdown",
      "metadata": {
        "id": "sEVdirwaY1r9"
      },
      "source": [
        "About 100 PCAs are needed to cover 90% of variance. Need to narrow down."
      ]
    },
    {
      "cell_type": "code",
      "execution_count": null,
      "metadata": {
        "id": "wRCKuQjNZGsA"
      },
      "outputs": [],
      "source": [
        "clf = KNeighborsClassifier()\n",
        "n_components_array=([1,2,3,4,5,10,20,50,100,200,500])\n",
        "score_array = np.zeros(len(n_components_array))\n",
        "i=0\n",
        "\n",
        "for n_components in n_components_array:\n",
        "    pca = PCA(n_components=n_components)\n",
        "    pca.fit(train)\n",
        "    transform = pca.transform(train.iloc[0:1000])\n",
        "    score_array[i] = evaluate_classifier(clf, transform, target.iloc[0:1000], 0.8)\n",
        "    i=i+1"
      ]
    },
    {
      "cell_type": "code",
      "execution_count": null,
      "metadata": {
        "id": "uKl9-3c1ZRYF"
      },
      "outputs": [],
      "source": [
        "figure(figsize(8,4))\n",
        "plot(n_components_array,score_array,'k.-')\n",
        "xscale('log')\n",
        "xlabel(\"number of PCA components\", size=15)\n",
        "ylabel(\"accuracy\", size=15)\n",
        "grid(which=\"both\")"
      ]
    },
    {
      "cell_type": "code",
      "execution_count": null,
      "metadata": {
        "id": "6yl_M7QGdkIr"
      },
      "outputs": [],
      "source": [
        "#test to fix error\n",
        "clf = KNeighborsClassifier()\n",
        "n_components_array=([1,2,3,4,5,10,20,50,100,200,500])\n",
        "score_array = np.zeros(len(n_components_array))\n",
        "i=0\n",
        "\n",
        "for n_components in n_components_array:\n",
        "    pca = PCA(n_components=n_components)\n",
        "    pca.fit(test)\n",
        "    transform = pca.transform(test.iloc[0:1000])\n",
        "    score_array[i] = evaluate_classifier(clf, transform, target.iloc[0:1000], 0.8)\n",
        "    i=i+1"
      ]
    },
    {
      "cell_type": "code",
      "execution_count": null,
      "metadata": {
        "id": "X_9-EhwIZe0g"
      },
      "outputs": [],
      "source": [
        "# PCA + kNN\n",
        "    \n",
        "pca = PCA(n_components=50)\n",
        "pca.fit(train)\n",
        "transform_train = pca.transform(train)\n",
        "transform_test = pca.transform(test)\n",
        "\n",
        "clf = KNeighborsClassifier()\n",
        "clf.fit(transform_train, target)\n",
        "results=clf.predict(transform_test)\n",
        "\n",
        "# prepare submit file\n",
        "\n",
        "np.savetxt('results.csv', \n",
        "           np.c_[range(1,len(test)+1),results], \n",
        "           delimiter=',', \n",
        "           header = 'ImageId,Label', \n",
        "           comments = '', \n",
        "           fmt='%d')"
      ]
    },
    {
      "cell_type": "code",
      "execution_count": null,
      "metadata": {
        "id": "KDyH41VwZ0Jr"
      },
      "outputs": [],
      "source": [
        "# random forest classification\n",
        "\n",
        "clf = RandomForestClassifier(n_estimators = 100, n_jobs=1, criterion=\"gini\")\n",
        "clf.fit(train, target)\n",
        "results=clf.predict(test)\n",
        "\n",
        "# prepare submit file\n",
        "\n",
        "np.savetxt('results.csv', \n",
        "           np.c_[range(1,len(test)+1),results], \n",
        "           delimiter=',', \n",
        "           header = 'ImageId,Label', \n",
        "           comments = '', \n",
        "           fmt='%d')"
      ]
    },
    {
      "cell_type": "code",
      "execution_count": null,
      "metadata": {
        "id": "u6coZ4gmXa51"
      },
      "outputs": [],
      "source": [
        "# plot some of the numbers\n",
        "\n",
        "figure(figsize(5,5))\n",
        "for digit_num in range(0,64):\n",
        "    subplot(8,8,digit_num+1)\n",
        "    grid_data = train.iloc[digit_num].as_matrix().reshape(28,28)  # reshape from 1d to 2d pixel array\n",
        "    plt.imshow(grid_data, interpolation = \"none\", cmap = \"bone_r\")\n",
        "    xticks([])\n",
        "    yticks([])"
      ]
    },
    {
      "cell_type": "code",
      "execution_count": null,
      "metadata": {
        "id": "UlNZClYKXqLc"
      },
      "outputs": [],
      "source": [
        "# We use this function in order to evaulate a classifier. It trains on a fraction of the data corresponding to \n",
        "# aplit_ratio, and evaulates on the rest of the data\n",
        "\n",
        "def evaluate_classifier(clf, data, target, split_ratio):\n",
        "    trainX, testX, trainY, testY = train_test_split(data, target, train_size=split_ratio, random_state=0)\n",
        "    clf.fit(trainX, trainY)\n",
        "    return clf.score(testX,testY)"
      ]
    },
    {
      "cell_type": "code",
      "execution_count": null,
      "metadata": {
        "id": "JQQbzA85PW57"
      },
      "outputs": [],
      "source": [
        "Analysis of the MNIST dataset\n",
        "In this analysis we will apply the following methods to the MNIST classification problem:\n",
        "\n",
        "1) Random forest classification\n",
        "\n",
        "2) Principal component analysis (PCA) + k-nearest neighbours (kNN)\n",
        "\n",
        "# load the modules\n",
        "\n",
        "import numpy as np\n",
        "import pandas as pd\n",
        "import seaborn as sb\n",
        "sb.set_style(\"dark\")\n",
        "import matplotlib.pyplot as plt\n",
        "\n",
        "from sklearn.ensemble import RandomForestClassifier\n",
        "from sklearn.model_selection import train_test_split\n",
        "from sklearn.neighbors import KNeighborsClassifier\n",
        "from sklearn.decomposition import PCA\n",
        "\n",
        "%pylab inline\n",
        "Populating the interactive namespace from numpy and matplotlib\n",
        "# We use this function in order to evaulate a classifier. It trains on a fraction of the data corresponding to \n",
        "# aplit_ratio, and evaulates on the rest of the data\n",
        "\n",
        "def evaluate_classifier(clf, data, target, split_ratio):\n",
        "    trainX, testX, trainY, testY = train_test_split(data, target, train_size=split_ratio, random_state=0)\n",
        "    clf.fit(trainX, trainY)\n",
        "    return clf.score(testX,testY)\n",
        "# read in the data\n",
        "\n",
        "train = pd.read_csv('../input/train.csv')\n",
        "test  = pd.read_csv('../input/test.csv')\n",
        "target = train[\"label\"]\n",
        "train = train.drop(\"label\",1)\n",
        "# plot some of the numbers\n",
        "\n",
        "figure(figsize(5,5))\n",
        "for digit_num in range(0,64):\n",
        "    subplot(8,8,digit_num+1)\n",
        "    grid_data = train.iloc[digit_num].as_matrix().reshape(28,28)  # reshape from 1d to 2d pixel array\n",
        "    plt.imshow(grid_data, interpolation = \"none\", cmap = \"bone_r\")\n",
        "    xticks([])\n",
        "    yticks([])\n",
        "\n",
        "# check performance of random forest classifier, as function of number of estimators \n",
        "# here we only take 1000 data points to train\n",
        "\n",
        "n_estimators_array = np.array([1,5,10,50,100,200,500])\n",
        "n_samples = 10\n",
        "n_grid = len(n_estimators_array)\n",
        "score_array_mu =np.zeros(n_grid)\n",
        "score_array_sigma = np.zeros(n_grid)\n",
        "j=0\n",
        "for n_estimators in n_estimators_array:\n",
        "    score_array=np.zeros(n_samples)\n",
        "    for i in range(0,n_samples):\n",
        "        clf = RandomForestClassifier(n_estimators = n_estimators, n_jobs=1, criterion=\"gini\")\n",
        "        score_array[i] = evaluate_classifier(clf, train.iloc[0:1000], target.iloc[0:1000], 0.8)\n",
        "    score_array_mu[j], score_array_sigma[j] = mean(score_array), std(score_array)\n",
        "    j=j+1\n",
        "# it looks like the performace saturates around 50-100 estimators\n",
        "\n",
        "figure(figsize(7,3))\n",
        "errorbar(n_estimators_array, score_array_mu, yerr=score_array_sigma, fmt='k.-')\n",
        "xscale(\"log\")\n",
        "xlabel(\"number of estimators\",size = 20)\n",
        "ylabel(\"accuracy\",size = 20)\n",
        "xlim(0.9,600)\n",
        "grid(which=\"both\")\n",
        "\n",
        "Are there any feature that are particularly important? We can check this using clf.feature_importances:\n",
        "\n",
        "importances = clf.feature_importances_\n",
        "indices = np.argsort(importances)[::-1]\n",
        "\n",
        "print(\"Feature ranking:\")\n",
        "for f in range(0,10):\n",
        "    print(\"%d. feature %d (%f)\" % (f + 1, indices[f], importances[indices[f]]))\n",
        "\n",
        "# Plot the feature importances\n",
        "\n",
        "figure(figsize(7,3))\n",
        "plot(indices[:],importances[indices[:]],'k.')\n",
        "yscale(\"log\")\n",
        "xlabel(\"feature\",size=20)\n",
        "ylabel(\"importance\",size=20)\n",
        "Feature ranking:\n",
        "1. feature 409 (0.008988)\n",
        "2. feature 406 (0.008751)\n",
        "3. feature 378 (0.008357)\n",
        "4. feature 433 (0.007776)\n",
        "5. feature 405 (0.007709)\n",
        "6. feature 350 (0.007065)\n",
        "7. feature 347 (0.006894)\n",
        "8. feature 155 (0.006886)\n",
        "9. feature 437 (0.006714)\n",
        "10. feature 377 (0.006212)\n",
        "<matplotlib.text.Text at 0x7fa464ea26d8>\n",
        "\n",
        "It looks like there are no significantly important features (i.e., pixels) in the original data. Next, let us try to decompose the data using a principal component analysis (PCA):\n",
        "\n",
        "pca = PCA(n_components=2)\n",
        "pca.fit(train)\n",
        "transform = pca.transform(train)\n",
        "\n",
        "figure(figsize(6,5))\n",
        "plt.scatter(transform[:,0],transform[:,1], s=20, c = target, cmap = \"nipy_spectral\", edgecolor = \"None\")\n",
        "plt.colorbar()\n",
        "clim(0,9)\n",
        "\n",
        "xlabel(\"PC1\")\n",
        "ylabel(\"PC2\")\n",
        "<matplotlib.text.Text at 0x7fa438c369e8>\n",
        "\n",
        "It is interesting to see how well PCA separates the feature space into visible clusters already for 2 components. Next, let's look at what happens if we increase the number of components in PCA. In particular, we would like to know how many components are needed to capture most of the variance in the data. For this we will use the pca.explained_variance_ratio function.\n",
        "\n",
        "n_components_array=([1,2,3,4,5,10,20,50,100,200,500])\n",
        "vr = np.zeros(len(n_components_array))\n",
        "i=0;\n",
        "for n_components in n_components_array:\n",
        "    pca = PCA(n_components=n_components)\n",
        "    pca.fit(train)\n",
        "    vr[i] = sum(pca.explained_variance_ratio_)\n",
        "    i=i+1    \n",
        "figure(figsize(8,4))\n",
        "plot(n_components_array,vr,'k.-')\n",
        "xscale(\"log\")\n",
        "ylim(9e-2,1.1)\n",
        "yticks(linspace(0.2,1.0,9))\n",
        "xlim(0.9)\n",
        "grid(which=\"both\")\n",
        "xlabel(\"number of PCA components\",size=20)\n",
        "ylabel(\"variance ratio\",size=20)\n",
        "<matplotlib.text.Text at 0x7fa438cdf518>\n",
        "\n",
        "We see that ~100 PCA components are needed to capture ~90% of the variance in the data. This seems a lot of components. Maybe the more important question is: How good is our prediction as a function of number of components? Let's look at this next. We will train a kNN classifier on the PCA output.\n",
        "\n",
        "clf = KNeighborsClassifier()\n",
        "n_components_array=([1,2,3,4,5,10,20,50,100,200,500])\n",
        "score_array = np.zeros(len(n_components_array))\n",
        "i=0\n",
        "\n",
        "for n_components in n_components_array:\n",
        "    pca = PCA(n_components=n_components)\n",
        "    pca.fit(train)\n",
        "    transform = pca.transform(train.iloc[0:1000])\n",
        "    score_array[i] = evaluate_classifier(clf, transform, target.iloc[0:1000], 0.8)\n",
        "    i=i+1\n",
        "figure(figsize(8,4))\n",
        "plot(n_components_array,score_array,'k.-')\n",
        "xscale('log')\n",
        "xlabel(\"number of PCA components\", size=20)\n",
        "ylabel(\"accuracy\", size=20)\n",
        "grid(which=\"both\")\n",
        "\n",
        "The accuracy seems to saturate at ~90% (roughly matching the performance of the random forest classifier) for >~20 PCA components. In fact, the accuracy even seems to drop for much larger numbers, even though a larger number of PCA components captures more of the variance in the data, as seen in the plot above. The drop in accuracy is probably due to overfitting.\n",
        "\n",
        "Finally, we will train on the whole training set and prepare a submit file for the Kaggle competition.\n",
        "\n",
        "# PCA + kNN\n",
        "    \n",
        "pca = PCA(n_components=50)\n",
        "pca.fit(train)\n",
        "transform_train = pca.transform(train)\n",
        "transform_test = pca.transform(test)\n",
        "\n",
        "clf = KNeighborsClassifier()\n",
        "clf.fit(transform_train, target)\n",
        "results=clf.predict(transform_test)\n",
        "\n",
        "# prepare submit file\n",
        "\n",
        "np.savetxt('results.csv', \n",
        "           np.c_[range(1,len(test)+1),results], \n",
        "           delimiter=',', \n",
        "           header = 'ImageId,Label', \n",
        "           comments = '', \n",
        "           fmt='%d')\n",
        "\n",
        "# Kaggle score 0.97343\n",
        "This gives a score on Kaggle of 0.97343 - not too bad! Using the random forest classifier:\n",
        "\n",
        "# random forest classification\n",
        "\n",
        "clf = RandomForestClassifier(n_estimators = 100, n_jobs=1, criterion=\"gini\")\n",
        "clf.fit(train, target)\n",
        "results=clf.predict(test)\n",
        "\n",
        "# prepare submit file\n",
        "\n",
        "np.savetxt('results.csv', \n",
        "           np.c_[range(1,len(test)+1),results], \n",
        "           delimiter=',', \n",
        "           header = 'ImageId,Label', \n",
        "           comments = '', \n",
        "           fmt='%d')\n",
        "\n",
        "# Kaggle score ~0.96\n",
        "This gives a slightly worse score (0.96).\n",
        "\n",
        "Any feedback on my analysis is more than welcome!"
      ]
    },
    {
      "cell_type": "code",
      "execution_count": null,
      "metadata": {
        "id": "aoZX7t_cgVKs"
      },
      "outputs": [],
      "source": [
        "# plot some of the numbers\n",
        "\n",
        "figure(figsize(5,5))\n",
        "\n",
        "for digit_num in range(0,64):\n",
        "    subplot(8,8,digit_num+1)\n",
        "    grid_data = train.iloc[digit_num].as_matrix().reshape(28,28)  # reshape from 1d to 2d pixel array\n",
        "    \n",
        "    plt.imshow(grid_data, interpolation = \"none\", cmap = \"bone_r\")\n",
        "    xticks([])\n",
        "    yticks([])"
      ]
    }
  ],
  "metadata": {
    "colab": {
      "collapsed_sections": [
        "VXtorZ2-4koi"
      ],
      "name": "Digit Recognizer",
      "provenance": [],
      "toc_visible": true,
      "mount_file_id": "1bgsRCwvd0xj840FnwpsH2GTbNuJoICi3",
      "authorship_tag": "ABX9TyOskihkRRS9TzobA73oA0vT",
      "include_colab_link": true
    },
    "kernelspec": {
      "display_name": "Python 3",
      "name": "python3"
    },
    "language_info": {
      "name": "python"
    }
  },
  "nbformat": 4,
  "nbformat_minor": 0
}